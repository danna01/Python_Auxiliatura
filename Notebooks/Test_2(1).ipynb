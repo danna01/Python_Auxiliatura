{
 "cells": [
  {
   "cell_type": "code",
   "execution_count": 17,
   "metadata": {
    "id": "n9AcCmcVQhZz"
   },
   "outputs": [],
   "source": [
    "import pynbody\n",
    "import matplotlib.pyplot as plt\n",
    "import numpy as np\n",
    "from scipy.optimize import curve_fit\n",
    "from scipy import optimize\n",
    "from astropy import units as unit\n",
    "import sys\n",
    "import pickle"
   ]
  },
  {
   "cell_type": "code",
   "execution_count": 18,
   "metadata": {
    "id": "yU3IMeh5QhaQ"
   },
   "outputs": [],
   "source": [
    "#datadir = '/media/juan/Pesquisa/Simulations_Chris_2021'\n",
    "#datadir = '/home/danna01/Desktop/Auxiliatura/Galaxias'\n",
    "data_nuevo = \"/home/danna01/Desktop/Auxiliatura/Galaxias_Nuevas\"\n",
    "data_viejo = \"/home/danna01/Desktop/Auxiliatura/Galaxias_Viejas\"\n",
    "\n",
    "#En esta celda generamos el diccionario para los valores de las galaxias y los limites\n",
    "#Los limites son diferenciados porque el plot utilizara unos valores y los limites de h serán más\n",
    "#restringidos con el objetivo de mejorar el valor de 'h' y a su vez no perder informacion.\n",
    "\n",
    "galaxies = ['G0', 'G1', 'G2','G3']\n",
    "limites_densidad = {'G0':(0,20), 'G1':(0,25), 'G2':(0,20), 'G3':(0,55)}\n",
    "limites = {'G0':(2,6),'G1':(10,15),'G2':(5,10),'G3':(30,40)}\n",
    "\n",
    "minsnap = 0\n",
    "maxsnap = 601\n",
    "stepsnap = 1"
   ]
  },
  {
   "cell_type": "markdown",
   "metadata": {},
   "source": [
    "## 1. Las siguientes celdas definen las funciones para graficar los perfiles de densidad y ajustarlos a una recta"
   ]
  },
  {
   "cell_type": "code",
   "execution_count": 19,
   "metadata": {
    "id": "ijfLF9a3QhaV"
   },
   "outputs": [],
   "source": [
    "# El scale-length del disco de gas\n",
    "# El scale-length del disco estelar"
   ]
  },
  {
   "cell_type": "code",
   "execution_count": 20,
   "metadata": {
    "id": "ocwzUDhUQhaW"
   },
   "outputs": [],
   "source": [
    "# Radial surface density of the disk\n",
    "#Hacer limites diferenciados\n",
    "def density(pos,mass,n,limits):\n",
    "    r       = np.sqrt((pos[:,:2]**2).sum(axis=1)) # Azymutal radius \n",
    "    histo   = np.histogram(r,n,range=limits)\n",
    "    #plt.hist(r,n,range=limits)\n",
    "    bins     = (histo[1][:-1]+histo[1][1:])/2\n",
    "    bn_mass = np.zeros(n)\n",
    "    #Aca sacamos la sumatoria de la masa que esta concentrada en cada una de las barras del histograma.\n",
    "    for i in range(n):\n",
    "            bn_mass[i]      = mass[(r >= histo[1][i])*(histo[1][i+1] > r)].sum()\n",
    "    dens    = bn_mass/(np.pi)/((histo[1][1:])**2-(histo[1][:-1])**2)\n",
    "    return histo,bins,dens"
   ]
  },
  {
   "cell_type": "code",
   "execution_count": 21,
   "metadata": {
    "id": "ufW7YofnQhaX"
   },
   "outputs": [],
   "source": [
    "#esta celda es necesaria para calcular el error cuadrado mínimo para hallar la linea recta que se ajuste\n",
    "#mejor a los datos obtenidos para la densidad superficial\n",
    "def fit_exponential(x,y,limits):\n",
    "    mask = (x >= limits[0])*(x <= limits[1])\n",
    "    x = x[mask]\n",
    "    y = y[mask]\n",
    "    y = np.log10(y)\n",
    "    # initial guess (punto inicial aproximado necesario para que la funcion de minimo cuadrado pueda funcionar)\n",
    "    m_0 = (y[-1] - y[0])/(x[-1] - x[0])\n",
    "    b_0 = y[0] - m_0*x[0]\n",
    "    errfun  = lambda p: np.ravel(p[0]*x[:]+p[1]-y[:])\n",
    "    fitparam = optimize.leastsq(errfun,[m_0,b_0],full_output=1)[0]\n",
    "    m = fitparam[0]\n",
    "    b = fitparam[1]\n",
    "    return m,b"
   ]
  },
  {
   "cell_type": "code",
   "execution_count": 22,
   "metadata": {
    "id": "b50nTHbPQhaa"
   },
   "outputs": [],
   "source": [
    "#esta celda simplemente funciona para definir todos los parametros de las graficas que son generadas para cada \n",
    "#snapshot y pues para cada tipo de dato (estrella, gas, etc.)\n",
    "def plot_exponential(bins,dens,m,b,filename):\n",
    "    R = (-1./m)*np.log10(np.e)\n",
    "    fig = plt.figure(figsize=(10, 7))\n",
    "#importante: el calculo del valor de 'h'\n",
    "    plt.plot(bins, np.log10(dens), 'r.', Label = 'h = {a:3.2f}'.format(a = R))\n",
    "    plt.plot(bins,m*bins+b,'-k')\n",
    "    plt.legend(fontsize = 20, loc=0)\n",
    "    plt.title('Perfil de densidad superficial', fontsize = 18)\n",
    "    plt.xlabel('Radio [Kpc]', fontsize = 20)\n",
    "    plt.ylabel(r'$\\rho$ [$1x10^{10}$ Msol/$kpc^{2}$]', fontsize = 20)\n",
    "    plt.grid()\n",
    "    plt.savefig(filename)\n",
    "    plt.clf()\n",
    "    plt.close()"
   ]
  },
  {
   "cell_type": "markdown",
   "metadata": {},
   "source": [
    "## 2. Estas funciones calculan la curva de rotación de las partículas de gas, y su máximo"
   ]
  },
  {
   "cell_type": "code",
   "execution_count": 23,
   "metadata": {},
   "outputs": [],
   "source": [
    "# Radio azimutal \n",
    "def RGas(data):\n",
    "    Rg = np.sqrt(data.gas['pos'][:,0]**2 + data.gas['pos'][:,1]**2)\n",
    "    return Rg"
   ]
  },
  {
   "cell_type": "code",
   "execution_count": 24,
   "metadata": {},
   "outputs": [],
   "source": [
    "# Velocidad tangencial\n",
    "def Vcartesian2polar(pos,vel):\n",
    "    Vtan    = np.zeros(pos.shape[0])\n",
    "    Vrad    = np.zeros(pos.shape[0])\n",
    "    norm    = np.sqrt(pos[:,0]**2+pos[:,1]**2)\n",
    "    Vtan    = (vel[:,1]*pos[:,0]-vel[:,0]*pos[:,1])/norm\n",
    "    Vrad    = (vel[:,0]*pos[:,0]+vel[:,1]*pos[:,1])/norm\n",
    "    return Vtan,Vrad"
   ]
  },
  {
   "cell_type": "code",
   "execution_count": 25,
   "metadata": {},
   "outputs": [],
   "source": [
    "# Dada una secuencia de puntos, que serán los extremos\n",
    "# de las casillas de los bins de un histograma, saca los puntos medios\n",
    "# de cada casilla como referencia\n",
    "def radios(points):\n",
    "    radii     = (points[:-1]+points[1:])/2\n",
    "    return radii "
   ]
  },
  {
   "cell_type": "code",
   "execution_count": 26,
   "metadata": {},
   "outputs": [],
   "source": [
    "# Función que retorna la curva de rotación para las partículas\n",
    "# de gas en una galaxia tipo disco en rotación. \n",
    "# Lo hace con bins circulares, tomando en cada bin la media de\n",
    "# las velocidades tangenciales, pero ponderada por la masa de cada partícula\n",
    "# Es decir, en cada bin define:\n",
    "# <V_cir> = Sum(V_tan * mass) / Sum(mass)\n",
    "\n",
    "def RotCurvGas(data,points):\n",
    "    a = np.histogram(RGas(data), bins=points,  weights= Vcartesian2polar(data.gas[\"pos\"],data.gas[\"vel\"])[0]*data.gas['mass'])\n",
    "    b = np.histogram(RGas(data), bins=points,  weights= data.gas['mass'])\n",
    "    Vel = (a[0]/b[0])\n",
    "    return a[1][0:len(points)-1],Vel"
   ]
  },
  {
   "cell_type": "code",
   "execution_count": 27,
   "metadata": {},
   "outputs": [],
   "source": [
    "# Calcula la curva de rotacion, la grafica y almacena la figura\n",
    "# Returna el valor máximo de la curva de rotación\n",
    "def plot_rot_curve(gal,data,filename):\n",
    "    r_bins = np.arange(limites_densidad['G0'][0],limites_densidad['G0'][1],0.5)\n",
    "    Vel = RotCurvGas(data,r_bins)[1]\n",
    "    r = radios(r_bins)\n",
    "    plt.plot(r,Vel)\n",
    "    \n",
    "    fig = plt.figure(figsize=(10, 7))\n",
    "    plt.plot(r,Vel)\n",
    "    plt.title('Curva de rotación del gas', fontsize = 18)\n",
    "    plt.xlabel('Radio [Kpc]', fontsize = 20)\n",
    "    plt.ylabel(r'V_{circular}$ [km / s]', fontsize = 20)\n",
    "    plt.grid()\n",
    "    plt.savefig(filename)\n",
    "    plt.clf()\n",
    "    plt.close()\n",
    "    \n",
    "    return np.nanmax(Vel)"
   ]
  },
  {
   "cell_type": "markdown",
   "metadata": {},
   "source": [
    "## Las siguientes funciones compilan la información para todos los snapshots de una cierta galaxia"
   ]
  },
  {
   "cell_type": "code",
   "execution_count": 38,
   "metadata": {},
   "outputs": [],
   "source": [
    "def compile_data(origin,gal,minsnap,maxsnap,stepsnap):\n",
    "    dicti = {}\n",
    "    for snap in np.arange(minsnap,maxsnap,stepsnap): \n",
    "        snap = str(snap).zfill(3)\n",
    "        dicti[snap] = {}\n",
    "        \n",
    "        data = pynbody.load(origin+'/'+gal+'/snapshot_'+snap+'.hdf5')\n",
    "            \n",
    "            # ESTO ES NUEVO, PARA SABER LA VELOCIDAD MÁXIMA DE LA CURVA DE ROTACIÓN\n",
    "        V_max = plot_rot_curve(gal,data,filename='plots/'+gal+'_rotcurve_'+snap+'.jpg')\n",
    "        dicti[snap]['Vmax'] = V_max\n",
    "            \n",
    "        N_star = data.star['mass'].size\n",
    "        dicti[snap]['Nstar'] = N_star\n",
    "\n",
    "        histo,bins,dens = density(data.gas['pos'],data.gas['mass'],n=20,limits=limites_densidad[gal])\n",
    "        m,b = fit_exponential(bins,dens,limits=limites[gal])\n",
    "        plot_exponential(bins,dens,m,b,filename='plots/'+gal+'_gas_'+snap+'.jpg')\n",
    "        dicti[snap]['h_gas'] = -1/m*np.log10(np.e)\n",
    "        \n",
    "        histo,bins,dens = density(data.star['pos'],data.star['mass'],n=20,limits=limites_densidad[gal])\n",
    "        m,b = fit_exponential(bins,dens,limits=limites[gal])\n",
    "        plot_exponential(bins,dens,m,b,filename='plots/'+gal+'_star_'+snap+'.jpg')\n",
    "        dicti[snap]['h_star'] = -1/m*np.log10(np.e)\n",
    "            \n",
    "    return dicti"
   ]
  },
  {
   "cell_type": "code",
   "execution_count": 39,
   "metadata": {},
   "outputs": [],
   "source": [
    "# Finalizada la compilación de datos en un diccionario\n",
    "# Aqui se extraen los valores de cada cantidad secuencialmente\n",
    "def extract_qtt(dictionary,quantity):\n",
    "    if quantity == 'snapshots':\n",
    "        lista = [np.float(key) for key in dictionary.keys()]\n",
    "    else:\n",
    "        # list comprehension\n",
    "        lista = [dictionary[str(snap).zfill(3)][quantity] for snap in dictionary.keys()]\n",
    "    return lista"
   ]
  },
  {
   "cell_type": "code",
   "execution_count": 40,
   "metadata": {},
   "outputs": [],
   "source": [
    "def show_results(dicti,gal):\n",
    "    snapshots = extract_qtt(dicti,'snapshots')\n",
    "    h0_gas = extract_qtt(dicti,'h_gas')\n",
    "    h0_star = extract_qtt(dicti,'h_star')\n",
    "    N_star = extract_qtt(dicti,'Nstar')\n",
    "    Vmax = extract_qtt(dicti,'Vmax')\n",
    "    \n",
    "    plt.figure(figsize=(12,4))\n",
    "    \n",
    "    plt.subplot(131)\n",
    "    plt.hist(h0_gas,bins=5,color='green')\n",
    "    plt.title(gal + '  h0 GAS')\n",
    "    plt.plot\n",
    "    \n",
    "    #plt.figure()\n",
    "    plt.subplot(132)\n",
    "    plt.hist(h0_star,bins=5,color='orange')\n",
    "    plt.title(gal + '  h0 STARS')\n",
    "    \n",
    "    plt.subplot(133)\n",
    "    plt.hist(h0_star,bins=5,color='red')\n",
    "    plt.title(gal + '  Max Velocity')"
   ]
  },
  {
   "cell_type": "code",
   "execution_count": 31,
   "metadata": {},
   "outputs": [],
   "source": [
    "#super_dict = {}\n",
    "#for gal in galaxies:\n",
    "    #super_dict[gal] = compile_data(datadir,gal,minsnap,maxsnap,stepsnap)"
   ]
  },
  {
   "cell_type": "code",
   "execution_count": 41,
   "metadata": {
    "id": "qupPekoxQha-",
    "outputId": "8515ec61-a32e-4a78-99f5-2169fcd4c735"
   },
   "outputs": [],
   "source": [
    "# Así lo leemos después de haberlo almacenado\n",
    "# Va a quedar importado en la variable 'dictionary_cargado'\n",
    "file = open('compilation_new', 'rb')\n",
    "super_dict = pickle.load(file)\n",
    "file.close()"
   ]
  },
  {
   "cell_type": "code",
   "execution_count": 42,
   "metadata": {},
   "outputs": [
    {
     "name": "stderr",
     "output_type": "stream",
     "text": [
      "<ipython-input-39-3a4eab50aae3>:5: DeprecationWarning: `np.float` is a deprecated alias for the builtin `float`. To silence this warning, use `float` by itself. Doing this will not modify any behavior and is safe. If you specifically wanted the numpy scalar type, use `np.float64` here.\n",
      "Deprecated in NumPy 1.20; for more details and guidance: https://numpy.org/devdocs/release/1.20.0-notes.html#deprecations\n",
      "  lista = [np.float(key) for key in dictionary.keys()]\n"
     ]
    },
    {
     "ename": "KeyError",
     "evalue": "'h_gas'",
     "output_type": "error",
     "traceback": [
      "\u001b[0;31m---------------------------------------------------------------------------\u001b[0m",
      "\u001b[0;31mKeyError\u001b[0m                                  Traceback (most recent call last)",
      "\u001b[0;32m<ipython-input-42-e66745ea7653>\u001b[0m in \u001b[0;36m<module>\u001b[0;34m\u001b[0m\n\u001b[1;32m      1\u001b[0m \u001b[0;32mfor\u001b[0m \u001b[0mgal\u001b[0m \u001b[0;32min\u001b[0m \u001b[0mgalaxies\u001b[0m\u001b[0;34m:\u001b[0m\u001b[0;34m\u001b[0m\u001b[0;34m\u001b[0m\u001b[0m\n\u001b[0;32m----> 2\u001b[0;31m     \u001b[0mshow_results\u001b[0m\u001b[0;34m(\u001b[0m\u001b[0msuper_dict\u001b[0m\u001b[0;34m[\u001b[0m\u001b[0mgal\u001b[0m\u001b[0;34m]\u001b[0m\u001b[0;34m,\u001b[0m\u001b[0mgal\u001b[0m\u001b[0;34m)\u001b[0m\u001b[0;34m\u001b[0m\u001b[0;34m\u001b[0m\u001b[0m\n\u001b[0m",
      "\u001b[0;32m<ipython-input-40-a7910dd92447>\u001b[0m in \u001b[0;36mshow_results\u001b[0;34m(dicti, gal)\u001b[0m\n\u001b[1;32m      1\u001b[0m \u001b[0;32mdef\u001b[0m \u001b[0mshow_results\u001b[0m\u001b[0;34m(\u001b[0m\u001b[0mdicti\u001b[0m\u001b[0;34m,\u001b[0m\u001b[0mgal\u001b[0m\u001b[0;34m)\u001b[0m\u001b[0;34m:\u001b[0m\u001b[0;34m\u001b[0m\u001b[0;34m\u001b[0m\u001b[0m\n\u001b[1;32m      2\u001b[0m     \u001b[0msnapshots\u001b[0m \u001b[0;34m=\u001b[0m \u001b[0mextract_qtt\u001b[0m\u001b[0;34m(\u001b[0m\u001b[0mdicti\u001b[0m\u001b[0;34m,\u001b[0m\u001b[0;34m'snapshots'\u001b[0m\u001b[0;34m)\u001b[0m\u001b[0;34m\u001b[0m\u001b[0;34m\u001b[0m\u001b[0m\n\u001b[0;32m----> 3\u001b[0;31m     \u001b[0mh0_gas\u001b[0m \u001b[0;34m=\u001b[0m \u001b[0mextract_qtt\u001b[0m\u001b[0;34m(\u001b[0m\u001b[0mdicti\u001b[0m\u001b[0;34m,\u001b[0m\u001b[0;34m'h_gas'\u001b[0m\u001b[0;34m)\u001b[0m\u001b[0;34m\u001b[0m\u001b[0;34m\u001b[0m\u001b[0m\n\u001b[0m\u001b[1;32m      4\u001b[0m     \u001b[0mh0_star\u001b[0m \u001b[0;34m=\u001b[0m \u001b[0mextract_qtt\u001b[0m\u001b[0;34m(\u001b[0m\u001b[0mdicti\u001b[0m\u001b[0;34m,\u001b[0m\u001b[0;34m'h_star'\u001b[0m\u001b[0;34m)\u001b[0m\u001b[0;34m\u001b[0m\u001b[0;34m\u001b[0m\u001b[0m\n\u001b[1;32m      5\u001b[0m     \u001b[0mN_star\u001b[0m \u001b[0;34m=\u001b[0m \u001b[0mextract_qtt\u001b[0m\u001b[0;34m(\u001b[0m\u001b[0mdicti\u001b[0m\u001b[0;34m,\u001b[0m\u001b[0;34m'Nstar'\u001b[0m\u001b[0;34m)\u001b[0m\u001b[0;34m\u001b[0m\u001b[0;34m\u001b[0m\u001b[0m\n",
      "\u001b[0;32m<ipython-input-39-3a4eab50aae3>\u001b[0m in \u001b[0;36mextract_qtt\u001b[0;34m(dictionary, quantity)\u001b[0m\n\u001b[1;32m      6\u001b[0m     \u001b[0;32melse\u001b[0m\u001b[0;34m:\u001b[0m\u001b[0;34m\u001b[0m\u001b[0;34m\u001b[0m\u001b[0m\n\u001b[1;32m      7\u001b[0m         \u001b[0;31m# list comprehension\u001b[0m\u001b[0;34m\u001b[0m\u001b[0;34m\u001b[0m\u001b[0;34m\u001b[0m\u001b[0m\n\u001b[0;32m----> 8\u001b[0;31m         \u001b[0mlista\u001b[0m \u001b[0;34m=\u001b[0m \u001b[0;34m[\u001b[0m\u001b[0mdictionary\u001b[0m\u001b[0;34m[\u001b[0m\u001b[0mstr\u001b[0m\u001b[0;34m(\u001b[0m\u001b[0msnap\u001b[0m\u001b[0;34m)\u001b[0m\u001b[0;34m.\u001b[0m\u001b[0mzfill\u001b[0m\u001b[0;34m(\u001b[0m\u001b[0;36m3\u001b[0m\u001b[0;34m)\u001b[0m\u001b[0;34m]\u001b[0m\u001b[0;34m[\u001b[0m\u001b[0mquantity\u001b[0m\u001b[0;34m]\u001b[0m \u001b[0;32mfor\u001b[0m \u001b[0msnap\u001b[0m \u001b[0;32min\u001b[0m \u001b[0mdictionary\u001b[0m\u001b[0;34m.\u001b[0m\u001b[0mkeys\u001b[0m\u001b[0;34m(\u001b[0m\u001b[0;34m)\u001b[0m\u001b[0;34m]\u001b[0m\u001b[0;34m\u001b[0m\u001b[0;34m\u001b[0m\u001b[0m\n\u001b[0m\u001b[1;32m      9\u001b[0m     \u001b[0;32mreturn\u001b[0m \u001b[0mlista\u001b[0m\u001b[0;34m\u001b[0m\u001b[0;34m\u001b[0m\u001b[0m\n",
      "\u001b[0;32m<ipython-input-39-3a4eab50aae3>\u001b[0m in \u001b[0;36m<listcomp>\u001b[0;34m(.0)\u001b[0m\n\u001b[1;32m      6\u001b[0m     \u001b[0;32melse\u001b[0m\u001b[0;34m:\u001b[0m\u001b[0;34m\u001b[0m\u001b[0;34m\u001b[0m\u001b[0m\n\u001b[1;32m      7\u001b[0m         \u001b[0;31m# list comprehension\u001b[0m\u001b[0;34m\u001b[0m\u001b[0;34m\u001b[0m\u001b[0;34m\u001b[0m\u001b[0m\n\u001b[0;32m----> 8\u001b[0;31m         \u001b[0mlista\u001b[0m \u001b[0;34m=\u001b[0m \u001b[0;34m[\u001b[0m\u001b[0mdictionary\u001b[0m\u001b[0;34m[\u001b[0m\u001b[0mstr\u001b[0m\u001b[0;34m(\u001b[0m\u001b[0msnap\u001b[0m\u001b[0;34m)\u001b[0m\u001b[0;34m.\u001b[0m\u001b[0mzfill\u001b[0m\u001b[0;34m(\u001b[0m\u001b[0;36m3\u001b[0m\u001b[0;34m)\u001b[0m\u001b[0;34m]\u001b[0m\u001b[0;34m[\u001b[0m\u001b[0mquantity\u001b[0m\u001b[0;34m]\u001b[0m \u001b[0;32mfor\u001b[0m \u001b[0msnap\u001b[0m \u001b[0;32min\u001b[0m \u001b[0mdictionary\u001b[0m\u001b[0;34m.\u001b[0m\u001b[0mkeys\u001b[0m\u001b[0;34m(\u001b[0m\u001b[0;34m)\u001b[0m\u001b[0;34m]\u001b[0m\u001b[0;34m\u001b[0m\u001b[0;34m\u001b[0m\u001b[0m\n\u001b[0m\u001b[1;32m      9\u001b[0m     \u001b[0;32mreturn\u001b[0m \u001b[0mlista\u001b[0m\u001b[0;34m\u001b[0m\u001b[0;34m\u001b[0m\u001b[0m\n",
      "\u001b[0;31mKeyError\u001b[0m: 'h_gas'"
     ]
    }
   ],
   "source": [
    "for gal in galaxies:\n",
    "    show_results(super_dict[gal],gal)"
   ]
  },
  {
   "cell_type": "code",
   "execution_count": null,
   "metadata": {},
   "outputs": [],
   "source": [
    "# Con estas líneas vamos a salvar el diccionario directamente en un formato de python\n",
    "# para que las próximas veces podamos simplemente leerlo, sin tener que volver a\n",
    "# hacer toooda la compilación leyendo directo de los snapshots\n",
    "# Va a quedar guardado con el numbre de archivo: 'compilation'\n",
    "#import pickle\n",
    "\n",
    "#file = open('compilation', 'wb')\n",
    "#pickle.dump(super_dict, file)\n",
    "#file.close()\n"
   ]
  },
  {
   "cell_type": "code",
   "execution_count": 34,
   "metadata": {},
   "outputs": [
    {
     "name": "stdout",
     "output_type": "stream",
     "text": [
      "{'G0': {'100': {}, '300': {}, '500': {}}, 'G1': {'100': {}, '300': {}, '500': {}}}\n"
     ]
    }
   ],
   "source": [
    "print(super_dict)"
   ]
  },
  {
   "cell_type": "code",
   "execution_count": null,
   "metadata": {},
   "outputs": [],
   "source": []
  }
 ],
 "metadata": {
  "colab": {
   "collapsed_sections": [],
   "name": "Test_1.ipynb",
   "provenance": []
  },
  "kernelspec": {
   "display_name": "Python 3",
   "language": "python",
   "name": "python3"
  },
  "language_info": {
   "codemirror_mode": {
    "name": "ipython",
    "version": 3
   },
   "file_extension": ".py",
   "mimetype": "text/x-python",
   "name": "python",
   "nbconvert_exporter": "python",
   "pygments_lexer": "ipython3",
   "version": "3.8.5"
  }
 },
 "nbformat": 4,
 "nbformat_minor": 1
}
