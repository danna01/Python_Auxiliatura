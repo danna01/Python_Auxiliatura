{
 "cells": [
  {
   "cell_type": "code",
   "execution_count": 2,
   "metadata": {},
   "outputs": [],
   "source": [
    "#importamos las herramientas necesarias\n",
    "import pynbody\n",
    "import matplotlib.pyplot as plt\n",
    "import numpy as np\n",
    "from scipy.optimize import curve_fit\n",
    "from scipy import optimize\n",
    "import scipy.stats\n",
    "from astropy import units as unit\n",
    "import sys\n",
    "from matplotlib.animation import FuncAnimation\n",
    "import funciones_dark_matter as fnd"
   ]
  },
  {
   "cell_type": "code",
   "execution_count": 3,
   "metadata": {},
   "outputs": [],
   "source": [
    "#importamos los datos\n",
    "data_nuevo = '/media/danna01/Disk/SNAPSHOTS/Galaxias_Nuevas'\n",
    "data_viejo = '/media/danna01/Disk/SNAPSHOTS/Galaxias_Viejas'\n",
    "#datadir = '/media/juan/Pesquisa/Simulations_Chris_2021'"
   ]
  },
  {
   "cell_type": "code",
   "execution_count": 4,
   "metadata": {},
   "outputs": [],
   "source": [
    "# Estos son los diccionarios que definen los limites que seran utilizados para los plots de las galaxias para los\n",
    "# calculos de densidad de materia oscura y la masa acumulada a diferentes radios para la amteria oscura tambien\n",
    "dicti = {}\n",
    "galaxies = ['G0', 'G1', 'G2', 'G3']\n",
    "# Estos son los limites para graficar la masa acumulada y la densidad; sus valores corresponden a 10 veces el valor\n",
    "# del scale - lenght de cada galaxia.\n",
    "limites_star = {'G0':(0,22), 'G1':(0,30), 'G2':(0,38), 'G3':(0,56)} #kpc\n",
    "# Aca observamos los limites que se usaran para calcular el valor de 'h' que nos indicara que tan bueno es el ajuste\n",
    "# limites --> De que dependen?"
   ]
  },
  {
   "cell_type": "code",
   "execution_count": 6,
   "metadata": {},
   "outputs": [
    {
     "data": {
      "text/plain": [
       "22"
      ]
     },
     "execution_count": 6,
     "metadata": {},
     "output_type": "execute_result"
    }
   ],
   "source": [
    "limites_star['G0'][1]"
   ]
  },
  {
   "cell_type": "code",
   "execution_count": 7,
   "metadata": {},
   "outputs": [],
   "source": [
    "# Masa acumulada de materia oscura\n",
    "def accumulated_mass(posnew,massnew,posold, massold,n,limits):\n",
    "    # Para las simulaciones nuevas\n",
    "    rnew = np.sqrt((posnew[:,:2]**2).sum(axis=1))\n",
    "    # histograma acumulado\n",
    "    histo_acum_new = scipy.stats.cumfreq(rnew, n, limits, weights=massnew)\n",
    "    # hallamos los radios manualmente\n",
    "    positionsnew = histo_acum_new[1]+ np.arange(1,n+1) * histo_acum_new[2]\n",
    "    # Para las simulaciones viejas\n",
    "    rold = np.sqrt((posold[:,:2]**2).sum(axis=1))\n",
    "    histo_acum_old = scipy.stats.cumfreq(rold, n, limits, weights=massold)\n",
    "    positionsold = histo_acum_old[1]+ np.arange(1,n+1) * histo_acum_old[2]\n",
    "    \n",
    "    return positionsnew, histo_acum_new[0], positionsold, histo_acum_old[0]"
   ]
  },
  {
   "cell_type": "code",
   "execution_count": null,
   "metadata": {},
   "outputs": [],
   "source": [
    "# Plots masa acumulada.\n",
    "def plot_mass(binsnew,massnew,binsold,massold,filename):\n",
    "    fig = plt.figure(figsize=(10, 7))\n",
    "    \n",
    "    plt.plot(binsnew,massnew,'-k',label= 'New Galaxies')\n",
    "    plt.plot(binsold,massold,'-r', label= 'Old Galaxies')\n",
    "    \n",
    "    plt.title('Masa acumulada de la Materia Oscura', fontsize= 18)\n",
    "    plt.xlabel('Radio [Kpc]',fontsize=20)\n",
    "    plt.ylabel('Masa Acumulada (Msol)')\n",
    "    plt.legend()\n",
    "    plt.grid()\n",
    "    plt.savefig(filename)\n",
    "    plt.clf()\n",
    "    plt.close()"
   ]
  },
  {
   "cell_type": "code",
   "execution_count": null,
   "metadata": {},
   "outputs": [],
   "source": [
    "def plot_acumulado()"
   ]
  },
  {
   "cell_type": "code",
   "execution_count": null,
   "metadata": {},
   "outputs": [],
   "source": [
    "# Generacion de plots.\n",
    "minsnap = 100\n",
    "maxsnap = 700\n",
    "stepsnap = 200\n",
    "\n",
    "# definimos la fuente de los datos, para esto usamos los diccionarios que definimos mas arriba\n",
    "for gal in ['G0','G1']:\n",
    "    for snap in np.arange(minsnap,maxsnap,stepsnap): \n",
    "        snap = str(snap).zfill(3)\n",
    "        # Aca definimos la ruta en la cual estan almacenados los snapshots\n",
    "        data_nuevo_ruta = pynbody.load(data_nuevo+'/'+gal+'/snapshot_'+snap+'.hdf5')\n",
    "        data_viejo_ruta = pynbody.load(data_viejo+'/'+gal+'/snapshot_'+snap+'.hdf5')\n",
    "        \n",
    "        \n",
    "        # Aca vamos a generar cada uno de los plots, para lo cual primero debemos definir\n",
    "        # cada una de las funciones de masa acumulada y densidad.\n",
    "        bins_new, mass_new, bins_old, mass_old = accumulated_mass(data_nuevo_ruta.dm['pos'],data_nuevo_ruta.dm['mass'],data_viejo_ruta.dm['pos'],data_viejo_ruta.dm['mass'],n=int(limites_materia_oscura[gal][1]*5),limits=limites_materia_oscura[gal])\n",
    "        \n",
    "        bins_middle_new, shell_mass_new, dens_new, bins_middle_old, shell_mass_old, dens_old  = density_dm(bins_new, mass_new, bins_old, mass_old)\n",
    "      \n",
    "        plot_mass(bins_new,mass_new,bins_old,mass_old,filename='Materia_oscura/Comparaciones/Materia_Oscura_Acumulada_'+gal+'_dm_'+snap+'.jpg')\n",
    "        \n",
    "        plot_density(bins_middle_new,dens_new,bins_middle_old,dens_old,filename='Materia_oscura/Comparaciones/Materia_Oscura_Densidad_'+gal+'_dm_'+snap+'.jpg')"
   ]
  }
 ],
 "metadata": {
  "kernelspec": {
   "display_name": "Python 3",
   "language": "python",
   "name": "python3"
  },
  "language_info": {
   "codemirror_mode": {
    "name": "ipython",
    "version": 3
   },
   "file_extension": ".py",
   "mimetype": "text/x-python",
   "name": "python",
   "nbconvert_exporter": "python",
   "pygments_lexer": "ipython3",
   "version": "3.8.5"
  }
 },
 "nbformat": 4,
 "nbformat_minor": 4
}
