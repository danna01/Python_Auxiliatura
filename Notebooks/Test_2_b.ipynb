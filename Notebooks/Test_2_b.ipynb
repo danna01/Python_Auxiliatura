{
 "cells": [
  {
   "cell_type": "markdown",
   "metadata": {},
   "source": [
    "# **Datos iniciales**"
   ]
  },
  {
   "cell_type": "code",
   "execution_count": 2,
   "metadata": {},
   "outputs": [],
   "source": [
    "# En primer lugar importamos todas las librerias que vamos a utilizar en el notebook\n",
    "import pynbody\n",
    "import matplotlib.pyplot as plt\n",
    "import numpy as np\n",
    "from scipy.optimize import curve_fit\n",
    "from scipy import optimize\n",
    "from astropy import units as unit\n",
    "import sys\n",
    "import pickle"
   ]
  },
  {
   "cell_type": "code",
   "execution_count": 3,
   "metadata": {},
   "outputs": [],
   "source": [
    "# Generamos todas las rutas en donde tenemos la informacion requerida \n",
    "# Las rutas que no seran usadas a la hora de correr el notebook deben ser fijadas como COMENTARIOS\n",
    "\n",
    "#datadir = '/media/juan/Pesquisa/Simulations_Chris_2021'\n",
    "#datadir = '/home/danna01/Desktop/Auxiliatura/Galaxias'\n",
    "#data_nuevo = '/media/danna01/Disk/SNAPSHOTS/Galaxias_Nuevas'\n",
    "#data_viejo = '/media/danna01/Disk/SNAPSHOTS/Galaxias_Viejas'\n",
    "data_nuevo = '/media/juan/Pesquisa/Simulations_Chris_2021'\n",
    "data_viejo = '/media/juan/Pesquisa/Pesquisa/SNAPSHOTS'"
   ]
  },
  {
   "cell_type": "code",
   "execution_count": 4,
   "metadata": {},
   "outputs": [],
   "source": [
    "#Estos son los diccionarios que definen los limites que seran utilizados para los plots de las galaxias para los\n",
    "#calculos de densidad superficial radial para estrellas y para gases y para el calculo de la curva de rotacion\n",
    "dicti = {}\n",
    "\n",
    "galaxies = ['G0','G1', 'G2', 'G3']\n",
    "#limites para graficar los plots\n",
    "limites_densidad = {'G0':(0,20), 'G1':(0,25), 'G2':(0,20), 'G3':(0,55)}\n",
    "#limites para calcular la h para el plot de estrellas y el de gas\n",
    "limites_star = {'G0':(1.1,3.3),'G1':(1.5,4.5),'G2':(1.9,5.7),'G3':(2.8,8.4)}\n",
    "limites_gas = {'G0':(3.3,9.9),'G1':(4.5,13.5),'G2':(5.7,17.1),'G3':(8.4,25.2)}\n",
    "#limites en el eje y para los plots de gas, estrellas y para la curva de rotacion\n",
    "limites_ejey_gas = {'G0':(-10, -2),'G1':(-6,-2),'G2':(-6,-2),'G3':(-6,-2)}\n",
    "limites_ejey_star = {'G0':(-10, -2),'G1':(-10,0),'G2':(-6,0),'G3':(-10,0)}\n",
    "limites_ejey_vel = {'G0':(-50, 120),'G1':(0,140),'G2':(0,180),'G3':(0,210)}"
   ]
  },
  {
   "cell_type": "markdown",
   "metadata": {},
   "source": [
    "## FUNCIONES"
   ]
  },
  {
   "cell_type": "markdown",
   "metadata": {},
   "source": [
    "### Perfiles de densidad superficial de gas y estrellas"
   ]
  },
  {
   "cell_type": "code",
   "execution_count": 5,
   "metadata": {},
   "outputs": [],
   "source": [
    "# El scale-length del disco de gas\n",
    "# El scale-length del disco estelar"
   ]
  },
  {
   "cell_type": "code",
   "execution_count": 6,
   "metadata": {},
   "outputs": [],
   "source": [
    "# En esta celda, vamos a calcular los puntos intermedios de los radios de los anillos a partir de los cuales \n",
    "# vamos a hacer los calculos. En equivalencia con las barras de los histogramas, estariamos hallando el punto\n",
    "# medio de cada una de estas barras.\n",
    "\n",
    "# Radial surface density of the disk\n",
    "# Hacer limites diferenciados (Para mas claridad refierase a la segunda linea del notebook)\n",
    "def density(pos,mass,n,limits):\n",
    "    r       = np.sqrt((pos[:,:2]**2).sum(axis=1)) # Azymutal radius \n",
    "    histo   = np.histogram(r,n,range=limits)\n",
    "    #plt.hist(r,n,range=limits)\n",
    "    bins     = (histo[1][:-1]+histo[1][1:])/2\n",
    "    bn_mass = np.zeros(n)\n",
    "    # Aca sacamos la sumatoria de la masa que esta concentrada en cada una de las barras del histograma.\n",
    "    for i in range(n):\n",
    "            bn_mass[i]      = mass[(r >= histo[1][i])*(histo[1][i+1] > r)].sum()\n",
    "    dens    = bn_mass/(np.pi)/((histo[1][1:])**2-(histo[1][:-1])**2)\n",
    "    return histo,bins,dens"
   ]
  },
  {
   "cell_type": "code",
   "execution_count": 7,
   "metadata": {},
   "outputs": [],
   "source": [
    "# esta celda es necesaria para calcular el error cuadrado mínimo para hallar la linea recta que se ajuste\n",
    "# mejor a los datos obtenidos para la densidad superficial\n",
    "\n",
    "def fit_exponential(x,y,limits):\n",
    "    # Con la siguiente linea nos aseguramos de que los datos que tomemos para X esten en el intervalo que\n",
    "    # definimos anteriormente, la multiplicacion es porque se considera que si ambos son verdaderos dara 1 y\n",
    "    # seran considerados y si da cero, seran omitidos (en caso de que no cumpla con ambas condiciones)\n",
    "    mask = (x >= limits[0])*(x <= limits[1])\n",
    "    x = x[mask]\n",
    "    y = y[mask]\n",
    "    y = np.log10(y)\n",
    "    # initial guess (punto inicial aproximado necesario para que la funcion de minimo cuadrado pueda funcionar)\n",
    "    m_0 = (y[-1] - y[0])/(x[-1] - x[0])\n",
    "    b_0 = y[0] - m_0*x[0]\n",
    "    # Aca definimos la funcion de error y aplicamos el minimo cuadrado para hallar la funcion que mejor se acomode\n",
    "    errfun  = lambda p: np.ravel(p[0]*x[:]+p[1]-y[:])\n",
    "    fitparam = optimize.leastsq(errfun,[m_0,b_0],full_output=1)[0]\n",
    "    m = fitparam[0]\n",
    "    b = fitparam[1]\n",
    "    return m,b"
   ]
  },
  {
   "cell_type": "code",
   "execution_count": 8,
   "metadata": {},
   "outputs": [],
   "source": [
    "# esta celda simplemente funciona para definir todos los parametros de las graficas que son generadas para cada \n",
    "# snapshot y pues para cada tipo de dato (estrella, gas, etc.)\n",
    "# Note que las funciones son de caracter exponencial y logaritmico.\n",
    "def plot_exponential(bins,dens,m,b,filename):\n",
    "    R = (-1./m)*np.log10(np.e)\n",
    "    fig = plt.figure(figsize=(10, 7))\n",
    "# importante: el calculo del valor de 'h'\n",
    "# Para calcular el valor de h se consideran limites diferenciamos que permitan un calculo en regiones de la grafica\n",
    "# mas lineales, para un mejor arreglo\n",
    "    plt.plot(bins, np.log10(dens), 'r.', label = 'h = {a:3.2f}'.format(a = R))\n",
    "    plt.plot(bins,m*bins+b,'-k')\n",
    "    plt.legend(fontsize = 20, loc=0)\n",
    "    plt.title('Perfil de densidad superficial', fontsize = 18)\n",
    "    plt.xlabel('Radio [Kpc]', fontsize = 20)\n",
    "    plt.ylabel(r'$\\rho$ [$1x10^{10}$ Msol/$kpc^{2}$]', fontsize = 20)\n",
    "    plt.grid()\n",
    "    plt.savefig(filename)\n",
    "    plt.clf()\n",
    "    plt.close()limits"
   ]
  },
  {
   "cell_type": "markdown",
   "metadata": {},
   "source": [
    "### Curva de rotacion"
   ]
  },
  {
   "cell_type": "code",
   "execution_count": 9,
   "metadata": {},
   "outputs": [],
   "source": [
    "# Radio azimutal \n",
    "# para ello, utilizamos los datos de la posicion tanto en x como en y\n",
    "def RGas(data):\n",
    "    Rg = np.sqrt(data.gas['pos'][:,0]**2 + data.gas['pos'][:,1]**2)\n",
    "    return Rg"
   ]
  },
  {
   "cell_type": "code",
   "execution_count": 10,
   "metadata": {},
   "outputs": [],
   "source": [
    "# Velocidad tangencial\n",
    "def Vcartesian2polar(pos,vel):\n",
    "    Vtan    = np.zeros(pos.shape[0])\n",
    "    Vrad    = np.zeros(pos.shape[0])\n",
    "    norm    = np.sqrt(pos[:,0]**2+pos[:,1]**2)\n",
    "    Vtan    = (vel[:,1]*pos[:,0]-vel[:,0]*pos[:,1])/norm\n",
    "    Vrad    = (vel[:,0]*pos[:,0]+vel[:,1]*pos[:,1])/norm\n",
    "    return Vtan,Vrad"
   ]
  },
  {
   "cell_type": "code",
   "execution_count": 11,
   "metadata": {},
   "outputs": [],
   "source": [
    "# Dada una secuencia de puntos, que serán los extremos\n",
    "# de las casillas de los bins de un histolimitsgrama, saca los puntos medios\n",
    "# de cada casilla como referencia\n",
    "def radios(points):\n",
    "    radii     = (points[:-1]+points[1:])/2\n",
    "    return radii "
   ]
  },
  {
   "cell_type": "code",
   "execution_count": 12,
   "metadata": {},
   "outputs": [],
   "source": [
    "# Función que retorna la curva de rotación para las partículas\n",
    "# de gas en una galaxia tipo disco en rotación. \n",
    "# Lo hace con bins circulares, tomando en cada bin la media de\n",
    "# las velocidades tangenciales, pero ponderada por la masa de cada partícula\n",
    "# Es decir, en cada bin define:\n",
    "# <V_cir> = Sum(V_tan * mass) / Sum(mass)\n",
    "# Bajo condiciones normales, cada particula valdria lo mismo, pero en este caso, el valor de cada\n",
    "# particula dependera de su masa.\n",
    "\n",
    "def RotCurvGas(data,points):\n",
    "    a = np.histogram(RGas(data), bins=points,  weights= Vcartesian2polar(data.gas[\"pos\"],data.gas[\"vel\"])[0]*data.gas['mass'])\n",
    "    b = np.histogram(RGas(data), bins=points,  weights= data.gas['mass'])\n",
    "    Vel = (a[0]/b[0])\n",
    "    return a[1][0:len(points)-1],Vel"
   ]
  },
  {
   "cell_type": "code",
   "execution_count": 13,
   "metadata": {},
   "outputs": [],
   "source": [
    "# Calcula la curva de rotacion, la grafica y almacena la figura\n",
    "# Returna el valor máximo de la curva de rotación\n",
    "def plot_rot_curve(gal,data,filename):\n",
    "    r_bins = np.arange(limites_densidad['G0'][0],limites_densidad['G0'][1],0.5)\n",
    "    Vel = RotCurvGas(data,r_bins)[1]\n",
    "    r = radios(r_bins)\n",
    "    plt.plot(r,Vel)\n",
    "    \n",
    "    fig = plt.figure(figsize=(10, 7))\n",
    "    plt.plot(r,Vel)\n",
    "    plt.title('Curva de rotación del gas', fontsize = 18)\n",
    "    plt.xlabel('Radio [Kpc]', fontsize = 20)\n",
    "    plt.ylabel(r'V_{circular}$ [km / s]', fontsize = 20)\n",
    "    plt.grid()\n",
    "    plt.savefig(filename)\n",
    "    plt.clf()\n",
    "    plt.close()\n",
    "    \n",
    "    return np.nanmax(Vel)"
   ]
  },
  {
   "cell_type": "markdown",
   "metadata": {},
   "source": [
    "## Compilacion de los diccionarios"
   ]
  },
  {
   "cell_type": "code",
   "execution_count": 14,
   "metadata": {},
   "outputs": [],
   "source": [
    "# En esta celda, estamos defiendo la funcion con la cual vamos a compilar los datos de las galaxias\n",
    "# de cada una de las simulaciones, para esto, requeriremos la ruta para llegar a los datos, los limites\n",
    "# para las galaxias, y los valores maximos y minimos de los snaps que tomaremos en cuenta. \n",
    "\n",
    "def compile_data(origin,gal,minsnap,maxsnap,stepsnap):\n",
    "    dicti = {}\n",
    "    #A continuacion definiremos la ruta de la cual se tomaran cada uno de los snaps\n",
    "    for snap in np.arange(minsnap,maxsnap,stepsnap): \n",
    "        \n",
    "        # Esto va a imprimir en pantalla un letrero a cada 10 snapshots iterados\n",
    "        # Para ayudarnos a saber por dónde va\n",
    "        if not snap % 10:\n",
    "            print(\"working in snapshots number \",snap)\n",
    "        \n",
    "        snap = str(snap).zfill(3)        \n",
    "        data = pynbody.load(origin+'/'+gal+'/snapshot_'+snap+'.hdf5')\n",
    "        dicti[snap] = {}\n",
    "            \n",
    "            \n",
    "            # y en las siguientes lineas daremos las especificaciones de las graficas que queremos que se\n",
    "            # generen a partir de los plots, junto con la ruta donde seran guardadas, ademas de que las \n",
    "            # almacenaremos en el diccionario que estamos generando, este proceso se repite para cada uno de los\n",
    "            # datos: Velocidad maxima de rotacion, numero de estrellas, h del gas y de las estrellas.\n",
    "           \n",
    "        V_max = plot_rot_curve(gal,data,filename='plots_nuevos/'+gal+'/'+gal+'_rotcurve_'+snap+'.jpg')\n",
    "        dicti[snap]['Vmax'] = V_max\n",
    "            \n",
    "        N_star = data.star['mass'].size\n",
    "        dicti[snap]['Nstar'] = N_star\n",
    "\n",
    "        histo,bins,dens = density(data.gas['pos'],data.gas['mass'],n=20,limits=limites_densidad[gal])\n",
    "        m,b = fit_exponential(bins,dens,limits=limites_gas[gal])\n",
    "        plot_exponential(bins,dens,m,b,filename='plots_nuevos/'+gal+'/'+gal+'_gas_'+snap+'.jpg')\n",
    "        dicti[snap]['h_gas'] = -1/m*np.log10(np.e)\n",
    "        \n",
    "        histo,bins,dens = density(data.star['pos'],data.star['mass'],n=20,limits=limites_densidad[gal])\n",
    "        m,b = fit_exponential(bins,dens,limits=limites_star[gal])\n",
    "        plot_exponential(bins,dens,m,b,filename='plots_nuevos/'+gal+'/'+gal+'_star_'+snap+'.jpg')\n",
    "        dicti[snap]['h_star'] = -1/m*np.log10(np.e)\n",
    "\n",
    "    return dicti"
   ]
  },
  {
   "cell_type": "code",
   "execution_count": 5,
   "metadata": {},
   "outputs": [],
   "source": [
    "# Finalizada la compilación de datos en un diccionario\n",
    "# Aqui se extraen los valores de cada cantidad secuencialmente\n",
    "def extract_qtt(dictionary,quantity):\n",
    "    if quantity == 'snapshots':\n",
    "        lista = [np.float(key) for key in dictionary.keys()]\n",
    "    else:\n",
    "        # list comprehensionlimits\n",
    "        lista = [dictionary[snap][quantity] for snap in dictionary.keys()]\n",
    "    return lista"
   ]
  },
  {
   "cell_type": "code",
   "execution_count": 6,
   "metadata": {},
   "outputs": [],
   "source": [
    "# Aca vamos a definir las funciones que vamos a graficar con los datos que se extraen del diccionario\n",
    "# Para esto, primero definiremos las variables a graficas en este caso para los datos nuevos:\n",
    "def show_results(dicti, dicti_old, gal):\n",
    "    snapshots_new = extract_qtt(dicti,'snapshots')\n",
    "    h0_gas_new = extract_qtt(dicti,'h_gas')\n",
    "    h0_star_new = extract_qtt(dicti,'h_star')\n",
    "    N_star_new = extract_qtt(dicti,'Nstar')\n",
    "    Vmax_new = extract_qtt(dicti,'Vmax')\n",
    "    \n",
    "    # Aca hacemos lo mismo para los datos viejos:\n",
    "    snapshots_old = extract_qtt(dicti_old,'snapshots')\n",
    "    h0_gas_old = extract_qtt(dicti_old,'h_gas')\n",
    "    h0_star_old = extract_qtt(dicti_old,'h_star')\n",
    "    N_star_old = extract_qtt(dicti_old,'Nstar')\n",
    "    Vmax_old = extract_qtt(dicti_old,'Vmax')\n",
    "    \n",
    "    # Definimos el tamaño del plot\n",
    "    plt.figure(figsize=(12,4))\n",
    "    \n",
    "    # Definimos cada una de las posiciones de los plots, los histogramas y las posiciones que les vamos a dar,\n",
    "    # asi como sus especificaciones para cada una de las variables.\n",
    "    # Para los valores de Y en el plot hemos asignado valores arbitrarios, con el unico fin de poder visualizar \n",
    "    # la informacion.\n",
    "    \n",
    "    # Para el histograma del gas\n",
    "    plt.subplot(131)\n",
    "    plt.hist(h0_gas_new,bins=5,color='green')\n",
    "    plt.title(gal + '  h0 GAS')\n",
    "    #Como solo existen datos viejos para las galaxias G0 y G1 debemos especificar que los plots son solo\n",
    "    #para esos datos con las siguientes lineas\n",
    "    if gal in ['G0','G1']:\n",
    "        x = h0_gas_old\n",
    "        y = np.array([50,50,50])\n",
    "        plt.plot(x,y, \"ok\")\n",
    "    \n",
    "    # Para el histograma de las estrellas\n",
    "    plt.subplot(132)\n",
    "    #Como solo existen datos viejos para las galaxias G0 y G1 debemos especificar que los plots son solo\n",
    "    #para esos datos con las siguientes lineas\n",
    "    if gal in ['G0']:\n",
    "        plt.hist(h0_star_new,bins=5,range=(0,4),color='orange')\n",
    "        plt.title(gal + '  h0 STARS')limits\n",
    "    if gal in ['G1','G3']:\n",
    "        plt.hist(h0_star_new,bins=5,color='orange')\n",
    "        plt.title(gal + '  h0 STARS')\n",
    "    if gal == 'G2':\n",
    "        h0_gas_new = extract_qtt(super_dict['G2'],'h_star')\n",
    "        plt.hist(h0_star_new,bins=20,color='green',range=(1,5))\n",
    "        plt.title(gal + '  h0 GAS')\n",
    "    if gal in ['G0','G1']:\n",
    "        x = h0_star_old\n",
    "        y = np.array([50,50,50])\n",
    "        plt.plot(x,y,\"ok\")\n",
    "    \n",
    "    #Para la velocidad maxima\n",
    "    plt.subplot(133)\n",
    "    plt.hist(Vmax_new,bins=5,color='red')\n",
    "    plt.title(gal + '  Max Velocity')\n",
    "    #Como solo existen datos viejos para las galaxias G0 y G1 debemos especificar que los plots son solo\n",
    "    #para esos datos con las siguientes lineas\n",
    "    if gal in ['G0','G1']:\n",
    "        x = Vmax_old\n",
    "        y = np.array([50,50,50])\n",
    "        plt.plot(x,y,\"ok\")"
   ]
  },
  {
   "cell_type": "markdown",
   "metadata": {},
   "source": [
    "## Generacion de los diccionarios"
   ]
  },
  {
   "cell_type": "code",
   "execution_count": null,
   "metadata": {},
   "outputs": [],
   "source": [
    "# Con estas lineas, vamos a compilar el diccionario, para esto, utilizaremos la funcion de compile data\n",
    "# y debemos aclarar los minimos, maximos y el espaciado entre los snaps considerados\n",
    "# Tambien se debe hacer claridad en los valores de galaxias considerados.\n",
    "# ESTA CELDA SOLO SE DEBE CORRER UNA VEZ (NO CORRERLA NUEVAMENTE)\n",
    "\n",
    "#super_dict = {}\n",
    "#for gal in galaxies:\n",
    "    #super_dict[gal] = compile_data(data_nuevo,gal,minsnap=0,maxsnap=601,stepsnap=1)\n",
    "\n",
    "# Con estas líneas vamos a salvar el diccionario directamente en un formato de python\n",
    "# para que las próximas veces podamos simplemente leerlo, sin tener que volver a\n",
    "# hacer toda la compilación leyendo directo de los snapshots\n",
    "# Va a quedar guardado con el numbre de archivo: 'compilation_new'\n",
    "\n",
    "#file = open('diccionarios_nuevos/compilation_new', 'wb')\n",
    "#pickle.dump(super_dict, file)\n",
    "#file.close() "
   ]
  },
  {
   "cell_type": "code",
   "execution_count": 34,
   "metadata": {},
   "outputs": [
    {
     "name": "stdout",
     "output_type": "stream",
     "text": [
      "working in snapshots number  100\n"
     ]
    },
    {
     "name": "stderr",
     "output_type": "stream",
     "text": [
      "/home/juan/anaconda3/lib/python3.8/site-packages/pynbody/snapshot/gadgethdf.py:508: RuntimeWarning: No unit information found!\n",
      "  warnings.warn(\"No unit information found!\", RuntimeWarning)\n",
      "/home/juan/anaconda3/lib/python3.8/site-packages/pynbody/snapshot/gadgethdf.py:572: RuntimeWarning: No unit information found: using gadget-units.\n",
      "  warnings.warn(\n",
      "<ipython-input-19-0c67cf86e750>:10: RuntimeWarning: divide by zero encountered in log10\n",
      "  plt.plot(bins, np.log10(dens), 'r.', label = 'h = {a:3.2f}'.format(a = R))\n",
      "/home/juan/anaconda3/lib/python3.8/site-packages/pynbody/snapshot/gadgethdf.py:508: RuntimeWarning: No unit information found!\n",
      "  warnings.warn(\"No unit information found!\", RuntimeWarning)\n",
      "/home/juan/anaconda3/lib/python3.8/site-packages/pynbody/snapshot/gadgethdf.py:572: RuntimeWarning: No unit information found: using gadget-units.\n",
      "  warnings.warn(\n"
     ]
    },
    {
     "name": "stdout",
     "output_type": "stream",
     "text": [
      "working in snapshots number  300\n"
     ]
    },
    {
     "name": "stderr",
     "output_type": "stream",
     "text": [
      "<ipython-input-19-0c67cf86e750>:10: RuntimeWarning: divide by zero encountered in log10\n",
      "  plt.plot(bins, np.log10(dens), 'r.', label = 'h = {a:3.2f}'.format(a = R))\n",
      "/home/juan/anaconda3/lib/python3.8/site-packages/pynbody/snapshot/gadgethdf.py:508: RuntimeWarning: No unit information found!\n",
      "  warnings.warn(\"No unit information found!\", RuntimeWarning)\n",
      "/home/juan/anaconda3/lib/python3.8/site-packages/pynbody/snapshot/gadgethdf.py:572: RuntimeWarning: No unit information found: using gadget-units.\n",
      "  warnings.warn(\n"
     ]
    },
    {
     "name": "stdout",
     "output_type": "stream",
     "text": [
      "working in snapshots number  500\n"
     ]
    },
    {
     "name": "stderr",
     "output_type": "stream",
     "text": [
      "<ipython-input-19-0c67cf86e750>:10: RuntimeWarning: divide by zero encountered in log10\n",
      "  plt.plot(bins, np.log10(dens), 'r.', label = 'h = {a:3.2f}'.format(a = R))\n",
      "/home/juan/anaconda3/lib/python3.8/site-packages/pynbody/snapshot/gadgethdf.py:508: RuntimeWarning: No unit information found!\n",
      "  warnings.warn(\"No unit information found!\", RuntimeWarning)\n",
      "/home/juan/anaconda3/lib/python3.8/site-packages/pynbody/snapshot/gadgethdf.py:572: RuntimeWarning: No unit information found: using gadget-units.\n",
      "  warnings.warn(\n"
     ]
    },
    {
     "name": "stdout",
     "output_type": "stream",
     "text": [
      "working in snapshots number  100\n"
     ]
    },
    {
     "name": "stderr",
     "output_type": "stream",
     "text": [
      "<ipython-input-19-0c67cf86e750>:10: RuntimeWarning: divide by zero encountered in log10\n",
      "  plt.plot(bins, np.log10(dens), 'r.', label = 'h = {a:3.2f}'.format(a = R))\n",
      "/home/juan/anaconda3/lib/python3.8/site-packages/pynbody/snapshot/gadgethdf.py:508: RuntimeWarning: No unit information found!\n",
      "  warnings.warn(\"No unit information found!\", RuntimeWarning)\n",
      "/home/juan/anaconda3/lib/python3.8/site-packages/pynbody/snapshot/gadgethdf.py:572: RuntimeWarning: No unit information found: using gadget-units.\n",
      "  warnings.warn(\n"
     ]
    },
    {
     "name": "stdout",
     "output_type": "stream",
     "text": [
      "working in snapshots number  300\n"
     ]
    },
    {
     "name": "stderr",
     "output_type": "stream",
     "text": [
      "<ipython-input-19-0c67cf86e750>:10: RuntimeWarning: divide by zero encountered in log10\n",
      "  plt.plot(bins, np.log10(dens), 'r.', label = 'h = {a:3.2f}'.format(a = R))\n",
      "/home/juan/anaconda3/lib/python3.8/site-packages/pynbody/snapshot/gadgethdf.py:508: RuntimeWarning: No unit information found!\n",
      "  warnings.warn(\"No unit information found!\", RuntimeWarning)\n",
      "/home/juan/anaconda3/lib/python3.8/site-packages/pynbody/snapshot/gadgethdf.py:572: RuntimeWarning: No unit information found: using gadget-units.\n",
      "  warnings.warn(\n"
     ]
    },
    {
     "name": "stdout",
     "output_type": "stream",
     "text": [
      "working in snapshots number  500\n"
     ]
    },
    {
     "name": "stderr",
     "output_type": "stream",
     "text": [
      "<ipython-input-19-0c67cf86e750>:10: RuntimeWarning: divide by zero encountered in log10\n",
      "  plt.plot(bins, np.log10(dens), 'r.', label = 'h = {a:3.2f}'.format(a = R))\n"
     ]
    },
    {
     "data": {
      "image/png": "[encoded data removed]",
      "text/plain": [
       "<Figure size 432x288 with 1 Axes>"
      ]
     },
     "metadata": {
      "needs_background": "light"
     },
     "output_type": "display_data"
    }
   ],
   "source": [
    "# SOLO SE DEBE CORRER UNA VEZ (EVITE CORRERLO NUEVAMENTE)\n",
    "# Aca se repite exactamente el mismo proceso para compilar los datos para el otro diccionario para las \n",
    "# simulaciones de galaxias antiguas, el proceso es exactamente el mismo, solo se deben cambiar los valores de los\n",
    "# snaps de acuerdo a la informacion que se tenga.\n",
    "\n",
    "#super_dict_old = {}\n",
    "#for gal in ['G0','G1']:\n",
    "    #super_dict_old[gal] = compile_data(data_viejo,gal,minsnap=100,maxsnap=600,stepsnap=200)\n",
    "\n",
    "# Se repite el proceso para el otro conjunto de datos, con las lineas siguientes se va a salvar el diccionario\n",
    "# de los datos antiguos, con el nombre que se desee, en este caso quedo como 'compilation_old'\n",
    "\n",
    "#file = open('diccionarios_nuevos/compilation_old', 'wb')\n",
    "#pickle.dump(super_dict_old, file)\n",
    "#file.close()"
   ]
  },
  {
   "cell_type": "markdown",
   "metadata": {},
   "source": [
    "**Referencia**\n",
    "*Con el objetivo de comparar la informacion obtenida se anexa a continuacion una tabla donde se resume la informacion del documento que se tomo como referencia para estos datos, para mas informacion puede consultar el siguiente [enlace](https://ui.adsabs.harvard.edu/abs/2010MNRAS.403...17J/abstract)*\n",
    " \n",
    "\n",
    "Modelo | Masa Total [$M_\\odot$] | Masa barionica [$M_\\odot$] | Scale-length estrellas [kpc] | Scale-length gas [kpc] | Masa Gas [$M_\\odot$] | Vmax [km s$^{-1}$]\n",
    ":-------: | :----------: | :-------: | :-------: | :-------: | :-------: | :-------:\n",
    "G0 | 5.1 $\\cdot 10^{10}$ | $1.6 \\cdot 10^{9}$ | 1.1 | 3.3 | 6.08 $\\cdot 10^{8}$ | 67 \n",
    "G1 | $2 \\cdot 10^{11}$    | $7 \\cdot 10^{9}$ | 1.5 | 4.5 |  2.03 $\\cdot 10^{9}$| 103\n",
    "G2 | 5.1 $\\cdot 10^{11}$  | $1.98 \\cdot 10^{10}$ | 1.9 | 5.7 | 4.55 $\\cdot 10^{9}$ | 139\n",
    "G3 | 1.16 $\\cdot 10^{12}$ | $6.22 \\cdot 10^{10}$ | 2.8 | 8.4 | 1.24 $\\cdot 10^{10}$ | 192"
   ]
  },
  {
   "cell_type": "markdown",
   "metadata": {},
   "source": [
    "## Visualizacion de la informacion y generacion de los histogramas"
   ]
  },
  {
   "cell_type": "code",
   "execution_count": 7,
   "metadata": {},
   "outputs": [],
   "source": [
    "# Así lo leemos después de haberlo almacenado\n",
    "# Va a quedar importado en la variable 'super_dict'\n",
    "\n",
    "file = open('diccionarios_nuevos/compilation_new', 'rb')\n",
    "super_dict = pickle.load(file)\n",
    "file.close()"
   ]
  },
  {
   "cell_type": "code",
   "execution_count": 8,
   "metadata": {},
   "outputs": [],
   "source": [
    "# Así lo leemos después de haberlo almacenado\n",
    "# Va a quedar importado en la variable 'super_dict_old'\n",
    "\n",
    "file = open('diccionarios_nuevos/compilation_old', 'rb')\n",
    "super_dict_old = pickle.load(file)\n",
    "file.close()\n",
    "#Estas lineas que se agregan son necesarias porque el diccionario no tiene la informacion requerida para las \n",
    "#galaxias G2 y G3, por ende, se agregan como diccionarios vacios para no generar un error a la hora de aplicar\n",
    "#la funcion de graficas.\n",
    "super_dict_old['G2']={} \n",
    "super_dict_old['G3']={} "
   ]
  },
  {
   "cell_type": "code",
   "execution_count": 9,
   "metadata": {},
   "outputs": [
    {
     "data": {
      "image/png": "[encoded data removed]",
      "text/plain": [
       "<Figure size 864x288 with 3 Axes>"
      ]
     },
     "metadata": {
      "needs_background": "light"
     },
     "output_type": "display_data"
    },
    {
     "data": {
      "image/png": "[encoded data removed]",
      "text/plain": [
       "<Figure size 864x288 with 3 Axes>"
      ]
     },
     "metadata": {
      "needs_background": "light"
     },
     "output_type": "display_data"
    },
    {
     "data": {
      "image/png": "[encoded data removed]",
      "text/plain": [
       "<Figure size 864x288 with 3 Axes>"
      ]
     },
     "metadata": {
      "needs_background": "light"
     },
     "output_type": "display_data"
    },
    {
     "data": {
      "image/png": "[encoded data removed]",
      "text/plain": [
       "<Figure size 864x288 with 3 Axes>"
      ]
     },
     "metadata": {
      "needs_background": "light"
     },
     "output_type": "display_data"
    }
   ],
   "source": [
    "# Con esta linea vamos a comparar los datos obtenidos para las galaxias de ambas bases de datos en una misma \n",
    "#grafica para esto nuevamente usaremos la funcion de show results y con esta, utilizaremos los dos\n",
    "# diccionarios en donde esta almacenada la informacion, con sus respectivos limites.\n",
    "for gal in galaxies:\n",
    "    show_results(super_dict[gal],super_dict_old[gal],gal)"
   ]
  },
  {
   "cell_type": "markdown",
   "metadata": {},
   "source": [
    "### Herramientas Adicionales"
   ]
  },
  {
   "cell_type": "code",
   "execution_count": 38,
   "metadata": {},
   "outputs": [],
   "source": [
    "#SI NO REQUIERE DE LAS VERIFICACIONES, SIMPLEMENTE FIJELAS COMO COMENTARIOS\n",
    "\n",
    "# Si se tiene duda de que el diccionario este efectivamente almacenado recurra a estas lineas, de lo contrario\n",
    "# dejelas como COMENTARIOS, la linea a utilizar dependera de la duda que se presente (ubique el diccionario\n",
    "# que le genera duda y corra esa linea)\n",
    "\n",
    "#print(super_dict)\n",
    "#print(super_dict_old)\n",
    "\n",
    "# Con esta linea puede ver el tamaño de los archivos almacenados en la carpeta en la que trabaje, identifique\n",
    "# que los tamaños de los diccionarios sea un valor logico\n",
    "# de lo contrario, fijelo como COMENTARIO\n",
    "\n",
    "#ls -lh\n",
    "\n",
    "#COn esta linea puede verificar las galaxias contenidas en el diccionario\n",
    "#print(super_dict.keys())\n",
    "\n",
    "#COn esta linea puede observar la informacion contenida en el diccionario para la galaxia que especifique\n",
    "#print(super_dict['G3'])"
   ]
  },
  {
   "cell_type": "code",
   "execution_count": null,
   "metadata": {},
   "outputs": [],
   "source": []
  }
 ],
 "metadata": {
  "kernelspec": {
   "display_name": "Python 3",
   "language": "python",
   "name": "python3"
  },
  "language_info": {
   "codemirror_mode": {
    "name": "ipython",
    "version": 3
   },
   "file_extension": ".py",
   "mimetype": "text/x-python",
   "name": "python",
   "nbconvert_exporter": "python",
   "pygments_lexer": "ipython3",
   "version": "3.8.5"
  }
 },
 "nbformat": 4,
 "nbformat_minor": 4
}
