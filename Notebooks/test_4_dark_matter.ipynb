{
 "cells": [
  {
   "cell_type": "markdown",
   "metadata": {},
   "source": [
    "## Densidad de materia oscura"
   ]
  },
  {
   "cell_type": "markdown",
   "metadata": {},
   "source": [
    "### Informacion por utilizar"
   ]
  },
  {
   "cell_type": "code",
   "execution_count": 7,
   "metadata": {},
   "outputs": [],
   "source": [
    "#importamos las herramientas necesarias\n",
    "import pynbody\n",
    "import matplotlib.pyplot as plt\n",
    "import numpy as np\n",
    "from scipy.optimize import curve_fit\n",
    "from scipy import optimize\n",
    "import scipy.stats\n",
    "from astropy import units as unit\n",
    "import sys\n",
    "from matplotlib.animation import FuncAnimation\n",
    "import Funciones_Dark_Matter as fnd"
   ]
  },
  {
   "cell_type": "code",
   "execution_count": 8,
   "metadata": {},
   "outputs": [],
   "source": [
    "#importamos los datos\n",
    "data_nuevo = '/media/danna01/Disk/SNAPSHOTS/Galaxias_Nuevas'\n",
    "data_viejo = '/media/danna01/Disk/SNAPSHOTS/Galaxias_Viejas'\n",
    "#datadir = '/media/juan/Pesquisa/Simulations_Chris_2021'"
   ]
  },
  {
   "cell_type": "markdown",
   "metadata": {},
   "source": [
    "A continuacion se lista la informacion importante para este notebook\n",
    "\n",
    " 1) Masa Total de materia oscura\n",
    " \n",
    " 2) Densidad de la materia oscura"
   ]
  },
  {
   "cell_type": "code",
   "execution_count": 9,
   "metadata": {},
   "outputs": [],
   "source": [
    "# Estos son los diccionarios que definen los limites que seran utilizados para los plots de las galaxias para los\n",
    "# calculos de densidad de materia oscura y la masa acumulada a diferentes radios para la amteria oscura tambien\n",
    "dicti = {}\n",
    "galaxies = ['G0', 'G1', 'G2', 'G3']\n",
    "# Estos son los limites para graficar la masa acumulada y la densidad; sus valores corresponden a 10 veces el valor\n",
    "# del scale - lenght de cada galaxia.\n",
    "limites_materia_oscura = {'G0':(0,55), 'G1':(0,75), 'G2':(0,95), 'G3':(0,140)} #kpc\n",
    "# Aca observamos los limites que se usaran para calcular el valor de 'h' que nos indicara que tan bueno es el ajuste\n",
    "# limites --> De que dependen?"
   ]
  },
  {
   "cell_type": "markdown",
   "metadata": {},
   "source": [
    "### Funciones Comparaciones"
   ]
  },
  {
   "cell_type": "markdown",
   "metadata": {},
   "source": [
    "#### Relacion masa acumulada vs. radio"
   ]
  },
  {
   "cell_type": "code",
   "execution_count": 10,
   "metadata": {},
   "outputs": [],
   "source": [
    "# Masa acumulada de materia oscura\n",
    "def accumulated_mass(posnew,massnew,posold, massold,n,limits):\n",
    "    # Para las simulaciones nuevas\n",
    "    rnew = np.sqrt((posnew**2).sum(axis=1))\n",
    "    # histograma acumulado\n",
    "    histo_acum_new = scipy.stats.cumfreq(rnew, n, limits, weights=massnew)\n",
    "    # hallamos los radios manualmente\n",
    "    positionsnew = histo_acum_new[1]+ np.arange(1,n+1) * histo_acum_new[2]\n",
    "    # Para las simulaciones viejas\n",
    "    rold = np.sqrt((posold**2).sum(axis=1))\n",
    "    histo_acum_old = scipy.stats.cumfreq(rold, n, limits, weights=massold)\n",
    "    positionsold = histo_acum_old[1]+ np.arange(1,n+1) * histo_acum_old[2]\n",
    "    \n",
    "    return positionsnew, histo_acum_new[0], positionsold, histo_acum_old[0]"
   ]
  },
  {
   "cell_type": "markdown",
   "metadata": {},
   "source": [
    "#### Relacion densidad vs. radio"
   ]
  },
  {
   "cell_type": "code",
   "execution_count": 11,
   "metadata": {},
   "outputs": [],
   "source": [
    "# Funcion densidad\n",
    "def density_dm(xnew,ynew,xold,yold):\n",
    "    xnew,ynew, xold, yold = accumulated_mass(data_nuevo_ruta.dm['pos'],data_nuevo_ruta.dm['mass'],data_viejo_ruta.dm['pos'],data_viejo_ruta.dm['mass'],n=int(limites_materia_oscura[gal][1]*4),limits=limites_materia_oscura[gal])\n",
    "    # Para las simulaciones nuevas\n",
    "    # np.roll re acomoda los datos desplazandolos una posicion\n",
    "    x2new = np.roll(xnew,1)\n",
    "    x2new[0]=0\n",
    "    # promedio del radio\n",
    "    bins_middle_new = (xnew + x2new )/2\n",
    "    \n",
    "    x_cubico_new = xnew**3\n",
    "    x_cubico_2_new = np.roll(x_cubico_new,1)\n",
    "    x_cubico_2_new[0]=0\n",
    "   \n",
    "    y2new = np.roll(ynew,1)\n",
    "    y2new[0]=0\n",
    "  \n",
    "    shell_mass_new = ynew - y2new\n",
    "    \n",
    "    # \\rho = (4/3)*pi*R^3\n",
    "    densnew = 3* shell_mass_new / ((4*np.pi)* (x_cubico_new - x_cubico_2_new) )\n",
    "    \n",
    "    # Para las simulaciones viejas\n",
    "    x2old = np.roll(xold,1)\n",
    "    x2old[0]=0\n",
    "    bins_middle_old = (xold + x2old )/2\n",
    "    \n",
    "    x_cubico_old = xold**3\n",
    "    x_cubico_2_old = np.roll(x_cubico_old,1)\n",
    "    x_cubico_2_old[0]=0\n",
    "    \n",
    "    y2old = np.roll(yold,1)\n",
    "    y2old[0]=0\n",
    "   \n",
    "    shell_mass_old = yold - y2old\n",
    "    \n",
    "    # \\rho = (4/3)*pi*R^3\n",
    "    densold = 3* shell_mass_old / ((4*np.pi)* (x_cubico_old - x_cubico_2_old) ) \n",
    "    \n",
    "    return bins_middle_new, shell_mass_new, densnew, bins_middle_old, shell_mass_old, densold"
   ]
  },
  {
   "cell_type": "markdown",
   "metadata": {},
   "source": [
    "#### Funciones para las graficas"
   ]
  },
  {
   "cell_type": "code",
   "execution_count": 12,
   "metadata": {},
   "outputs": [],
   "source": [
    "# Plots masa acumulada.\n",
    "def plot_mass(binsnew,massnew,binsold,massold,filename,):\n",
    "    fig = plt.figure(figsize=(10, 7))\n",
    "    \n",
    "    plt.plot(binsnew,massnew,'-k',label= 'New Galaxies '+gal+'/'+snap)\n",
    "    plt.plot(binsold,massold,'-r', label= 'Old Galaxies')\n",
    "    \n",
    "    plt.title('Masa acumulada de la Materia Oscura', fontsize= 18)\n",
    "    plt.xlabel('Radio [Kpc]',fontsize=20)\n",
    "    plt.ylabel('Masa Acumulada (Msol)')\n",
    "    plt.legend()\n",
    "    plt.grid()\n",
    "    plt.savefig(filename)\n",
    "    plt.clf()\n",
    "    plt.close()"
   ]
  },
  {
   "cell_type": "code",
   "execution_count": 13,
   "metadata": {},
   "outputs": [],
   "source": [
    "# Plots densidad.\n",
    "def plot_density(binsnew,densnew,binsold, densold, filename,):\n",
    "    \n",
    "    fig = plt.figure(figsize=(10, 7))\n",
    "    \n",
    "    plt.plot(binsnew, np.log10(densnew), '-k', label= 'New Galaxies '+gal+'/'+snap)\n",
    "    plt.plot(binsold, np.log10(densold), '-r', label= 'Old Galaxies')\n",
    "   \n",
    "    plt.title('Perfil de densidad de materia oscura', fontsize = 18)\n",
    "    plt.xlabel('Radio [Kpc]', fontsize = 20)\n",
    "    plt.ylabel(r'$\\rho$ [$1x10^{10}$ Msol/$kpc^{2}$]', fontsize = 20)\n",
    "    plt.legend()\n",
    "    plt.grid()\n",
    "    plt.savefig(filename)\n",
    "    plt.clf()\n",
    "    plt.close()"
   ]
  },
  {
   "cell_type": "markdown",
   "metadata": {},
   "source": [
    "#### Generacion de graficas"
   ]
  },
  {
   "cell_type": "code",
   "execution_count": 14,
   "metadata": {},
   "outputs": [
    {
     "name": "stderr",
     "output_type": "stream",
     "text": [
      "/home/danna01/.local/lib/python3.8/site-packages/pynbody/snapshot/gadgethdf.py:508: RuntimeWarning: No unit information found!\n",
      "  warnings.warn(\"No unit information found!\", RuntimeWarning)\n",
      "/home/danna01/.local/lib/python3.8/site-packages/pynbody/snapshot/gadgethdf.py:572: RuntimeWarning: No unit information found: using gadget-units.\n",
      "  warnings.warn(\n",
      "/home/danna01/.local/lib/python3.8/site-packages/pynbody/snapshot/gadgethdf.py:508: RuntimeWarning: No unit information found!\n",
      "  warnings.warn(\"No unit information found!\", RuntimeWarning)\n",
      "/home/danna01/.local/lib/python3.8/site-packages/pynbody/snapshot/gadgethdf.py:572: RuntimeWarning: No unit information found: using gadget-units.\n",
      "  warnings.warn(\n",
      "/home/danna01/.local/lib/python3.8/site-packages/pynbody/snapshot/gadgethdf.py:508: RuntimeWarning: No unit information found!\n",
      "  warnings.warn(\"No unit information found!\", RuntimeWarning)\n",
      "/home/danna01/.local/lib/python3.8/site-packages/pynbody/snapshot/gadgethdf.py:572: RuntimeWarning: No unit information found: using gadget-units.\n",
      "  warnings.warn(\n",
      "/home/danna01/.local/lib/python3.8/site-packages/pynbody/snapshot/gadgethdf.py:508: RuntimeWarning: No unit information found!\n",
      "  warnings.warn(\"No unit information found!\", RuntimeWarning)\n",
      "/home/danna01/.local/lib/python3.8/site-packages/pynbody/snapshot/gadgethdf.py:572: RuntimeWarning: No unit information found: using gadget-units.\n",
      "  warnings.warn(\n",
      "/home/danna01/.local/lib/python3.8/site-packages/pynbody/snapshot/gadgethdf.py:508: RuntimeWarning: No unit information found!\n",
      "  warnings.warn(\"No unit information found!\", RuntimeWarning)\n",
      "/home/danna01/.local/lib/python3.8/site-packages/pynbody/snapshot/gadgethdf.py:572: RuntimeWarning: No unit information found: using gadget-units.\n",
      "  warnings.warn(\n",
      "<ipython-input-13-fd3c6af9908e>:6: RuntimeWarning: divide by zero encountered in log10\n",
      "  plt.plot(binsnew, np.log10(densnew), '-k', label= 'New Galaxies '+gal+'/'+snap)\n",
      "/home/danna01/.local/lib/python3.8/site-packages/pynbody/snapshot/gadgethdf.py:508: RuntimeWarning: No unit information found!\n",
      "  warnings.warn(\"No unit information found!\", RuntimeWarning)\n",
      "/home/danna01/.local/lib/python3.8/site-packages/pynbody/snapshot/gadgethdf.py:572: RuntimeWarning: No unit information found: using gadget-units.\n",
      "  warnings.warn(\n"
     ]
    }
   ],
   "source": [
    "# Generacion de plots.\n",
    "minsnap = 100\n",
    "maxsnap = 700\n",
    "stepsnap = 200\n",
    "\n",
    "# definimos la fuente de los datos, para esto usamos los diccionarios que definimos mas arriba\n",
    "for gal in ['G0','G1']:\n",
    "    for snap in np.arange(minsnap,maxsnap,stepsnap): \n",
    "        snap = str(snap).zfill(3)\n",
    "        # Aca definimos la ruta en la cual estan almacenados los snapshots\n",
    "        data_nuevo_ruta = pynbody.load(data_nuevo+'/'+gal+'/snapshot_'+snap+'.hdf5')\n",
    "        data_viejo_ruta = pynbody.load(data_viejo+'/'+gal+'/snapshot_'+snap+'.hdf5')\n",
    "        \n",
    "        \n",
    "        # Aca vamos a generar cada uno de los plots, para lo cual primero debemos definir\n",
    "        # cada una de las funciones de masa acumulada y densidad.\n",
    "        bins_new, mass_new, bins_old, mass_old = accumulated_mass(data_nuevo_ruta.dm['pos'],data_nuevo_ruta.dm['mass'],data_viejo_ruta.dm['pos'],data_viejo_ruta.dm['mass'],n=int(limites_materia_oscura[gal][1]*4),limits=limites_materia_oscura[gal])\n",
    "    \n",
    "        bins_middle_new, shell_mass_new, dens_new, bins_middle_old, shell_mass_old, dens_old  = density_dm(bins_new, mass_new, bins_old, mass_old)\n",
    "      \n",
    "        plot_mass(bins_new,mass_new,bins_old,mass_old,filename='Materia_oscura/Comparaciones/Materia_Oscura_Acumulada_'+gal+'_dm_'+snap+'.jpg')\n",
    "        \n",
    "        plot_density(bins_middle_new,dens_new,bins_middle_old,dens_old,filename='Materia_oscura/Comparaciones/Materia_Oscura_Densidad_'+gal+'_dm_'+snap+'.jpg')"
   ]
  },
  {
   "cell_type": "markdown",
   "metadata": {},
   "source": [
    "### Funciones Materia Oscura Galaxias Nuevas: G0 y G1"
   ]
  },
  {
   "cell_type": "markdown",
   "metadata": {},
   "source": [
    "#### Relacion masa acumulada vs. radio"
   ]
  },
  {
   "cell_type": "code",
   "execution_count": 36,
   "metadata": {},
   "outputs": [],
   "source": [
    "# Masa acumulada de la materia oscura\n",
    "\n",
    "def accumulated_mass_old(pos,mass,n,limits):\n",
    "    \n",
    "    r = np.sqrt((pos**2).sum(axis=1))\n",
    "    # histograma acumulado\n",
    "    histo_acum = scipy.stats.cumfreq(r, n, limits, weights=mass)\n",
    "    # hallamos los radios manualmente\n",
    "    positions = histo_acum[1]+ np.arange(1,n+1) * histo_acum[2]\n",
    "    r = np.sqrt((pos**2).sum(axis=1))\n",
    "  \n",
    "    return positions, histo_acum[0]"
   ]
  },
  {
   "cell_type": "markdown",
   "metadata": {},
   "source": [
    "#### Relacion densidad vs. radio"
   ]
  },
  {
   "cell_type": "code",
   "execution_count": 37,
   "metadata": {},
   "outputs": [],
   "source": [
    "# Funcion de densidad\n",
    "def density_dm_old(x,y,xold1,yold1,xold3,yold3,xold5,yold5):\n",
    "    # Simulaciones nuevas G0 y G1\n",
    "    x,y = accumulated_mass_old(data_nuevo_ruta.dm['pos'],data_nuevo_ruta.dm['mass'],n=int(limites_materia_oscura[gal][1]*4),limits=limites_materia_oscura[gal])\n",
    "    # np.roll re acomoda los datos desplazandolos una posicion\n",
    "    x2 = np.roll(x,1)\n",
    "    x2[0]=0\n",
    "    # promedio del radio\n",
    "    bins_middle = (x + x2 )/2\n",
    "    \n",
    "    x_cubico = x**3\n",
    "    x_cubico_2 = np.roll(x_cubico,1)\n",
    "    x_cubico_2[0]=0\n",
    "    \n",
    "    y2 = np.roll(y,1)\n",
    "    y2[0]=0\n",
    "    shell_mass = y - y2\n",
    "    \n",
    "    # \\rho = (4/3)*pi*R^3\n",
    "    dens = 3* shell_mass / ((4*np.pi)* (x_cubico - x_cubico_2) ) \n",
    "    \n",
    "    # Simulaciones viejas: snapshot 100\n",
    "    xold1,yold1 = accumulated_mass_old(data_viejo_100.dm['pos'],data_viejo_100.dm['mass'],n=int(limites_materia_oscura[gal][1]*4),limits=limites_materia_oscura[gal])\n",
    "    # np.roll re acomoda los datos desplazandolos una posicion\n",
    "    xold12 = np.roll(xold1,1)\n",
    "    xold12[0]=0\n",
    "    # promedio del radio\n",
    "    bins_middleold1 = (xold1 + xold12 )/2\n",
    "    \n",
    "    x_cubicoold1= xold1**3\n",
    "    x_cubico_2old1 = np.roll(x_cubicoold1,1)\n",
    "    x_cubico_2old1[0]=0\n",
    "    \n",
    "    yold12 = np.roll(yold1,1)\n",
    "    yold12[0]=0\n",
    "    shell_massold1 = yold1 - yold12\n",
    "    \n",
    "    # \\rho = (4/3)*pi*R^3\n",
    "    densold1 = 3* shell_massold1 / ((4*np.pi)* (x_cubicoold1 - x_cubico_2old1) ) \n",
    "    \n",
    "    # Simulaciones viejas: snapshot 300\n",
    "    xold3,yold3 = accumulated_mass_old(data_viejo_300.dm['pos'],data_viejo_300.dm['mass'],n=int(limites_materia_oscura[gal][1]*4),limits=limites_materia_oscura[gal])\n",
    "    # np.roll re acomoda los datos desplazandolos una posicion\n",
    "    xold32 = np.roll(xold3,1)\n",
    "    xold32[0]=0\n",
    "    # promedio del radio\n",
    "    bins_middleold3 = (xold3 + xold32 )/2\n",
    "    \n",
    "    x_cubicoold3 = xold3**3\n",
    "    x_cubico_2old3 = np.roll(x_cubicoold3,1)\n",
    "    x_cubico_2old3[0]=0\n",
    "    \n",
    "    yold32 = np.roll(yold3,1)\n",
    "    yold32[0]=0\n",
    "    shell_massold3 = yold3 - yold32\n",
    "    \n",
    "    # \\rho = (4/3)*pi*R^3\n",
    "    densold3 = 3* shell_massold3 / ((4*np.pi)* (x_cubicoold3 - x_cubico_2old3) ) \n",
    "    \n",
    "    # Simulaciones viejas: snapshot 500\n",
    "    xold5,yold5 = accumulated_mass_old(data_viejo_500.dm['pos'],data_viejo_500.dm['mass'],n=int(limites_materia_oscura[gal][1]*4),limits=limites_materia_oscura[gal])\n",
    "    # np.roll re acomoda los datos desplazandolos una posicion\n",
    "    xold52 = np.roll(xold5,1)\n",
    "    xold52[0]=0\n",
    "    # promedio del radio\n",
    "    bins_middleold5 = (xold5 + xold52 )/2\n",
    "    \n",
    "    x_cubicoold5 = xold5**3\n",
    "    x_cubico_2old5 = np.roll(x_cubicoold5,1)\n",
    "    x_cubico_2old5[0]=0\n",
    "    \n",
    "    yold52 = np.roll(yold5,1)\n",
    "    yold52[0]=0\n",
    "    shell_massold5 = yold5 - yold52\n",
    "    \n",
    "    # \\rho = (4/3)*pi*R^3\n",
    "    densold5 = 3* shell_massold5 / ((4*np.pi)* (x_cubicoold5 - x_cubico_2old5) ) \n",
    "\n",
    "    return bins_middle, shell_mass, dens, bins_middleold1, shell_massold1, densold1, bins_middleold3, shell_massold3, densold3, bins_middleold5, shell_massold5, densold5"
   ]
  },
  {
   "cell_type": "markdown",
   "metadata": {},
   "source": [
    "### Funciones Materia Oscura Galaxias Nuevas: G2 y G3"
   ]
  },
  {
   "cell_type": "markdown",
   "metadata": {},
   "source": [
    "#### Relacion masa acumulada vs. radio"
   ]
  },
  {
   "cell_type": "code",
   "execution_count": 38,
   "metadata": {},
   "outputs": [],
   "source": [
    "# Masa acumulada de la materia oscura\n",
    "\n",
    "def accumulated_mass_new(pos,mass,n,limits):\n",
    "    \n",
    "    r = np.sqrt((pos**2).sum(axis=1))\n",
    "    # histograma acumulado\n",
    "    histo_acum = scipy.stats.cumfreq(r, n, limits, weights=mass)\n",
    "    # hallamos los radios manualmente\n",
    "    positions = histo_acum[1]+ np.arange(1,n+1) * histo_acum[2]\n",
    "    r = np.sqrt((pos**2).sum(axis=1))\n",
    "  \n",
    "    return positions, histo_acum[0]"
   ]
  },
  {
   "cell_type": "markdown",
   "metadata": {},
   "source": [
    "#### Relacion densidad vs. radio"
   ]
  },
  {
   "cell_type": "code",
   "execution_count": 39,
   "metadata": {},
   "outputs": [],
   "source": [
    "# Funcion de densidad\n",
    "def density_dm_new(x,y):\n",
    "    x,y = accumulated_mass_new(data_nuevo_ruta.dm['pos'],data_nuevo_ruta.dm['mass'],n=int(limites_materia_oscura[gal][1]*4),limits=limites_materia_oscura[gal])\n",
    "    # np.roll re acomoda los datos desplazandolos una posicion\n",
    "    x2 = np.roll(x,1)\n",
    "    x2[0]=0\n",
    "    # promedio del radio\n",
    "    bins_middle = (x + x2 )/2\n",
    "    \n",
    "    x_cubico = x**3\n",
    "    x_cubico_2 = np.roll(x_cubico,1)\n",
    "    x_cubico_2[0]=0\n",
    "    \n",
    "    y2 = np.roll(y,1)\n",
    "    y2[0]=0\n",
    "    shell_mass = y - y2\n",
    "    \n",
    "    # \\rho = (4/3)*pi*R^3\n",
    "    dens = 3* shell_mass / ((4*np.pi)* (x_cubico - x_cubico_2) ) \n",
    "\n",
    "    return bins_middle, shell_mass, dens"
   ]
  },
  {
   "cell_type": "markdown",
   "metadata": {},
   "source": [
    "#### Funciones para las graficas G0 y G1"
   ]
  },
  {
   "cell_type": "code",
   "execution_count": 40,
   "metadata": {},
   "outputs": [],
   "source": [
    "# Plots de masa acumulada.\n",
    "def plot_mass_old(bins,mass,binsold100,massold100,binsold300,massold300,binsold500,massold500,filename):\n",
    "    fig = plt.figure(figsize=(10, 7))\n",
    "\n",
    "    plt.plot(bins,mass,'-k',label= 'Simulacion Nueva '+gal+'/'+snap)\n",
    "    plt.plot(binsold100,massold100,'-r', label= 'Old Galaxies '+gal+'/100')\n",
    "    plt.plot(binsold300,massold300,'-g', label= 'Old Galaxies '+gal+'/300')\n",
    "    plt.plot(binsold500,massold500,'-b', label= 'Old Galaxies '+gal+'/500')\n",
    "    plt.legend()\n",
    "    plt.title('Masa acumulada de la Materia Oscura', fontsize= 18)\n",
    "    plt.xlabel('Radio [Kpc]',fontsize=20)\n",
    "    plt.ylabel('Masa Acumulada (Msol)')\n",
    "    plt.grid()\n",
    "    plt.savefig(filename)\n",
    "    plt.clf()\n",
    "    plt.close()"
   ]
  },
  {
   "cell_type": "code",
   "execution_count": 41,
   "metadata": {},
   "outputs": [],
   "source": [
    "# Plot para la densidad.\n",
    "def plot_density_old(bins,dens,binsold1,densold1,binsold3,densold3,binsold5,densold5,filename):\n",
    "    \n",
    "    fig = plt.figure(figsize=(10, 7))\n",
    "    \n",
    "    plt.plot(bins, np.log10(dens), '-k',label= 'Simulacion Nueva '+gal+'/'+snap)\n",
    "    plt.plot(binsold1, np.log10(densold1), '-r', label= 'Old Galaxies '+gal+'/100')\n",
    "    plt.plot(binsold3, np.log10(densold3), '-g', label= 'Old Galaxies '+gal+'/300')\n",
    "    plt.plot(binsold5, np.log10(densold5), '-b', label= 'Old Galaxies '+gal+'/500')\n",
    "    plt.legend()\n",
    "    plt.title('Perfil de densidad de materia oscura', fontsize = 18)\n",
    "    plt.xlabel('Radio [Kpc]', fontsize = 20)\n",
    "    plt.ylabel(r'$\\rho$ [$1x10^{10}$ Msol/$kpc^{2}$]', fontsize = 20)\n",
    "    plt.grid()\n",
    "    plt.savefig(filename)\n",
    "    plt.clf()\n",
    "    plt.close()"
   ]
  },
  {
   "cell_type": "markdown",
   "metadata": {},
   "source": [
    "#### Funciones para las graficas G2 y G3"
   ]
  },
  {
   "cell_type": "code",
   "execution_count": 42,
   "metadata": {},
   "outputs": [],
   "source": [
    "# Plots de masa acumulada.\n",
    "def plot_mass_new(bins,mass,filename):\n",
    "    fig = plt.figure(figsize=(10, 7))\n",
    "\n",
    "    plt.plot(bins,mass,'-k',label= 'Simulacion Nueva '+gal+'/'+snap)\n",
    "    plt.legend()\n",
    "    plt.title('Masa acumulada de la Materia Oscura', fontsize= 18)\n",
    "    plt.xlabel('Radio [Kpc]',fontsize=20)\n",
    "    plt.ylabel('Masa Acumulada (Msol)')\n",
    "    plt.grid()\n",
    "    plt.savefig(filename)\n",
    "    plt.clf()\n",
    "    plt.close()"
   ]
  },
  {
   "cell_type": "code",
   "execution_count": 43,
   "metadata": {},
   "outputs": [],
   "source": [
    "# Plot para la densidad.\n",
    "def plot_density_new(bins,dens,filename):\n",
    "    \n",
    "    fig = plt.figure(figsize=(10, 7))\n",
    "    \n",
    "    plt.plot(bins, np.log10(dens), '-k',label= 'Simulacion Nueva '+gal+'/'+snap)\n",
    "    plt.legend()\n",
    "    plt.title('Perfil de densidad de materia oscura', fontsize = 18)\n",
    "    plt.xlabel('Radio [Kpc]', fontsize = 20)\n",
    "    plt.ylabel(r'$\\rho$ [$1x10^{10}$ Msol/$kpc^{2}$]', fontsize = 20)\n",
    "    plt.grid()\n",
    "    plt.savefig(filename)\n",
    "    plt.clf()\n",
    "    plt.close()"
   ]
  },
  {
   "cell_type": "markdown",
   "metadata": {},
   "source": [
    "#### Generacion de graficas"
   ]
  },
  {
   "cell_type": "code",
   "execution_count": 46,
   "metadata": {},
   "outputs": [
    {
     "name": "stderr",
     "output_type": "stream",
     "text": [
      "/home/danna01/.local/lib/python3.8/site-packages/pynbody/snapshot/gadgethdf.py:508: RuntimeWarning: No unit information found!\n",
      "  warnings.warn(\"No unit information found!\", RuntimeWarning)\n",
      "/home/danna01/.local/lib/python3.8/site-packages/pynbody/snapshot/gadgethdf.py:572: RuntimeWarning: No unit information found: using gadget-units.\n",
      "  warnings.warn(\n",
      "/home/danna01/.local/lib/python3.8/site-packages/pynbody/snapshot/gadgethdf.py:508: RuntimeWarning: No unit information found!\n",
      "  warnings.warn(\"No unit information found!\", RuntimeWarning)\n",
      "/home/danna01/.local/lib/python3.8/site-packages/pynbody/snapshot/gadgethdf.py:572: RuntimeWarning: No unit information found: using gadget-units.\n",
      "  warnings.warn(\n",
      "/home/danna01/.local/lib/python3.8/site-packages/pynbody/snapshot/gadgethdf.py:508: RuntimeWarning: No unit information found!\n",
      "  warnings.warn(\"No unit information found!\", RuntimeWarning)\n",
      "/home/danna01/.local/lib/python3.8/site-packages/pynbody/snapshot/gadgethdf.py:572: RuntimeWarning: No unit information found: using gadget-units.\n",
      "  warnings.warn(\n",
      "/home/danna01/.local/lib/python3.8/site-packages/pynbody/snapshot/gadgethdf.py:508: RuntimeWarning: No unit information found!\n",
      "  warnings.warn(\"No unit information found!\", RuntimeWarning)\n",
      "/home/danna01/.local/lib/python3.8/site-packages/pynbody/snapshot/gadgethdf.py:572: RuntimeWarning: No unit information found: using gadget-units.\n",
      "  warnings.warn(\n",
      "/home/danna01/.local/lib/python3.8/site-packages/pynbody/snapshot/gadgethdf.py:508: RuntimeWarning: No unit information found!\n",
      "  warnings.warn(\"No unit information found!\", RuntimeWarning)\n",
      "/home/danna01/.local/lib/python3.8/site-packages/pynbody/snapshot/gadgethdf.py:572: RuntimeWarning: No unit information found: using gadget-units.\n",
      "  warnings.warn(\n",
      "/home/danna01/.local/lib/python3.8/site-packages/pynbody/snapshot/gadgethdf.py:508: RuntimeWarning: No unit information found!\n",
      "  warnings.warn(\"No unit information found!\", RuntimeWarning)\n",
      "/home/danna01/.local/lib/python3.8/site-packages/pynbody/snapshot/gadgethdf.py:572: RuntimeWarning: No unit information found: using gadget-units.\n",
      "  warnings.warn(\n",
      "<ipython-input-41-fbfd3dd5a3b4>:6: RuntimeWarning: divide by zero encountered in log10\n",
      "  plt.plot(bins, np.log10(dens), '-k',label= 'Simulacion Nueva '+gal+'/'+snap)\n",
      "/home/danna01/.local/lib/python3.8/site-packages/pynbody/snapshot/gadgethdf.py:508: RuntimeWarning: No unit information found!\n",
      "  warnings.warn(\"No unit information found!\", RuntimeWarning)\n",
      "/home/danna01/.local/lib/python3.8/site-packages/pynbody/snapshot/gadgethdf.py:572: RuntimeWarning: No unit information found: using gadget-units.\n",
      "  warnings.warn(\n",
      "/home/danna01/.local/lib/python3.8/site-packages/pynbody/snapshot/gadgethdf.py:508: RuntimeWarning: No unit information found!\n",
      "  warnings.warn(\"No unit information found!\", RuntimeWarning)\n",
      "/home/danna01/.local/lib/python3.8/site-packages/pynbody/snapshot/gadgethdf.py:572: RuntimeWarning: No unit information found: using gadget-units.\n",
      "  warnings.warn(\n",
      "<ipython-input-41-fbfd3dd5a3b4>:6: RuntimeWarning: divide by zero encountered in log10\n",
      "  plt.plot(bins, np.log10(dens), '-k',label= 'Simulacion Nueva '+gal+'/'+snap)\n",
      "/home/danna01/.local/lib/python3.8/site-packages/pynbody/snapshot/gadgethdf.py:508: RuntimeWarning: No unit information found!\n",
      "  warnings.warn(\"No unit information found!\", RuntimeWarning)\n",
      "/home/danna01/.local/lib/python3.8/site-packages/pynbody/snapshot/gadgethdf.py:572: RuntimeWarning: No unit information found: using gadget-units.\n",
      "  warnings.warn(\n",
      "<ipython-input-41-fbfd3dd5a3b4>:6: RuntimeWarning: divide by zero encountered in log10\n",
      "  plt.plot(bins, np.log10(dens), '-k',label= 'Simulacion Nueva '+gal+'/'+snap)\n",
      "/home/danna01/.local/lib/python3.8/site-packages/pynbody/snapshot/gadgethdf.py:508: RuntimeWarning: No unit information found!\n",
      "  warnings.warn(\"No unit information found!\", RuntimeWarning)\n",
      "/home/danna01/.local/lib/python3.8/site-packages/pynbody/snapshot/gadgethdf.py:572: RuntimeWarning: No unit information found: using gadget-units.\n",
      "  warnings.warn(\n",
      "/home/danna01/.local/lib/python3.8/site-packages/pynbody/snapshot/gadgethdf.py:508: RuntimeWarning: No unit information found!\n",
      "  warnings.warn(\"No unit information found!\", RuntimeWarning)\n",
      "/home/danna01/.local/lib/python3.8/site-packages/pynbody/snapshot/gadgethdf.py:572: RuntimeWarning: No unit information found: using gadget-units.\n",
      "  warnings.warn(\n",
      "/home/danna01/.local/lib/python3.8/site-packages/pynbody/snapshot/gadgethdf.py:508: RuntimeWarning: No unit information found!\n",
      "  warnings.warn(\"No unit information found!\", RuntimeWarning)\n",
      "/home/danna01/.local/lib/python3.8/site-packages/pynbody/snapshot/gadgethdf.py:572: RuntimeWarning: No unit information found: using gadget-units.\n",
      "  warnings.warn(\n",
      "/home/danna01/.local/lib/python3.8/site-packages/pynbody/snapshot/gadgethdf.py:508: RuntimeWarning: No unit information found!\n",
      "  warnings.warn(\"No unit information found!\", RuntimeWarning)\n",
      "/home/danna01/.local/lib/python3.8/site-packages/pynbody/snapshot/gadgethdf.py:572: RuntimeWarning: No unit information found: using gadget-units.\n",
      "  warnings.warn(\n",
      "<ipython-input-43-04ba41947f46>:6: RuntimeWarning: divide by zero encountered in log10\n",
      "  plt.plot(bins, np.log10(dens), '-k',label= 'Simulacion Nueva '+gal+'/'+snap)\n",
      "/home/danna01/.local/lib/python3.8/site-packages/pynbody/snapshot/gadgethdf.py:508: RuntimeWarning: No unit information found!\n",
      "  warnings.warn(\"No unit information found!\", RuntimeWarning)\n",
      "/home/danna01/.local/lib/python3.8/site-packages/pynbody/snapshot/gadgethdf.py:572: RuntimeWarning: No unit information found: using gadget-units.\n",
      "  warnings.warn(\n",
      "/home/danna01/.local/lib/python3.8/site-packages/pynbody/snapshot/gadgethdf.py:508: RuntimeWarning: No unit information found!\n",
      "  warnings.warn(\"No unit information found!\", RuntimeWarning)\n",
      "/home/danna01/.local/lib/python3.8/site-packages/pynbody/snapshot/gadgethdf.py:572: RuntimeWarning: No unit information found: using gadget-units.\n",
      "  warnings.warn(\n",
      "<ipython-input-43-04ba41947f46>:6: RuntimeWarning: divide by zero encountered in log10\n",
      "  plt.plot(bins, np.log10(dens), '-k',label= 'Simulacion Nueva '+gal+'/'+snap)\n",
      "/home/danna01/.local/lib/python3.8/site-packages/pynbody/snapshot/gadgethdf.py:508: RuntimeWarning: No unit information found!\n",
      "  warnings.warn(\"No unit information found!\", RuntimeWarning)\n",
      "/home/danna01/.local/lib/python3.8/site-packages/pynbody/snapshot/gadgethdf.py:572: RuntimeWarning: No unit information found: using gadget-units.\n",
      "  warnings.warn(\n",
      "<ipython-input-43-04ba41947f46>:6: RuntimeWarning: divide by zero encountered in log10\n",
      "  plt.plot(bins, np.log10(dens), '-k',label= 'Simulacion Nueva '+gal+'/'+snap)\n",
      "/home/danna01/.local/lib/python3.8/site-packages/pynbody/snapshot/gadgethdf.py:508: RuntimeWarning: No unit information found!\n",
      "  warnings.warn(\"No unit information found!\", RuntimeWarning)\n",
      "/home/danna01/.local/lib/python3.8/site-packages/pynbody/snapshot/gadgethdf.py:572: RuntimeWarning: No unit information found: using gadget-units.\n",
      "  warnings.warn(\n",
      "<ipython-input-43-04ba41947f46>:6: RuntimeWarning: divide by zero encountered in log10\n",
      "  plt.plot(bins, np.log10(dens), '-k',label= 'Simulacion Nueva '+gal+'/'+snap)\n",
      "/home/danna01/.local/lib/python3.8/site-packages/pynbody/snapshot/gadgethdf.py:508: RuntimeWarning: No unit information found!\n",
      "  warnings.warn(\"No unit information found!\", RuntimeWarning)\n",
      "/home/danna01/.local/lib/python3.8/site-packages/pynbody/snapshot/gadgethdf.py:572: RuntimeWarning: No unit information found: using gadget-units.\n",
      "  warnings.warn(\n",
      "<ipython-input-43-04ba41947f46>:6: RuntimeWarning: divide by zero encountered in log10\n",
      "  plt.plot(bins, np.log10(dens), '-k',label= 'Simulacion Nueva '+gal+'/'+snap)\n",
      "/home/danna01/.local/lib/python3.8/site-packages/pynbody/snapshot/gadgethdf.py:508: RuntimeWarning: No unit information found!\n",
      "  warnings.warn(\"No unit information found!\", RuntimeWarning)\n",
      "/home/danna01/.local/lib/python3.8/site-packages/pynbody/snapshot/gadgethdf.py:572: RuntimeWarning: No unit information found: using gadget-units.\n",
      "  warnings.warn(\n",
      "/home/danna01/.local/lib/python3.8/site-packages/pynbody/snapshot/gadgethdf.py:508: RuntimeWarning: No unit information found!\n",
      "  warnings.warn(\"No unit information found!\", RuntimeWarning)\n",
      "/home/danna01/.local/lib/python3.8/site-packages/pynbody/snapshot/gadgethdf.py:572: RuntimeWarning: No unit information found: using gadget-units.\n",
      "  warnings.warn(\n"
     ]
    },
    {
     "name": "stderr",
     "output_type": "stream",
     "text": [
      "<ipython-input-43-04ba41947f46>:6: RuntimeWarning: divide by zero encountered in log10\n",
      "  plt.plot(bins, np.log10(dens), '-k',label= 'Simulacion Nueva '+gal+'/'+snap)\n",
      "/home/danna01/.local/lib/python3.8/site-packages/pynbody/snapshot/gadgethdf.py:508: RuntimeWarning: No unit information found!\n",
      "  warnings.warn(\"No unit information found!\", RuntimeWarning)\n",
      "/home/danna01/.local/lib/python3.8/site-packages/pynbody/snapshot/gadgethdf.py:572: RuntimeWarning: No unit information found: using gadget-units.\n",
      "  warnings.warn(\n",
      "/home/danna01/.local/lib/python3.8/site-packages/pynbody/snapshot/gadgethdf.py:508: RuntimeWarning: No unit information found!\n",
      "  warnings.warn(\"No unit information found!\", RuntimeWarning)\n",
      "/home/danna01/.local/lib/python3.8/site-packages/pynbody/snapshot/gadgethdf.py:572: RuntimeWarning: No unit information found: using gadget-units.\n",
      "  warnings.warn(\n",
      "/home/danna01/.local/lib/python3.8/site-packages/pynbody/snapshot/gadgethdf.py:508: RuntimeWarning: No unit information found!\n",
      "  warnings.warn(\"No unit information found!\", RuntimeWarning)\n",
      "/home/danna01/.local/lib/python3.8/site-packages/pynbody/snapshot/gadgethdf.py:572: RuntimeWarning: No unit information found: using gadget-units.\n",
      "  warnings.warn(\n",
      "/home/danna01/.local/lib/python3.8/site-packages/pynbody/snapshot/gadgethdf.py:508: RuntimeWarning: No unit information found!\n",
      "  warnings.warn(\"No unit information found!\", RuntimeWarning)\n",
      "/home/danna01/.local/lib/python3.8/site-packages/pynbody/snapshot/gadgethdf.py:572: RuntimeWarning: No unit information found: using gadget-units.\n",
      "  warnings.warn(\n",
      "<ipython-input-43-04ba41947f46>:6: RuntimeWarning: divide by zero encountered in log10\n",
      "  plt.plot(bins, np.log10(dens), '-k',label= 'Simulacion Nueva '+gal+'/'+snap)\n"
     ]
    }
   ],
   "source": [
    "# Generacion de plots\n",
    "\n",
    "minsnap = 100\n",
    "maxsnap = 700\n",
    "stepsnap = 100\n",
    "\n",
    "# definimos la fuente de los datos, para esto usamos los diccionarios que definimos mas arriba\n",
    "for gal in ['G0','G1']:\n",
    "    for snap in np.arange(minsnap,maxsnap,stepsnap): \n",
    "        snap = str(snap).zfill(3)\n",
    "        # Aca definimos la ruta en la cual estan almacenados los snapshots\n",
    "        data_nuevo_ruta = pynbody.load(data_nuevo+'/'+gal+'/snapshot_'+snap+'.hdf5')\n",
    "        data_viejo_100 = pynbody.load(data_viejo+'/'+gal+'/snapshot_100.hdf5')\n",
    "        data_viejo_300 = pynbody.load(data_viejo+'/'+gal+'/snapshot_300.hdf5')\n",
    "        data_viejo_500 = pynbody.load(data_viejo+'/'+gal+'/snapshot_500.hdf5')\n",
    "        \n",
    "        # Aca vamos a generar cada uno de los plots, para lo cual primero debemos definir\n",
    "        # cada una de las funciones de masa acumulada y densidad.\n",
    "        bins, mass = accumulated_mass_old(data_nuevo_ruta.dm['pos'],data_nuevo_ruta.dm['mass'],n=int(limites_materia_oscura[gal][1]*4),limits=limites_materia_oscura[gal])\n",
    "        binsold100,massold100 = accumulated_mass_old(data_viejo_100.dm['pos'],data_viejo_100.dm['mass'],n=int(limites_materia_oscura[gal][1]*4),limits=limites_materia_oscura[gal])\n",
    "        binsold300,massold300 = accumulated_mass_old(data_viejo_300.dm['pos'],data_viejo_300.dm['mass'],n=int(limites_materia_oscura[gal][1]*4),limits=limites_materia_oscura[gal])\n",
    "        binsold500,massold500 = accumulated_mass_old(data_viejo_500.dm['pos'],data_viejo_500.dm['mass'],n=int(limites_materia_oscura[gal][1]*4),limits=limites_materia_oscura[gal])\n",
    "        \n",
    "        # Aca utilizamos la funcion de densidad\n",
    "        bins,shell,dens,bins1,shell1,dens1,bisn3,shell3,mass3,bins5,shell5,mass5 = density_dm_old(bins,mass,binsold100,massold100,binsold300,massold300,binsold500,massold500)\n",
    "        \n",
    "        # Aca se generan las graficas\n",
    "        plot_mass_old(bins,mass,binsold100,massold100,binsold300,massold300,binsold500,massold500,filename='Materia_oscura/Materia_Oscura_Acumulada_'+gal+'_dm_'+snap+'.jpg')\n",
    "       \n",
    "        plot_density_old(bins,dens,bins1,dens1,bisn3,mass3,bins5,mass5,filename='Materia_oscura/Materia_Oscura_Densidad_'+gal+'_dm_'+snap+'.jpg')\n",
    "\n",
    "\n",
    "for gal in ['G2','G3']:\n",
    "    for snap in np.arange(minsnap,maxsnap,stepsnap): \n",
    "        snap = str(snap).zfill(3)\n",
    "        # Aca definimos la ruta en la cual estan almacenados los snapshots\n",
    "        data_nuevo_ruta = pynbody.load(data_nuevo+'/'+gal+'/snapshot_'+snap+'.hdf5')\n",
    "        \n",
    "        # Aca vamos a generar cada uno de los plots, para lo cual primero debemos definir\n",
    "        # cada una de las funciones de masa acumulada y densidad.\n",
    "        bins, mass = accumulated_mass_new(data_nuevo_ruta.dm['pos'],data_nuevo_ruta.dm['mass'],n=int(limites_materia_oscura[gal][1]*4),limits=limites_materia_oscura[gal])\n",
    "        \n",
    "        bins_middle, shell_mass, dens = density_dm_new(bins, mass)\n",
    "        \n",
    "        plot_mass_new(bins,mass,filename='Materia_oscura/Materia_Oscura_Acumulada_'+gal+'_dm_'+snap+'.jpg')\n",
    "       \n",
    "        plot_density_new(bins_middle,dens,filename='Materia_oscura/Materia_Oscura_Densidad_'+gal+'_dm_'+snap+'.jpg')"
   ]
  },
  {
   "cell_type": "markdown",
   "metadata": {},
   "source": [
    "#### Graficos Logaritmicos"
   ]
  },
  {
   "cell_type": "code",
   "execution_count": 45,
   "metadata": {},
   "outputs": [
    {
     "name": "stdout",
     "output_type": "stream",
     "text": [
      "Help on function loglog in module matplotlib.pyplot:\n",
      "\n",
      "loglog(*args, **kwargs)\n",
      "    Make a plot with log scaling on both the x and y axis.\n",
      "    \n",
      "    Call signatures::\n",
      "    \n",
      "        loglog([x], y, [fmt], data=None, **kwargs)\n",
      "        loglog([x], y, [fmt], [x2], y2, [fmt2], ..., **kwargs)\n",
      "    \n",
      "    This is just a thin wrapper around `.plot` which additionally changes\n",
      "    both the x-axis and the y-axis to log scaling. All of the concepts and\n",
      "    parameters of plot can be used here as well.\n",
      "    \n",
      "    The additional parameters *base*, *subs* and *nonpositive* control the\n",
      "    x/y-axis properties. They are just forwarded to `.Axes.set_xscale` and\n",
      "    `.Axes.set_yscale`. To use different properties on the x-axis and the\n",
      "    y-axis, use e.g.\n",
      "    ``ax.set_xscale(\"log\", base=10); ax.set_yscale(\"log\", base=2)``.\n",
      "    \n",
      "    Parameters\n",
      "    ----------\n",
      "    base : float, default: 10\n",
      "        Base of the logarithm.\n",
      "    \n",
      "    subs : sequence, optional\n",
      "        The location of the minor ticks. If *None*, reasonable locations\n",
      "        are automatically chosen depending on the number of decades in the\n",
      "        plot. See `.Axes.set_xscale`/`.Axes.set_yscale` for details.\n",
      "    \n",
      "    nonpositive : {'mask', 'clip'}, default: 'mask'\n",
      "        Non-positive values can be masked as invalid, or clipped to a very\n",
      "        small positive number.\n",
      "    \n",
      "    Returns\n",
      "    -------\n",
      "    list of `~.Line2D`\n",
      "        Objects representing the plotted data.\n",
      "    \n",
      "    Other Parameters\n",
      "    ----------------\n",
      "    **kwargs\n",
      "        All parameters supported by `.plot`.\n",
      "\n"
     ]
    }
   ],
   "source": [
    "help(plt.loglog)"
   ]
  },
  {
   "cell_type": "code",
   "execution_count": 48,
   "metadata": {},
   "outputs": [],
   "source": [
    "# Masa acumulada de la materia oscura\n",
    "\n",
    "def accumulated_mass_log(pos,mass,n,limits):\n",
    "    \n",
    "    r = np.sqrt((pos**2).sum(axis=1))\n",
    "    # histograma acumulado\n",
    "    histo_acum = scipy.stats.cumfreq(r, n, limits, weights=mass)\n",
    "    # hallamos los radios manualmente\n",
    "    positions = histo_acum[1]+ np.arange(1,n+1) * histo_acum[2]\n",
    "    r = np.sqrt((pos**2).sum(axis=1))\n",
    "  \n",
    "    return positions, histo_acum[0]"
   ]
  },
  {
   "cell_type": "code",
   "execution_count": 49,
   "metadata": {},
   "outputs": [],
   "source": [
    "# Funcion de densidad\n",
    "def density_dm_log(x,y):\n",
    "    x,y = accumulated_mass_new(data_nuevo_ruta.dm['pos'],data_nuevo_ruta.dm['mass'],n=int(limites_materia_oscura[gal][1]*4),limits=limites_materia_oscura[gal])\n",
    "    # np.roll re acomoda los datos desplazandolos una posicion\n",
    "    x2 = np.roll(x,1)\n",
    "    x2[0]=0\n",
    "    # promedio del radio\n",
    "    bins_middle = (x + x2 )/2\n",
    "    \n",
    "    x_cubico = x**3\n",
    "    x_cubico_2 = np.roll(x_cubico,1)\n",
    "    x_cubico_2[0]=0\n",
    "    \n",
    "    y2 = np.roll(y,1)\n",
    "    y2[0]=0\n",
    "    shell_mass = y - y2\n",
    "    \n",
    "    # \\rho = (4/3)*pi*R^3\n",
    "    dens = 3* shell_mass / ((4*np.pi)* (x_cubico - x_cubico_2) ) \n",
    "\n",
    "    return bins_middle, shell_mass, dens"
   ]
  },
  {
   "cell_type": "code",
   "execution_count": 50,
   "metadata": {},
   "outputs": [],
   "source": [
    "# Plot para la densidad.\n",
    "def plot_density_log(bins,dens,filename):\n",
    "    \n",
    "    fig = plt.figure(figsize=(10, 7))\n",
    "    \n",
    "    plt.loglog(bins, dens, '-k',label= 'Simulacion Nueva '+gal+'/'+snap)\n",
    "    plt.legend()\n",
    "    plt.title('Perfil de densidad de materia oscura', fontsize = 18)\n",
    "    plt.xlabel('Radio [Kpc]', fontsize = 20)\n",
    "    plt.ylabel(r'$\\rho$ [$1x10^{10}$ Msol/$kpc^{2}$]', fontsize = 20)\n",
    "    plt.grid()\n",
    "    plt.savefig(filename)\n",
    "    plt.clf()\n",
    "    plt.close()"
   ]
  },
  {
   "cell_type": "code",
   "execution_count": 51,
   "metadata": {},
   "outputs": [
    {
     "name": "stderr",
     "output_type": "stream",
     "text": [
      "/home/danna01/.local/lib/python3.8/site-packages/pynbody/snapshot/gadgethdf.py:508: RuntimeWarning: No unit information found!\n",
      "  warnings.warn(\"No unit information found!\", RuntimeWarning)\n",
      "/home/danna01/.local/lib/python3.8/site-packages/pynbody/snapshot/gadgethdf.py:572: RuntimeWarning: No unit information found: using gadget-units.\n",
      "  warnings.warn(\n",
      "/home/danna01/.local/lib/python3.8/site-packages/pynbody/snapshot/gadgethdf.py:508: RuntimeWarning: No unit information found!\n",
      "  warnings.warn(\"No unit information found!\", RuntimeWarning)\n",
      "/home/danna01/.local/lib/python3.8/site-packages/pynbody/snapshot/gadgethdf.py:572: RuntimeWarning: No unit information found: using gadget-units.\n",
      "  warnings.warn(\n",
      "/home/danna01/.local/lib/python3.8/site-packages/pynbody/snapshot/gadgethdf.py:508: RuntimeWarning: No unit information found!\n",
      "  warnings.warn(\"No unit information found!\", RuntimeWarning)\n",
      "/home/danna01/.local/lib/python3.8/site-packages/pynbody/snapshot/gadgethdf.py:572: RuntimeWarning: No unit information found: using gadget-units.\n",
      "  warnings.warn(\n",
      "/home/danna01/.local/lib/python3.8/site-packages/pynbody/snapshot/gadgethdf.py:508: RuntimeWarning: No unit information found!\n",
      "  warnings.warn(\"No unit information found!\", RuntimeWarning)\n",
      "/home/danna01/.local/lib/python3.8/site-packages/pynbody/snapshot/gadgethdf.py:572: RuntimeWarning: No unit information found: using gadget-units.\n",
      "  warnings.warn(\n"
     ]
    }
   ],
   "source": [
    "minsnap = 100\n",
    "maxsnap = 200\n",
    "stepsnap = 100\n",
    "for gal in ['G0','G1','G2','G3']:\n",
    "    for snap in np.arange(minsnap,maxsnap,stepsnap): \n",
    "        snap = str(snap).zfill(3)\n",
    "        # Aca definimos la ruta en la cual estan almacenados los snapshots\n",
    "        data_nuevo_ruta = pynbody.load(data_nuevo+'/'+gal+'/snapshot_'+snap+'.hdf5')\n",
    "        \n",
    "        # Aca vamos a generar cada uno de los plots, para lo cual primero debemos definir\n",
    "        # cada una de las funciones de masa acumulada y densidad.\n",
    "        bins, mass = accumulated_mass_log(data_nuevo_ruta.dm['pos'],data_nuevo_ruta.dm['mass'],n=int(limites_materia_oscura[gal][1]*4),limits=limites_materia_oscura[gal])\n",
    "        \n",
    "        bins_middle, shell_mass, dens = density_dm_log(bins, mass)\n",
    "       \n",
    "        plot_density_log(bins_middle,dens,filename='Materia_oscura/Materia_Oscura_Densidad_Log'+gal+'_dm_'+snap+'.jpg')"
   ]
  },
  {
   "cell_type": "code",
   "execution_count": null,
   "metadata": {},
   "outputs": [],
   "source": []
  }
 ],
 "metadata": {
  "kernelspec": {
   "display_name": "Python 3",
   "language": "python",
   "name": "python3"
  },
  "language_info": {
   "codemirror_mode": {
    "name": "ipython",
    "version": 3
   },
   "file_extension": ".py",
   "mimetype": "text/x-python",
   "name": "python",
   "nbconvert_exporter": "python",
   "pygments_lexer": "ipython3",
   "version": "3.8.5"
  }
 },
 "nbformat": 4,
 "nbformat_minor": 4
}
