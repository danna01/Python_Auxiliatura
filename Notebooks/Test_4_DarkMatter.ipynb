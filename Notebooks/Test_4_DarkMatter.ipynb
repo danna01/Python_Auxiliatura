{
 "cells": [
  {
   "cell_type": "markdown",
   "metadata": {},
   "source": [
    "## Densidad de materia oscura"
   ]
  },
  {
   "cell_type": "markdown",
   "metadata": {},
   "source": [
    "### Informacion por utilizar"
   ]
  },
  {
   "cell_type": "code",
   "execution_count": 1,
   "metadata": {},
   "outputs": [],
   "source": [
    "#importamos las herramientas necesarias\n",
    "import pynbody\n",
    "import matplotlib.pyplot as plt\n",
    "import numpy as np\n",
    "from scipy.optimize import curve_fit\n",
    "from scipy import optimize\n",
    "import scipy.stats\n",
    "from astropy import units as unit\n",
    "import sys\n",
    "from matplotlib.animation import FuncAnimation\n",
    "import Funciones_Dark_Matter as fnd"
   ]
  },
  {
   "cell_type": "code",
   "execution_count": 2,
   "metadata": {},
   "outputs": [],
   "source": [
    "#importamos los datos\n",
    "data_nuevo = '/media/danna01/Disk/SNAPSHOTS/Galaxias_Nuevas'\n",
    "data_viejo = '/media/danna01/Disk/SNAPSHOTS/Galaxias_Viejas'\n",
    "#datadir = '/media/juan/Pesquisa/Simulations_Chris_2021'"
   ]
  },
  {
   "cell_type": "markdown",
   "metadata": {},
   "source": [
    "A continuacion se lista la informacion importante para este notebook\n",
    "\n",
    " 1) Masa Total de materia oscura\n",
    " \n",
    " 2) Densidad de la materia oscura"
   ]
  },
  {
   "cell_type": "code",
   "execution_count": 3,
   "metadata": {},
   "outputs": [],
   "source": [
    "# Estos son los diccionarios que definen los limites que seran utilizados para los plots de las galaxias para los\n",
    "# calculos de densidad de materia oscura y la masa acumulada a diferentes radios para la amteria oscura tambien\n",
    "dicti = {}\n",
    "galaxies = ['G0', 'G1', 'G2', 'G3']\n",
    "# Estos son los limites para graficar la masa acumulada y la densidad; sus valores corresponden a 10 veces el valor\n",
    "# del scale - lenght de cada galaxia.\n",
    "limites_materia_oscura = {'G0':(0,55), 'G1':(0,75), 'G2':(0,95), 'G3':(0,140)} #kpc\n",
    "# Aca observamos los limites que se usaran para calcular el valor de 'h' que nos indicara que tan bueno es el ajuste\n",
    "# limites --> De que dependen?"
   ]
  },
  {
   "cell_type": "markdown",
   "metadata": {},
   "source": [
    "### Funciones Comparaciones"
   ]
  },
  {
   "cell_type": "markdown",
   "metadata": {},
   "source": [
    "#### Relacion masa acumulada vs. radio"
   ]
  },
  {
   "cell_type": "code",
   "execution_count": 42,
   "metadata": {},
   "outputs": [],
   "source": [
    "# Masa acumulada de materia oscura\n",
    "def accumulated_mass(posnew,massnew,posold, massold,n,limits):\n",
    "    # Para las simulaciones nuevas\n",
    "    rnew = np.sqrt((posnew**2).sum(axis=1))\n",
    "    # histograma acumulado\n",
    "    histo_acum_new = scipy.stats.cumfreq(rnew, n, limits, weights=massnew)\n",
    "    # hallamos los radios manualmente\n",
    "    positionsnew = histo_acum_new[1]+ np.arange(1,n+1) * histo_acum_new[2]\n",
    "    # Para las simulaciones viejas\n",
    "    rold = np.sqrt((posold**2).sum(axis=1))\n",
    "    histo_acum_old = scipy.stats.cumfreq(rold, n, limits, weights=massold)\n",
    "    positionsold = histo_acum_old[1]+ np.arange(1,n+1) * histo_acum_old[2]\n",
    "    \n",
    "    return positionsnew, histo_acum_new[0], positionsold, histo_acum_old[0]"
   ]
  },
  {
   "cell_type": "markdown",
   "metadata": {},
   "source": [
    "#### Relacion densidad vs. radio"
   ]
  },
  {
   "cell_type": "code",
   "execution_count": 43,
   "metadata": {},
   "outputs": [],
   "source": [
    "# Funcion densidad\n",
    "def density_dm(xnew,ynew,xold,yold):\n",
    "    xnew,ynew, xold, yold = accumulated_mass(data_nuevo_ruta.dm['pos'],data_nuevo_ruta.dm['mass'],data_viejo_ruta.dm['pos'],data_viejo_ruta.dm['mass'],n=int(limites_materia_oscura[gal][1]*4),limits=limites_materia_oscura[gal])\n",
    "    # Para las simulaciones nuevas\n",
    "    # np.roll re acomoda los datos desplazandolos una posicion\n",
    "    x2new = np.roll(xnew,1)\n",
    "    x2new[0]=0\n",
    "    # promedio del radio\n",
    "    bins_middle_new = (xnew + x2new )/2\n",
    "    \n",
    "    x_cubico_new = xnew**3\n",
    "    x_cubico_2_new = np.roll(x_cubico_new,1)\n",
    "    x_cubico_2_new[0]=0\n",
    "   \n",
    "    y2new = np.roll(ynew,1)\n",
    "    y2new[0]=0\n",
    "  \n",
    "    shell_mass_new = ynew - y2new\n",
    "    \n",
    "    # \\rho = (4/3)*pi*R^3\n",
    "    densnew = 3* shell_mass_new / ((4*np.pi)* (x_cubico_new - x_cubico_2_new) )\n",
    "    \n",
    "    # Para las simulaciones viejas\n",
    "    x2old = np.roll(xold,1)\n",
    "    x2old[0]=0\n",
    "    bins_middle_old = (xold + x2old )/2\n",
    "    \n",
    "    x_cubico_old = xold**3\n",
    "    x_cubico_2_old = np.roll(x_cubico_old,1)\n",
    "    x_cubico_2_old[0]=0\n",
    "    \n",
    "    y2old = np.roll(yold,1)\n",
    "    y2old[0]=0\n",
    "   \n",
    "    shell_mass_old = yold - y2old\n",
    "    \n",
    "    # \\rho = (4/3)*pi*R^3\n",
    "    densold = 3* shell_mass_old / ((4*np.pi)* (x_cubico_old - x_cubico_2_old) ) \n",
    "    \n",
    "    return bins_middle_new, shell_mass_new, densnew, bins_middle_old, shell_mass_old, densold"
   ]
  },
  {
   "cell_type": "markdown",
   "metadata": {},
   "source": [
    "#### Funciones para las graficas"
   ]
  },
  {
   "cell_type": "code",
   "execution_count": 44,
   "metadata": {},
   "outputs": [],
   "source": [
    "# Plots masa acumulada.\n",
    "def plot_mass(binsnew,massnew,binsold,massold,filename):\n",
    "    fig = plt.figure(figsize=(10, 7))\n",
    "    \n",
    "    plt.plot(binsnew,massnew,'-k',label= 'New Galaxies')\n",
    "    plt.plot(binsold,massold,'-r', label= 'Old Galaxies')\n",
    "    \n",
    "    plt.title('Masa acumulada de la Materia Oscura', fontsize= 18)\n",
    "    plt.xlabel('Radio [Kpc]',fontsize=20)\n",
    "    plt.ylabel('Masa Acumulada (Msol)')\n",
    "    plt.legend()\n",
    "    plt.grid()\n",
    "    plt.savefig(filename)\n",
    "    plt.clf()\n",
    "    plt.close()"
   ]
  },
  {
   "cell_type": "code",
   "execution_count": 47,
   "metadata": {},
   "outputs": [],
   "source": [
    "# Plots densidad.\n",
    "def plot_density(binsnew,densnew,binsold, densold, filename):\n",
    "    \n",
    "    fig = plt.figure(figsize=(10, 7))\n",
    "    \n",
    "    plt.plot(binsnew, np.log10(densnew), '-k', label= 'New Galaxies')\n",
    "    plt.plot(binsold, np.log10(densold), '-r', label= 'Old Galaxies')\n",
    "   \n",
    "    plt.title('Perfil de densidad de materia oscura', fontsize = 18)\n",
    "    plt.xlabel('Radio [Kpc]', fontsize = 20)\n",
    "    plt.ylabel(r'$\\rho$ [$1x10^{10}$ Msol/$kpc^{2}$]', fontsize = 20)\n",
    "    plt.legend()\n",
    "    plt.grid()\n",
    "    plt.savefig(filename)\n",
    "    plt.clf()\n",
    "    plt.close()"
   ]
  },
  {
   "cell_type": "markdown",
   "metadata": {},
   "source": [
    "#### Generacion de graficas"
   ]
  },
  {
   "cell_type": "code",
   "execution_count": 55,
   "metadata": {},
   "outputs": [
    {
     "name": "stderr",
     "output_type": "stream",
     "text": [
      "/home/danna01/.local/lib/python3.8/site-packages/pynbody/snapshot/gadgethdf.py:508: RuntimeWarning: No unit information found!\n",
      "  warnings.warn(\"No unit information found!\", RuntimeWarning)\n",
      "/home/danna01/.local/lib/python3.8/site-packages/pynbody/snapshot/gadgethdf.py:572: RuntimeWarning: No unit information found: using gadget-units.\n",
      "  warnings.warn(\n",
      "/home/danna01/.local/lib/python3.8/site-packages/pynbody/snapshot/gadgethdf.py:508: RuntimeWarning: No unit information found!\n",
      "  warnings.warn(\"No unit information found!\", RuntimeWarning)\n",
      "/home/danna01/.local/lib/python3.8/site-packages/pynbody/snapshot/gadgethdf.py:572: RuntimeWarning: No unit information found: using gadget-units.\n",
      "  warnings.warn(\n",
      "/home/danna01/.local/lib/python3.8/site-packages/pynbody/snapshot/gadgethdf.py:508: RuntimeWarning: No unit information found!\n",
      "  warnings.warn(\"No unit information found!\", RuntimeWarning)\n",
      "/home/danna01/.local/lib/python3.8/site-packages/pynbody/snapshot/gadgethdf.py:572: RuntimeWarning: No unit information found: using gadget-units.\n",
      "  warnings.warn(\n",
      "/home/danna01/.local/lib/python3.8/site-packages/pynbody/snapshot/gadgethdf.py:508: RuntimeWarning: No unit information found!\n",
      "  warnings.warn(\"No unit information found!\", RuntimeWarning)\n",
      "/home/danna01/.local/lib/python3.8/site-packages/pynbody/snapshot/gadgethdf.py:572: RuntimeWarning: No unit information found: using gadget-units.\n",
      "  warnings.warn(\n",
      "/home/danna01/.local/lib/python3.8/site-packages/pynbody/snapshot/gadgethdf.py:508: RuntimeWarning: No unit information found!\n",
      "  warnings.warn(\"No unit information found!\", RuntimeWarning)\n",
      "/home/danna01/.local/lib/python3.8/site-packages/pynbody/snapshot/gadgethdf.py:572: RuntimeWarning: No unit information found: using gadget-units.\n",
      "  warnings.warn(\n",
      "<ipython-input-47-3fa8dba7f88b>:6: RuntimeWarning: divide by zero encountered in log10\n",
      "  plt.plot(binsnew, np.log10(densnew), '-k', label= 'New Galaxies')\n",
      "/home/danna01/.local/lib/python3.8/site-packages/pynbody/snapshot/gadgethdf.py:508: RuntimeWarning: No unit information found!\n",
      "  warnings.warn(\"No unit information found!\", RuntimeWarning)\n",
      "/home/danna01/.local/lib/python3.8/site-packages/pynbody/snapshot/gadgethdf.py:572: RuntimeWarning: No unit information found: using gadget-units.\n",
      "  warnings.warn(\n"
     ]
    }
   ],
   "source": [
    "# Generacion de plots.\n",
    "minsnap = 100\n",
    "maxsnap = 700\n",
    "stepsnap = 200\n",
    "\n",
    "# definimos la fuente de los datos, para esto usamos los diccionarios que definimos mas arriba\n",
    "for gal in ['G0','G1']:\n",
    "    for snap in np.arange(minsnap,maxsnap,stepsnap): \n",
    "        snap = str(snap).zfill(3)\n",
    "        # Aca definimos la ruta en la cual estan almacenados los snapshots\n",
    "        data_nuevo_ruta = pynbody.load(data_nuevo+'/'+gal+'/snapshot_'+snap+'.hdf5')\n",
    "        data_viejo_ruta = pynbody.load(data_viejo+'/'+gal+'/snapshot_'+snap+'.hdf5')\n",
    "        \n",
    "        \n",
    "        # Aca vamos a generar cada uno de los plots, para lo cual primero debemos definir\n",
    "        # cada una de las funciones de masa acumulada y densidad.\n",
    "        bins_new, mass_new, bins_old, mass_old = accumulated_mass(data_nuevo_ruta.dm['pos'],data_nuevo_ruta.dm['mass'],data_viejo_ruta.dm['pos'],data_viejo_ruta.dm['mass'],n=int(limites_materia_oscura[gal][1]*4),limits=limites_materia_oscura[gal])\n",
    "    \n",
    "        bins_middle_new, shell_mass_new, dens_new, bins_middle_old, shell_mass_old, dens_old  = density_dm(bins_new, mass_new, bins_old, mass_old)\n",
    "      \n",
    "        plot_mass(bins_new,mass_new,bins_old,mass_old,filename='Materia_oscura/Comparaciones/Materia_Oscura_Acumulada_'+gal+'_dm_'+snap+'.jpg')\n",
    "        \n",
    "        plot_density(bins_middle_new,dens_new,bins_middle_old,dens_old,filename='Materia_oscura/Comparaciones/Materia_Oscura_Densidad_'+gal+'_dm_'+snap+'.jpg')"
   ]
  },
  {
   "cell_type": "markdown",
   "metadata": {},
   "source": [
    "### Funciones Materia Oscura Galaxias Nuevas"
   ]
  },
  {
   "cell_type": "markdown",
   "metadata": {},
   "source": [
    "#### Relacion masa acumulada vs. radio"
   ]
  },
  {
   "cell_type": "code",
   "execution_count": 4,
   "metadata": {},
   "outputs": [],
   "source": [
    "# Masa acumulada de la materia oscura\n",
    "\n",
    "def accumulated_mass_new(pos,mass,n,limits):\n",
    "    \n",
    "    r = np.sqrt((pos**2).sum(axis=1))\n",
    "    # histograma acumulado\n",
    "    histo_acum = scipy.stats.cumfreq(r, n, limits, weights=mass)\n",
    "    # hallamos los radios manualmente\n",
    "    positions = histo_acum[1]+ np.arange(1,n+1) * histo_acum[2]\n",
    "  \n",
    "    return positions, histo_acum[0]"
   ]
  },
  {
   "cell_type": "markdown",
   "metadata": {},
   "source": [
    "#### Relacion densidad vs. radio"
   ]
  },
  {
   "cell_type": "code",
   "execution_count": 5,
   "metadata": {},
   "outputs": [],
   "source": [
    "# Funcion de densidad\n",
    "def density_dm_new(x,y):\n",
    "    x,y = accumulated_mass_new(data_nuevo_ruta.dm['pos'],data_nuevo_ruta.dm['mass'],n=int(limites_materia_oscura[gal][1]*4),limits=limites_materia_oscura[gal])\n",
    "    # np.roll re acomoda los datos desplazandolos una posicion\n",
    "    x2 = np.roll(x,1)\n",
    "    x2[0]=0\n",
    "    # promedio del radio\n",
    "    bins_middle = (x + x2 )/2\n",
    "    \n",
    "    x_cubico = x**3\n",
    "    x_cubico_2 = np.roll(x_cubico,1)\n",
    "    x_cubico_2[0]=0\n",
    "    \n",
    "    y2 = np.roll(y,1)\n",
    "    y2[0]=0\n",
    "    shell_mass = y - y2\n",
    "    \n",
    "    # \\rho = (4/3)*pi*R^3\n",
    "    dens = 3* shell_mass / ((4*np.pi)* (x_cubico - x_cubico_2) ) \n",
    "\n",
    "    return bins_middle, shell_mass, dens"
   ]
  },
  {
   "cell_type": "markdown",
   "metadata": {},
   "source": [
    "#### Funciones para las graficas"
   ]
  },
  {
   "cell_type": "code",
   "execution_count": 6,
   "metadata": {},
   "outputs": [],
   "source": [
    "# Plots de masa acumulada.\n",
    "def plot_mass_new(bins,mass,filename):\n",
    "    fig = plt.figure(figsize=(10, 7))\n",
    "\n",
    "    plt.plot(bins,mass,'-k')\n",
    "\n",
    "    plt.title('Masa acumulada de la Materia Oscura', fontsize= 18)\n",
    "    plt.xlabel('Radio [Kpc]',fontsize=20)\n",
    "    plt.ylabel('Masa Acumulada (Msol)')\n",
    "    plt.grid()\n",
    "    plt.savefig(filename)\n",
    "    plt.clf()\n",
    "    plt.close()"
   ]
  },
  {
   "cell_type": "code",
   "execution_count": 9,
   "metadata": {},
   "outputs": [],
   "source": [
    "# Plot para la densidad.\n",
    "def plot_density_new(bins,dens,filename):\n",
    "    \n",
    "    fig = plt.figure(figsize=(10, 7))\n",
    "    \n",
    "    plt.plot(bins, np.log10(dens), '-k')\n",
    "   \n",
    "    plt.title('Perfil de densidad de materia oscura', fontsize = 18)\n",
    "    plt.xlabel('Radio [Kpc]', fontsize = 20)\n",
    "    plt.ylabel(r'$\\rho$ [$1x10^{10}$ Msol/$kpc^{2}$]', fontsize = 20)\n",
    "    plt.grid()\n",
    "    plt.savefig(filename)\n",
    "    plt.clf()\n",
    "    plt.close()"
   ]
  },
  {
   "cell_type": "markdown",
   "metadata": {},
   "source": [
    "#### Generacion de graficas"
   ]
  },
  {
   "cell_type": "code",
   "execution_count": 10,
   "metadata": {},
   "outputs": [
    {
     "name": "stderr",
     "output_type": "stream",
     "text": [
      "/home/danna01/.local/lib/python3.8/site-packages/pynbody/snapshot/gadgethdf.py:508: RuntimeWarning: No unit information found!\n",
      "  warnings.warn(\"No unit information found!\", RuntimeWarning)\n",
      "/home/danna01/.local/lib/python3.8/site-packages/pynbody/snapshot/gadgethdf.py:572: RuntimeWarning: No unit information found: using gadget-units.\n",
      "  warnings.warn(\n",
      "/home/danna01/.local/lib/python3.8/site-packages/pynbody/snapshot/gadgethdf.py:508: RuntimeWarning: No unit information found!\n",
      "  warnings.warn(\"No unit information found!\", RuntimeWarning)\n",
      "/home/danna01/.local/lib/python3.8/site-packages/pynbody/snapshot/gadgethdf.py:572: RuntimeWarning: No unit information found: using gadget-units.\n",
      "  warnings.warn(\n",
      "/home/danna01/.local/lib/python3.8/site-packages/pynbody/snapshot/gadgethdf.py:508: RuntimeWarning: No unit information found!\n",
      "  warnings.warn(\"No unit information found!\", RuntimeWarning)\n",
      "/home/danna01/.local/lib/python3.8/site-packages/pynbody/snapshot/gadgethdf.py:572: RuntimeWarning: No unit information found: using gadget-units.\n",
      "  warnings.warn(\n",
      "/home/danna01/.local/lib/python3.8/site-packages/pynbody/snapshot/gadgethdf.py:508: RuntimeWarning: No unit information found!\n",
      "  warnings.warn(\"No unit information found!\", RuntimeWarning)\n",
      "/home/danna01/.local/lib/python3.8/site-packages/pynbody/snapshot/gadgethdf.py:572: RuntimeWarning: No unit information found: using gadget-units.\n",
      "  warnings.warn(\n",
      "/home/danna01/.local/lib/python3.8/site-packages/pynbody/snapshot/gadgethdf.py:508: RuntimeWarning: No unit information found!\n",
      "  warnings.warn(\"No unit information found!\", RuntimeWarning)\n",
      "/home/danna01/.local/lib/python3.8/site-packages/pynbody/snapshot/gadgethdf.py:572: RuntimeWarning: No unit information found: using gadget-units.\n",
      "  warnings.warn(\n",
      "/home/danna01/.local/lib/python3.8/site-packages/pynbody/snapshot/gadgethdf.py:508: RuntimeWarning: No unit information found!\n",
      "  warnings.warn(\"No unit information found!\", RuntimeWarning)\n",
      "/home/danna01/.local/lib/python3.8/site-packages/pynbody/snapshot/gadgethdf.py:572: RuntimeWarning: No unit information found: using gadget-units.\n",
      "  warnings.warn(\n",
      "<ipython-input-9-0ebf2cd806e4>:6: RuntimeWarning: divide by zero encountered in log10\n",
      "  plt.plot(bins, np.log10(dens), '-k')\n",
      "/home/danna01/.local/lib/python3.8/site-packages/pynbody/snapshot/gadgethdf.py:508: RuntimeWarning: No unit information found!\n",
      "  warnings.warn(\"No unit information found!\", RuntimeWarning)\n",
      "/home/danna01/.local/lib/python3.8/site-packages/pynbody/snapshot/gadgethdf.py:572: RuntimeWarning: No unit information found: using gadget-units.\n",
      "  warnings.warn(\n",
      "/home/danna01/.local/lib/python3.8/site-packages/pynbody/snapshot/gadgethdf.py:508: RuntimeWarning: No unit information found!\n",
      "  warnings.warn(\"No unit information found!\", RuntimeWarning)\n",
      "/home/danna01/.local/lib/python3.8/site-packages/pynbody/snapshot/gadgethdf.py:572: RuntimeWarning: No unit information found: using gadget-units.\n",
      "  warnings.warn(\n",
      "<ipython-input-9-0ebf2cd806e4>:6: RuntimeWarning: divide by zero encountered in log10\n",
      "  plt.plot(bins, np.log10(dens), '-k')\n",
      "/home/danna01/.local/lib/python3.8/site-packages/pynbody/snapshot/gadgethdf.py:508: RuntimeWarning: No unit information found!\n",
      "  warnings.warn(\"No unit information found!\", RuntimeWarning)\n",
      "/home/danna01/.local/lib/python3.8/site-packages/pynbody/snapshot/gadgethdf.py:572: RuntimeWarning: No unit information found: using gadget-units.\n",
      "  warnings.warn(\n",
      "<ipython-input-9-0ebf2cd806e4>:6: RuntimeWarning: divide by zero encountered in log10\n",
      "  plt.plot(bins, np.log10(dens), '-k')\n",
      "/home/danna01/.local/lib/python3.8/site-packages/pynbody/snapshot/gadgethdf.py:508: RuntimeWarning: No unit information found!\n",
      "  warnings.warn(\"No unit information found!\", RuntimeWarning)\n",
      "/home/danna01/.local/lib/python3.8/site-packages/pynbody/snapshot/gadgethdf.py:572: RuntimeWarning: No unit information found: using gadget-units.\n",
      "  warnings.warn(\n",
      "/home/danna01/.local/lib/python3.8/site-packages/pynbody/snapshot/gadgethdf.py:508: RuntimeWarning: No unit information found!\n",
      "  warnings.warn(\"No unit information found!\", RuntimeWarning)\n",
      "/home/danna01/.local/lib/python3.8/site-packages/pynbody/snapshot/gadgethdf.py:572: RuntimeWarning: No unit information found: using gadget-units.\n",
      "  warnings.warn(\n",
      "/home/danna01/.local/lib/python3.8/site-packages/pynbody/snapshot/gadgethdf.py:508: RuntimeWarning: No unit information found!\n",
      "  warnings.warn(\"No unit information found!\", RuntimeWarning)\n",
      "/home/danna01/.local/lib/python3.8/site-packages/pynbody/snapshot/gadgethdf.py:572: RuntimeWarning: No unit information found: using gadget-units.\n",
      "  warnings.warn(\n",
      "/home/danna01/.local/lib/python3.8/site-packages/pynbody/snapshot/gadgethdf.py:508: RuntimeWarning: No unit information found!\n",
      "  warnings.warn(\"No unit information found!\", RuntimeWarning)\n",
      "/home/danna01/.local/lib/python3.8/site-packages/pynbody/snapshot/gadgethdf.py:572: RuntimeWarning: No unit information found: using gadget-units.\n",
      "  warnings.warn(\n",
      "<ipython-input-9-0ebf2cd806e4>:6: RuntimeWarning: divide by zero encountered in log10\n",
      "  plt.plot(bins, np.log10(dens), '-k')\n",
      "/home/danna01/.local/lib/python3.8/site-packages/pynbody/snapshot/gadgethdf.py:508: RuntimeWarning: No unit information found!\n",
      "  warnings.warn(\"No unit information found!\", RuntimeWarning)\n",
      "/home/danna01/.local/lib/python3.8/site-packages/pynbody/snapshot/gadgethdf.py:572: RuntimeWarning: No unit information found: using gadget-units.\n",
      "  warnings.warn(\n",
      "/home/danna01/.local/lib/python3.8/site-packages/pynbody/snapshot/gadgethdf.py:508: RuntimeWarning: No unit information found!\n",
      "  warnings.warn(\"No unit information found!\", RuntimeWarning)\n",
      "/home/danna01/.local/lib/python3.8/site-packages/pynbody/snapshot/gadgethdf.py:572: RuntimeWarning: No unit information found: using gadget-units.\n",
      "  warnings.warn(\n",
      "<ipython-input-9-0ebf2cd806e4>:6: RuntimeWarning: divide by zero encountered in log10\n",
      "  plt.plot(bins, np.log10(dens), '-k')\n",
      "/home/danna01/.local/lib/python3.8/site-packages/pynbody/snapshot/gadgethdf.py:508: RuntimeWarning: No unit information found!\n",
      "  warnings.warn(\"No unit information found!\", RuntimeWarning)\n",
      "/home/danna01/.local/lib/python3.8/site-packages/pynbody/snapshot/gadgethdf.py:572: RuntimeWarning: No unit information found: using gadget-units.\n",
      "  warnings.warn(\n",
      "<ipython-input-9-0ebf2cd806e4>:6: RuntimeWarning: divide by zero encountered in log10\n",
      "  plt.plot(bins, np.log10(dens), '-k')\n",
      "/home/danna01/.local/lib/python3.8/site-packages/pynbody/snapshot/gadgethdf.py:508: RuntimeWarning: No unit information found!\n",
      "  warnings.warn(\"No unit information found!\", RuntimeWarning)\n",
      "/home/danna01/.local/lib/python3.8/site-packages/pynbody/snapshot/gadgethdf.py:572: RuntimeWarning: No unit information found: using gadget-units.\n",
      "  warnings.warn(\n",
      "<ipython-input-9-0ebf2cd806e4>:6: RuntimeWarning: divide by zero encountered in log10\n",
      "  plt.plot(bins, np.log10(dens), '-k')\n",
      "/home/danna01/.local/lib/python3.8/site-packages/pynbody/snapshot/gadgethdf.py:508: RuntimeWarning: No unit information found!\n",
      "  warnings.warn(\"No unit information found!\", RuntimeWarning)\n",
      "/home/danna01/.local/lib/python3.8/site-packages/pynbody/snapshot/gadgethdf.py:572: RuntimeWarning: No unit information found: using gadget-units.\n",
      "  warnings.warn(\n",
      "<ipython-input-9-0ebf2cd806e4>:6: RuntimeWarning: divide by zero encountered in log10\n",
      "  plt.plot(bins, np.log10(dens), '-k')\n",
      "/home/danna01/.local/lib/python3.8/site-packages/pynbody/snapshot/gadgethdf.py:508: RuntimeWarning: No unit information found!\n",
      "  warnings.warn(\"No unit information found!\", RuntimeWarning)\n",
      "/home/danna01/.local/lib/python3.8/site-packages/pynbody/snapshot/gadgethdf.py:572: RuntimeWarning: No unit information found: using gadget-units.\n",
      "  warnings.warn(\n",
      "/home/danna01/.local/lib/python3.8/site-packages/pynbody/snapshot/gadgethdf.py:508: RuntimeWarning: No unit information found!\n",
      "  warnings.warn(\"No unit information found!\", RuntimeWarning)\n",
      "/home/danna01/.local/lib/python3.8/site-packages/pynbody/snapshot/gadgethdf.py:572: RuntimeWarning: No unit information found: using gadget-units.\n",
      "  warnings.warn(\n",
      "<ipython-input-9-0ebf2cd806e4>:6: RuntimeWarning: divide by zero encountered in log10\n",
      "  plt.plot(bins, np.log10(dens), '-k')\n",
      "/home/danna01/.local/lib/python3.8/site-packages/pynbody/snapshot/gadgethdf.py:508: RuntimeWarning: No unit information found!\n",
      "  warnings.warn(\"No unit information found!\", RuntimeWarning)\n",
      "/home/danna01/.local/lib/python3.8/site-packages/pynbody/snapshot/gadgethdf.py:572: RuntimeWarning: No unit information found: using gadget-units.\n",
      "  warnings.warn(\n"
     ]
    },
    {
     "name": "stderr",
     "output_type": "stream",
     "text": [
      "/home/danna01/.local/lib/python3.8/site-packages/pynbody/snapshot/gadgethdf.py:508: RuntimeWarning: No unit information found!\n",
      "  warnings.warn(\"No unit information found!\", RuntimeWarning)\n",
      "/home/danna01/.local/lib/python3.8/site-packages/pynbody/snapshot/gadgethdf.py:572: RuntimeWarning: No unit information found: using gadget-units.\n",
      "  warnings.warn(\n",
      "/home/danna01/.local/lib/python3.8/site-packages/pynbody/snapshot/gadgethdf.py:508: RuntimeWarning: No unit information found!\n",
      "  warnings.warn(\"No unit information found!\", RuntimeWarning)\n",
      "/home/danna01/.local/lib/python3.8/site-packages/pynbody/snapshot/gadgethdf.py:572: RuntimeWarning: No unit information found: using gadget-units.\n",
      "  warnings.warn(\n",
      "/home/danna01/.local/lib/python3.8/site-packages/pynbody/snapshot/gadgethdf.py:508: RuntimeWarning: No unit information found!\n",
      "  warnings.warn(\"No unit information found!\", RuntimeWarning)\n",
      "/home/danna01/.local/lib/python3.8/site-packages/pynbody/snapshot/gadgethdf.py:572: RuntimeWarning: No unit information found: using gadget-units.\n",
      "  warnings.warn(\n",
      "<ipython-input-9-0ebf2cd806e4>:6: RuntimeWarning: divide by zero encountered in log10\n",
      "  plt.plot(bins, np.log10(dens), '-k')\n"
     ]
    }
   ],
   "source": [
    "# Generacion de plots\n",
    "\n",
    "minsnap = 100\n",
    "maxsnap = 700\n",
    "stepsnap = 100\n",
    "\n",
    "# definimos la fuente de los datos, para esto usamos los diccionarios que definimos mas arriba\n",
    "for gal in ['G0','G1','G2','G3']:\n",
    "    for snap in np.arange(minsnap,maxsnap,stepsnap): \n",
    "        snap = str(snap).zfill(3)\n",
    "        # Aca definimos la ruta en la cual estan almacenados los snapshots\n",
    "        data_nuevo_ruta = pynbody.load(data_nuevo+'/'+gal+'/snapshot_'+snap+'.hdf5')\n",
    "        \n",
    "        # Aca vamos a generar cada uno de los plots, para lo cual primero debemos definir\n",
    "        # cada una de las funciones de masa acumulada y densidad.\n",
    "        bins, mass = accumulated_mass_new(data_nuevo_ruta.dm['pos'],data_nuevo_ruta.dm['mass'],n=int(limites_materia_oscura[gal][1]*4),limits=limites_materia_oscura[gal])\n",
    "        \n",
    "        bins_middle, shell_mass, dens = density_dm_new(bins, mass)\n",
    "       \n",
    "        plot_mass_new(bins,mass,filename='Materia_oscura/Materia_Oscura_Acumulada_'+gal+'_dm_'+snap+'.jpg')\n",
    "       \n",
    "        plot_density_new(bins_middle,dens,filename='Materia_oscura/Materia_Oscura_Densidad_'+gal+'_dm_'+snap+'.jpg')"
   ]
  },
  {
   "cell_type": "code",
   "execution_count": null,
   "metadata": {},
   "outputs": [],
   "source": []
  }
 ],
 "metadata": {
  "kernelspec": {
   "display_name": "Python 3",
   "language": "python",
   "name": "python3"
  },
  "language_info": {
   "codemirror_mode": {
    "name": "ipython",
    "version": 3
   },
   "file_extension": ".py",
   "mimetype": "text/x-python",
   "name": "python",
   "nbconvert_exporter": "python",
   "pygments_lexer": "ipython3",
   "version": "3.8.5"
  }
 },
 "nbformat": 4,
 "nbformat_minor": 4
}
