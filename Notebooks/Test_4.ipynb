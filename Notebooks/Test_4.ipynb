{
 "cells": [
  {
   "cell_type": "markdown",
   "metadata": {},
   "source": [
    "## Densidad de materia oscura"
   ]
  },
  {
   "cell_type": "markdown",
   "metadata": {},
   "source": [
    "### Informacion por utilizar"
   ]
  },
  {
   "cell_type": "code",
   "execution_count": 2,
   "metadata": {},
   "outputs": [],
   "source": [
    "#importamos las herramientas necesarias\n",
    "import pynbody\n",
    "import matplotlib.pyplot as plt\n",
    "import numpy as np\n",
    "from scipy.optimize import curve_fit\n",
    "from scipy import optimize\n",
    "from astropy import units as unit\n",
    "import sys\n",
    "from matplotlib.animation import FuncAnimation"
   ]
  },
  {
   "cell_type": "code",
   "execution_count": 3,
   "metadata": {},
   "outputs": [],
   "source": [
    "#importamos los datos\n",
    "data_nuevo = '/media/danna01/Disk/SNAPSHOTS/Galaxias_Nuevas'\n",
    "data_viejo = '/media/danna01/Disk/SNAPSHOTS/Galaxias_Viejas'\n",
    "#datadir = '/media/juan/Pesquisa/Simulations_Chris_2021'"
   ]
  },
  {
   "cell_type": "code",
   "execution_count": 4,
   "metadata": {},
   "outputs": [],
   "source": [
    "#A continuacion se lista la informacion importante para este notebook\n",
    "\n",
    "# Masa Total de materia oscura\n",
    "# Densidad de la materia oscura"
   ]
  },
  {
   "cell_type": "code",
   "execution_count": 5,
   "metadata": {},
   "outputs": [],
   "source": [
    "# Estos son los diccionarios que definen los limites que seran utilizados para los plots de las galaxias para los\n",
    "# calculos de densidad de materia oscura y la masa acumulada a diferentes radios para la amteria oscura tambien\n",
    "dicti = {}\n",
    "galaxies = ['G0', 'G1', 'G2', 'G3']\n",
    "# Estos son los limites para graficar la masa acumulada y la densidad; sus valores corresponden a 10 veces el valor\n",
    "# del scale - lenght de cada galaxia.\n",
    "limites_materia_oscura = {'G0':(0,11), 'G1':(0,15), 'G2':(0,19), 'G3':(0,28)} #kpc\n",
    "# Aca observamos los limites que se usaran para calcular el valor de 'h' que nos indicara que tan bueno es el ajuste\n",
    "# limites --> De que dependen?"
   ]
  },
  {
   "cell_type": "markdown",
   "metadata": {},
   "source": [
    "### Funciones"
   ]
  },
  {
   "cell_type": "markdown",
   "metadata": {},
   "source": [
    "#### Relacion masa acumulada vs. radio"
   ]
  },
  {
   "cell_type": "code",
   "execution_count": 6,
   "metadata": {},
   "outputs": [],
   "source": [
    "# En esta celda estamos definiendo la masa acumulada de la materia oscura\n",
    "\n",
    "def accumulated_mass(pos,mass,n,limits):\n",
    "    # con esta linea calculamos el radio de la esfera en la que realizaremos el calculo\n",
    "    r = np.sqrt((pos**2).sum(axis=1))\n",
    "    # con esta linea se genera un histograma, cuyos rectangulos son equivalentes a los radios de los cascarones de\n",
    "    # las esferas que consideremos para este calculo; r hace referencia a los radios, n al numero de divisiones,\n",
    "    # weights le asigna un valor a cada punto, en este caso relacionado a la masa y range son los limites.\n",
    "    histo   = np.histogram(r,n, weights= mass, range=limits)\n",
    "    # con esta linea definimos que los radios que consideraremos seran los que se ubiquen en el extremo de cada\n",
    "    # rectangulo del histograma\n",
    "    bins     = histo[1][1:]\n",
    "    # note que bins corresponde a los radios e histo[0] al valor de la masa acumulada hasta dicho radio\n",
    "    return bins, histo[0]"
   ]
  },
  {
   "cell_type": "markdown",
   "metadata": {},
   "source": [
    "#### Relacion densidad vs. radio"
   ]
  },
  {
   "cell_type": "code",
   "execution_count": 15,
   "metadata": {},
   "outputs": [],
   "source": [
    "# En esta celda se va a definir la funcion de densidad\n",
    "def density_dm(x,y):\n",
    "    # En esta linea debemos aclarar que lo que aca se considera x y y corresponde al radio y a la amsa acumulada\n",
    "    # que se calculo en la funcion anterior\n",
    "    x,y = accumulated_mass(data.dm['pos'],data.dm['mass'],n=int(limites_materia_oscura[gal][1]*4),limits=limites_materia_oscura[gal])\n",
    "    x_cubico = x**3\n",
    "    # con esta linea vamos a generar un arreglo igual al de los radios calculados pero desplazado una posicion\n",
    "    # para poder sumar los dos radios que son continuos; ademas el primer valor es remplazado con un cero.\n",
    "    x2 = np.roll(x_cubico,1)\n",
    "    x2[0]=0\n",
    "    # con esta linea sumamos los dos radios continuos el uno del otro y los dividimos en dos para hallar un promedio\n",
    "    # de sus valores\n",
    "    #!!!!!!!!!!!!!!!!!!!!!!!!!!!!!!!!!!!!!!!!!!!!!!!!!!!\n",
    "    bins_middle = (x + np.roll(x,1) )/2\n",
    "    # con esta linea vamos a generar un arreglo igual a las masas acumuladas calculadas pero desplazadas una posicion\n",
    "    # para poder restarlas y poder hallar el valor de la masa en medio de los dos radios que se consideren, es decir,\n",
    "    # calcular la masa de cada cascaron. Nuevamente el primer valor se remplaza con cero.\n",
    "    y2 = np.roll(y,1)\n",
    "    y2[0]=0\n",
    "    # con esta linea vamos a hacer la resta entre las masas para hallar la masa en el cascaron.\n",
    "    shell_mass = y - y2\n",
    "    # con esta linea calculamos la densidad dividiendo la masa entre el volumen.\n",
    "    # \\rho = (4/3)*pi*R^3\n",
    "    dens = 3* shell_mass / ((4*np.pi)* (x_cubico - x2) ) # ESTO SI !!!\n",
    "    \n",
    "    dens = (3*shell_mass)/((4*np.pi)*(bins_middle)) # ESTO NO !!!!\n",
    "    return bins_middle, shell_mass, dens"
   ]
  },
  {
   "cell_type": "markdown",
   "metadata": {},
   "source": [
    "#### Funciones para las graficas"
   ]
  },
  {
   "cell_type": "code",
   "execution_count": 12,
   "metadata": {},
   "outputs": [],
   "source": [
    "# Con esta celda se va a generar la funcion de los plots de masa acumulada.\n",
    "def plot_mass(bins,mass,filename):\n",
    "    # con esta linea genramos la figura, con el tamaño que se desee\n",
    "    fig = plt.figure(figsize=(10, 7))\n",
    "    # aca simplemente definimos las variables que vamos a graficar, en este caso son los radios contra la masa\n",
    "    # acumulada de cada radio y el estilo requerido\n",
    "    plt.plot(bins,mass,'-k')\n",
    "    # aca definimos el titulo, los titulos de los ejes, la cuadricula y la forma en que vamos a guardar la \n",
    "    # grafica.\n",
    "    plt.title('Masa acumulada de la Materia Oscura', fontsize= 18)\n",
    "    plt.xlabel('Radio [Kpc]',fontsize=20)\n",
    "    plt.ylabel('Masa Acumulada (Msol)')\n",
    "    plt.grid()\n",
    "    plt.savefig(filename)\n",
    "    plt.clf()\n",
    "    plt.close()"
   ]
  },
  {
   "cell_type": "code",
   "execution_count": 13,
   "metadata": {},
   "outputs": [],
   "source": [
    "# Con esta linea vamos a realizar la grafica para la densidad.\n",
    "def plot_density(bins,dens,filename):\n",
    "    # Definimos la figura con el tamaño que se desee\n",
    "    fig = plt.figure(figsize=(10, 7))\n",
    "    # Con esta linea generamos el plot de los radios y el logaritmo de la densidad, en el eje y.\n",
    "    plt.plot(bins, np.log10(dens), '-ok')\n",
    "    # Aca definimos otras caracteristicas como el titulo, el titulo de los ejes, la cuadricula, y \n",
    "    # como se va a guardar la imagen\n",
    "    plt.title('Perfil de densidad de materia oscura', fontsize = 18)\n",
    "    plt.xlabel('Radio [Kpc]', fontsize = 20)\n",
    "    plt.ylabel(r'$\\rho$ [$1x10^{10}$ Msol/$kpc^{2}$]', fontsize = 20)\n",
    "    plt.grid()\n",
    "    plt.savefig(filename)\n",
    "    plt.clf()\n",
    "    plt.close()"
   ]
  },
  {
   "cell_type": "markdown",
   "metadata": {},
   "source": [
    "#### Generacion de graficas"
   ]
  },
  {
   "cell_type": "code",
   "execution_count": 16,
   "metadata": {},
   "outputs": [
    {
     "name": "stderr",
     "output_type": "stream",
     "text": [
      "/home/danna01/.local/lib/python3.8/site-packages/pynbody/snapshot/gadgethdf.py:508: RuntimeWarning: No unit information found!\n",
      "  warnings.warn(\"No unit information found!\", RuntimeWarning)\n",
      "/home/danna01/.local/lib/python3.8/site-packages/pynbody/snapshot/gadgethdf.py:572: RuntimeWarning: No unit information found: using gadget-units.\n",
      "  warnings.warn(\n",
      "<ipython-input-13-0fc0d2458f42>:6: RuntimeWarning: invalid value encountered in log10\n",
      "  plt.plot(bins, np.log10(dens), '-ok')\n",
      "/home/danna01/.local/lib/python3.8/site-packages/pynbody/snapshot/gadgethdf.py:508: RuntimeWarning: No unit information found!\n",
      "  warnings.warn(\"No unit information found!\", RuntimeWarning)\n",
      "/home/danna01/.local/lib/python3.8/site-packages/pynbody/snapshot/gadgethdf.py:572: RuntimeWarning: No unit information found: using gadget-units.\n",
      "  warnings.warn(\n",
      "<ipython-input-13-0fc0d2458f42>:6: RuntimeWarning: divide by zero encountered in log10\n",
      "  plt.plot(bins, np.log10(dens), '-ok')\n",
      "<ipython-input-13-0fc0d2458f42>:6: RuntimeWarning: invalid value encountered in log10\n",
      "  plt.plot(bins, np.log10(dens), '-ok')\n",
      "/home/danna01/.local/lib/python3.8/site-packages/pynbody/snapshot/gadgethdf.py:508: RuntimeWarning: No unit information found!\n",
      "  warnings.warn(\"No unit information found!\", RuntimeWarning)\n",
      "/home/danna01/.local/lib/python3.8/site-packages/pynbody/snapshot/gadgethdf.py:572: RuntimeWarning: No unit information found: using gadget-units.\n",
      "  warnings.warn(\n",
      "<ipython-input-13-0fc0d2458f42>:6: RuntimeWarning: divide by zero encountered in log10\n",
      "  plt.plot(bins, np.log10(dens), '-ok')\n",
      "<ipython-input-13-0fc0d2458f42>:6: RuntimeWarning: invalid value encountered in log10\n",
      "  plt.plot(bins, np.log10(dens), '-ok')\n",
      "/home/danna01/.local/lib/python3.8/site-packages/pynbody/snapshot/gadgethdf.py:508: RuntimeWarning: No unit information found!\n",
      "  warnings.warn(\"No unit information found!\", RuntimeWarning)\n",
      "/home/danna01/.local/lib/python3.8/site-packages/pynbody/snapshot/gadgethdf.py:572: RuntimeWarning: No unit information found: using gadget-units.\n",
      "  warnings.warn(\n",
      "<ipython-input-13-0fc0d2458f42>:6: RuntimeWarning: divide by zero encountered in log10\n",
      "  plt.plot(bins, np.log10(dens), '-ok')\n",
      "<ipython-input-13-0fc0d2458f42>:6: RuntimeWarning: invalid value encountered in log10\n",
      "  plt.plot(bins, np.log10(dens), '-ok')\n",
      "/home/danna01/.local/lib/python3.8/site-packages/pynbody/snapshot/gadgethdf.py:508: RuntimeWarning: No unit information found!\n",
      "  warnings.warn(\"No unit information found!\", RuntimeWarning)\n",
      "/home/danna01/.local/lib/python3.8/site-packages/pynbody/snapshot/gadgethdf.py:572: RuntimeWarning: No unit information found: using gadget-units.\n",
      "  warnings.warn(\n",
      "<ipython-input-13-0fc0d2458f42>:6: RuntimeWarning: divide by zero encountered in log10\n",
      "  plt.plot(bins, np.log10(dens), '-ok')\n",
      "<ipython-input-13-0fc0d2458f42>:6: RuntimeWarning: invalid value encountered in log10\n",
      "  plt.plot(bins, np.log10(dens), '-ok')\n",
      "/home/danna01/.local/lib/python3.8/site-packages/pynbody/snapshot/gadgethdf.py:508: RuntimeWarning: No unit information found!\n",
      "  warnings.warn(\"No unit information found!\", RuntimeWarning)\n",
      "/home/danna01/.local/lib/python3.8/site-packages/pynbody/snapshot/gadgethdf.py:572: RuntimeWarning: No unit information found: using gadget-units.\n",
      "  warnings.warn(\n",
      "<ipython-input-13-0fc0d2458f42>:6: RuntimeWarning: divide by zero encountered in log10\n",
      "  plt.plot(bins, np.log10(dens), '-ok')\n",
      "<ipython-input-13-0fc0d2458f42>:6: RuntimeWarning: invalid value encountered in log10\n",
      "  plt.plot(bins, np.log10(dens), '-ok')\n",
      "/home/danna01/.local/lib/python3.8/site-packages/pynbody/snapshot/gadgethdf.py:508: RuntimeWarning: No unit information found!\n",
      "  warnings.warn(\"No unit information found!\", RuntimeWarning)\n",
      "/home/danna01/.local/lib/python3.8/site-packages/pynbody/snapshot/gadgethdf.py:572: RuntimeWarning: No unit information found: using gadget-units.\n",
      "  warnings.warn(\n",
      "<ipython-input-13-0fc0d2458f42>:6: RuntimeWarning: divide by zero encountered in log10\n",
      "  plt.plot(bins, np.log10(dens), '-ok')\n",
      "<ipython-input-13-0fc0d2458f42>:6: RuntimeWarning: invalid value encountered in log10\n",
      "  plt.plot(bins, np.log10(dens), '-ok')\n",
      "/home/danna01/.local/lib/python3.8/site-packages/pynbody/snapshot/gadgethdf.py:508: RuntimeWarning: No unit information found!\n",
      "  warnings.warn(\"No unit information found!\", RuntimeWarning)\n",
      "/home/danna01/.local/lib/python3.8/site-packages/pynbody/snapshot/gadgethdf.py:572: RuntimeWarning: No unit information found: using gadget-units.\n",
      "  warnings.warn(\n",
      "<ipython-input-13-0fc0d2458f42>:6: RuntimeWarning: divide by zero encountered in log10\n",
      "  plt.plot(bins, np.log10(dens), '-ok')\n",
      "<ipython-input-13-0fc0d2458f42>:6: RuntimeWarning: invalid value encountered in log10\n",
      "  plt.plot(bins, np.log10(dens), '-ok')\n"
     ]
    }
   ],
   "source": [
    "#En esta celda vamos a generar los plots deseados\n",
    "# En primer lugar definimos los limites de los snapshots que vamos a considerar y el espacio entre los mismos.\n",
    "minsnap = 100\n",
    "maxsnap = 300\n",
    "stepsnap = 100\n",
    "\n",
    "# definimos la fuente de los datos, para esto usamos los diccionarios que definimos mas arriba\n",
    "for gal in galaxies:\n",
    "    for snap in np.arange(minsnap,maxsnap,stepsnap): \n",
    "        snap = str(snap).zfill(3)\n",
    "        # Aca definimos la ruta en la cual estan almacenados los snapshots\n",
    "        data = pynbody.load(data_nuevo+'/'+gal+'/snapshot_'+snap+'.hdf5')\n",
    "        N_star = data.star['mass'].size\n",
    "        \n",
    "        # Aca vamos a generar cada uno de los plots, para lo cual primero debemos definir\n",
    "        # cada una de las funciones de masa acumulada y densidad.\n",
    "        #Funcion masa acumulada (de la cual obtenemos los valores de radio y masa acumulada)\n",
    "        bins, mass = accumulated_mass(data.dm['pos'],data.dm['mass'],n=int(limites_materia_oscura[gal][1]*4),limits=limites_materia_oscura[gal])\n",
    "        # Funcion densidad (de la cual obtenemos los radios promedio y la densidad)\n",
    "        bins_middle, shell_mass, dens = density_dm(bins,mass)\n",
    "        # Funcion para graficar la masa acumulada vs el radio\n",
    "        plot_mass(bins,mass,filename='Materia_oscura/Materia_Oscura_Acumulada_'+gal+'_dm_'+snap+'.jpg')\n",
    "        # Funcion para graficar la densidad de la materia oscura en escala logaritmica vs el radio promedio\n",
    "        plot_density(bins_middle,dens,filename='Materia_oscura/Materia_Oscura_Densidad_'+gal+'_dm_'+snap+'.jpg')"
   ]
  },
  {
   "cell_type": "markdown",
   "metadata": {},
   "source": [
    "#### Descubriendo np.roll"
   ]
  },
  {
   "cell_type": "code",
   "execution_count": 46,
   "metadata": {},
   "outputs": [
    {
     "name": "stdout",
     "output_type": "stream",
     "text": [
      "[0 1 2 3 4 5 6 7 8 9]\n",
      "[9 0 1 2 3 4 5 6 7 8]\n",
      "[-9  1  1  1  1  1  1  1  1  1]\n"
     ]
    }
   ],
   "source": [
    "x = np.arange(10)\n",
    "x2 = np.roll(x,1)\n",
    "print(x)\n",
    "print(x2)\n",
    "resta = x - x2\n",
    "print(resta)"
   ]
  }
 ],
 "metadata": {
  "kernelspec": {
   "display_name": "Python 3",
   "language": "python",
   "name": "python3"
  },
  "language_info": {
   "codemirror_mode": {
    "name": "ipython",
    "version": 3
   },
   "file_extension": ".py",
   "mimetype": "text/x-python",
   "name": "python",
   "nbconvert_exporter": "python",
   "pygments_lexer": "ipython3",
   "version": "3.8.5"
  }
 },
 "nbformat": 4,
 "nbformat_minor": 4
}
