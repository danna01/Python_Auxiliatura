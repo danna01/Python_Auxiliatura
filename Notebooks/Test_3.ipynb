{
 "cells": [
  {
   "cell_type": "markdown",
   "metadata": {},
   "source": [
    "# Datos iniciales"
   ]
  },
  {
   "cell_type": "code",
   "execution_count": 19,
   "metadata": {},
   "outputs": [],
   "source": [
    "#En primer lugar importamos todas las librerias que vamos a utilizar\n",
    "import pynbody \n",
    "import matplotlib.pyplot as plt\n",
    "import numpy as np\n",
    "from scipy.optimize import curve_fit\n",
    "from scipy import optimize\n",
    "from astropy import units as unit\n",
    "import sys\n",
    "import os "
   ]
  },
  {
   "cell_type": "code",
   "execution_count": 21,
   "metadata": {},
   "outputs": [],
   "source": [
    "#Importamos las rutas y los datos especificos que requerimos para poder leer la informacion\n",
    "#EN caso de que no vaya a usar una de las rutas aca especificadas, no olvide COMENTARLA.\n",
    "\n",
    "data_nuevo = '/media/danna01/Disk/SNAPSHOTS/Galaxias_Nuevas'\n",
    "data_viejo = '/media/danna01/Disk/SNAPSHOTS/Galaxias_Viejas'\n",
    "#data_old = '/media/juan/Pesquisa/Simulations_Chris_2021'\n",
    "limites_densidad = {'G0':(0,20), 'G1':(0,25), 'G2':(0,20), 'G3':(0,55)}"
   ]
  },
  {
   "cell_type": "markdown",
   "metadata": {},
   "source": [
    "# Comparando la informacion"
   ]
  },
  {
   "cell_type": "markdown",
   "metadata": {},
   "source": [
    "**Referencia**\n",
    "\n",
    "*Con el objetivo de comparar la informacion obtenida se anexa a continuacion una tabla donde se resume la informacion del documento que se tomo como referencia para estos datos, para mayor informacion al respecto puede seguir el [enlace](https://ui.adsabs.harvard.edu/abs/2010MNRAS.403...17J/abstract)*\n",
    "\n",
    "\n",
    "\n",
    "Modelo | Masa Total | Masa barionica | scale-length estrellas | Distancia Gas Estrellas | Fraccion Gas | Vmax   \n",
    "------- | :----------: | ------- | ------- | ------- | ------- | -------\n",
    "G0 | $5.1 \\cdot 10^{10}$ | $1.6 \\cdot 10^{9}$ | 1.1 | 3.0 | 0.01 | 67 \n",
    "G1 | $2 \\cdot 10^{11}$    | $7 \\cdot 10^{9}$ | 1.5 | 3.0 | 0.04 | 103\n",
    "G2 | $5.1 \\cdot 10^{11}$  | $1.98 \\cdot 10^{10}$ | 1.9 | 3.0 | 0.08 | 139\n",
    "G3 | $1.16 \\cdot 10^{12}$ | $6.22 \\cdot 10^{10}$ | 2.8 | 3.0 | 0.14 | 192\n"
   ]
  },
  {
   "cell_type": "code",
   "execution_count": 22,
   "metadata": {},
   "outputs": [
    {
     "name": "stdout",
     "output_type": "stream",
     "text": [
      "G0  -- >>  100\n",
      "\n",
      "\n",
      "GAS\n",
      "Masa TOTAL:  0.03166921 \t\t 0.05904151\n",
      "Masa individuales [3.5234996e-06] \t\t [4.999621e-07]\n",
      "Num. particles 8988 \t\t 118092\n",
      "\n",
      "\n",
      "STARS\n",
      "Masa TOTAL:  0.064169966 \t\t 0.10094633\n",
      "Masa individuales [1.8791998e-06 3.5234996e-06 5.8724991e-06] \t\t [4.999621e-07]\n",
      "Num. particles 12012 \t\t 201908\n",
      "\n",
      "\n",
      "DM\n",
      "Masa TOTAL:  4.849374 \t\t 5.099621\n",
      "Masa individuales [0.00016165] \t\t [3.9997035e-06]\n",
      "Num. particles 30000 \t\t 1275000\n",
      "\n",
      "\n",
      "G0  -- >>  100\n",
      "\n",
      "\n",
      "GAS\n",
      "Masa TOTAL:  0.03166921 \t\t 0.05904151\n",
      "Masa individuales [3.5234996e-06] \t\t [4.999621e-07]\n",
      "Num. particles 8988 \t\t 118092\n",
      "\n",
      "\n",
      "STARS\n",
      "Masa TOTAL:  0.064169966 \t\t 0.10094633\n",
      "Masa individuales [1.8791998e-06 3.5234996e-06 5.8724991e-06] \t\t [4.999621e-07]\n",
      "Num. particles 12012 \t\t 201908\n",
      "\n",
      "\n",
      "DM\n",
      "Masa TOTAL:  4.849374 \t\t 5.099621\n",
      "Masa individuales [0.00016165] \t\t [3.9997035e-06]\n",
      "Num. particles 30000 \t\t 1275000\n",
      "\n",
      "\n",
      "G0  -- >>  300\n",
      "\n",
      "\n",
      "GAS\n",
      "Masa TOTAL:  0.026535474 \t\t 0.05647621\n",
      "Masa individuales [3.5234996e-06] \t\t [4.999621e-07]\n",
      "Num. particles 7531 \t\t 112961\n",
      "\n",
      "\n",
      "STARS\n",
      "Masa TOTAL:  0.06930371 \t\t 0.10351163\n",
      "Masa individuales [1.8791998e-06 3.5234996e-06 5.8724991e-06] \t\t [4.999621e-07]\n",
      "Num. particles 13469 \t\t 207039\n",
      "\n",
      "\n",
      "DM\n",
      "Masa TOTAL:  4.849374 \t\t 5.099621\n",
      "Masa individuales [0.00016165] \t\t [3.9997035e-06]\n",
      "Num. particles 30000 \t\t 1275000\n",
      "\n",
      "\n",
      "G1  -- >>  100\n",
      "\n",
      "\n",
      "GAS\n",
      "Masa TOTAL:  0.1298404 \t\t 0.19088715\n",
      "Masa individuales [6.7568903e-06] \t\t [1.611351e-06]\n",
      "Num. particles 19216 \t\t 118464\n",
      "\n",
      "\n",
      "STARS\n",
      "Masa TOTAL:  0.38204518 \t\t 0.50921714\n",
      "Masa individuales [6.7568903e-06 7.8751636e-06 1.6868600e-05] \t\t [1.6034644e-06 1.6113510e-06]\n",
      "Num. particles 25784 \t\t 317536\n",
      "\n",
      "\n",
      "DM\n",
      "Masa TOTAL:  19.175829 \t\t 20.00327\n",
      "Masa individuales [0.00038352] \t\t [4.0006476e-06]\n",
      "Num. particles 50000 \t\t 5000000\n",
      "\n",
      "\n",
      "G1  -- >>  100\n",
      "\n",
      "\n",
      "GAS\n",
      "Masa TOTAL:  0.1298404 \t\t 0.19088715\n",
      "Masa individuales [6.7568903e-06] \t\t [1.611351e-06]\n",
      "Num. particles 19216 \t\t 118464\n",
      "\n",
      "\n",
      "STARS\n",
      "Masa TOTAL:  0.38204518 \t\t 0.50921714\n",
      "Masa individuales [6.7568903e-06 7.8751636e-06 1.6868600e-05] \t\t [1.6034644e-06 1.6113510e-06]\n",
      "Num. particles 25784 \t\t 317536\n",
      "\n",
      "\n",
      "DM\n",
      "Masa TOTAL:  19.175829 \t\t 20.00327\n",
      "Masa individuales [0.00038352] \t\t [4.0006476e-06]\n",
      "Num. particles 50000 \t\t 5000000\n",
      "\n",
      "\n",
      "G1  -- >>  300\n",
      "\n",
      "\n",
      "GAS\n",
      "Masa TOTAL:  0.12257674 \t\t 0.17390673\n",
      "Masa individuales [6.7568903e-06] \t\t [1.611351e-06]\n",
      "Num. particles 18141 \t\t 107926\n",
      "\n",
      "\n",
      "STARS\n",
      "Masa TOTAL:  0.38930884 \t\t 0.5261975\n",
      "Masa individuales [6.7568903e-06 7.8751636e-06 1.6868600e-05] \t\t [1.6034644e-06 1.6113510e-06]\n",
      "Num. particles 26859 \t\t 328074\n",
      "\n",
      "\n",
      "DM\n",
      "Masa TOTAL:  19.175829 \t\t 20.00327\n",
      "Masa individuales [0.00038352] \t\t [4.0006476e-06]\n",
      "Num. particles 50000 \t\t 5000000\n",
      "\n",
      "\n"
     ]
    }
   ],
   "source": [
    "#Vamos a hacer una comparacion de la informacion obtenida para las simulaciones viejas y nuevas, para ello\n",
    "#simplemente imprimeros la informacion de cada uno de los datos que tenemos, con el nombre de la variable\n",
    "#que se supone que estamos estudiando\n",
    "\n",
    "for gal in ['G0','G1']: #[]'G2','G3']:\n",
    "    snap = \"100\"\n",
    "    print(gal, ' -- >> ' ,snap)\n",
    "    print('\\n')\n",
    "    \n",
    "    data_new = pyn.load(data_nuevo +'/'+gal+'/snapshot_'+snap+'.hdf5')\n",
    "    data_old = pyn.load(data_viejo +'/'+gal+'/snapshot_'+snap+'.hdf5')\n",
    "    \n",
    "    print('GAS')\n",
    "    print('Masa TOTAL: ',data_new.gas['mass'].sum(), '\\t\\t', data_old.gas['mass'].sum())\n",
    "    print('Masa individuales',np.unique(data_new.gas['mass']),'\\t\\t',np.unique(data_old.gas['mass']))\n",
    "    print('Num. particles', data_new.gas['mass'].size,'\\t\\t',data_old.gas['mass'].size)\n",
    "    print('\\n')\n",
    "    \n",
    "    print('STARS')\n",
    "    print('Masa TOTAL: ',data_new.star['mass'].sum(), '\\t\\t', data_old.star['mass'].sum())\n",
    "    print('Masa individuales',np.unique(data_new.star['mass']), '\\t\\t', np.unique(data_old.star['mass']))\n",
    "    print('Num. particles', data_new.star['mass'].size, '\\t\\t', data_old.star['mass'].size)\n",
    "    print('\\n')    \n",
    "    \n",
    "    print('DM')\n",
    "    print('Masa TOTAL: ',data_new.dm['mass'].sum(),'\\t\\t', data_old.dm['mass'].sum())\n",
    "    print('Masa individuales',np.unique(data_new.dm['mass']),'\\t\\t', np.unique(data_old.dm['mass']))\n",
    "    print('Num. particles', data_new.dm['mass'].size,'\\t\\t', data_old.dm['mass'].size)\n",
    "    print('\\n')\n",
    "  \n",
    "    snap = \"100\"\n",
    "    print(gal, ' -- >> ' ,snap)\n",
    "    print('\\n')\n",
    "    \n",
    "    data_new = pynbody.load(data_nuevo +'/'+gal+'/snapshot_'+snap+'.hdf5')\n",
    "    data_old = pynbody.load(data_viejo +'/'+gal+'/snapshot_'+snap+'.hdf5')\n",
    "    \n",
    "    print('GAS')\n",
    "    print('Masa TOTAL: ',data_new.gas['mass'].sum(), '\\t\\t', data_old.gas['mass'].sum())\n",
    "    print('Masa individuales',np.unique(data_new.gas['mass']),'\\t\\t',np.unique(data_old.gas['mass']))\n",
    "    print('Num. particles', data_new.gas['mass'].size,'\\t\\t',data_old.gas['mass'].size)\n",
    "    print('\\n')\n",
    "    \n",
    "    print('STARS')\n",
    "    print('Masa TOTAL: ',data_new.star['mass'].sum(), '\\t\\t', data_old.star['mass'].sum())\n",
    "    print('Masa individuales',np.unique(data_new.star['mass']), '\\t\\t', np.unique(data_old.star['mass']))\n",
    "    print('Num. particles', data_new.star['mass'].size, '\\t\\t', data_old.star['mass'].size)\n",
    "    print('\\n')    \n",
    "    \n",
    "    print('DM')\n",
    "    print('Masa TOTAL: ',data_new.dm['mass'].sum(),'\\t\\t', data_old.dm['mass'].sum())\n",
    "    print('Masa individuales',np.unique(data_new.dm['mass']),'\\t\\t', np.unique(data_old.dm['mass']))\n",
    "    print('Num. particles', data_new.dm['mass'].size,'\\t\\t', data_old.dm['mass'].size)\n",
    "    print('\\n')\n",
    "    \n",
    "    snap = \"300\"\n",
    "    print(gal, ' -- >> ' ,snap)\n",
    "    print('\\n')\n",
    "    \n",
    "    data_new = pynbody.load(data_nuevo +'/'+gal+'/snapshot_'+snap+'.hdf5')\n",
    "    data_old = pynbody.load(data_viejo +'/'+gal+'/snapshot_'+snap+'.hdf5')\n",
    "    \n",
    "    print('GAS')\n",
    "    print('Masa TOTAL: ',data_new.gas['mass'].sum(), '\\t\\t', data_old.gas['mass'].sum())\n",
    "    print('Masa individuales',np.unique(data_new.gas['mass']),'\\t\\t',np.unique(data_old.gas['mass']))\n",
    "    print('Num. particles', data_new.gas['mass'].size,'\\t\\t',data_old.gas['mass'].size)\n",
    "    print('\\n')\n",
    "    \n",
    "    print('STARS')\n",
    "    print('Masa TOTAL: ',data_new.star['mass'].sum(), '\\t\\t', data_old.star['mass'].sum())\n",
    "    print('Masa individuales',np.unique(data_new.star['mass']), '\\t\\t', np.unique(data_old.star['mass']))\n",
    "    print('Num. particles', data_new.star['mass'].size, '\\t\\t', data_old.star['mass'].size)\n",
    "    print('\\n')    \n",
    "    \n",
    "    print('DM')\n",
    "    print('Masa TOTAL: ',data_new.dm['mass'].sum(),'\\t\\t', data_old.dm['mass'].sum())\n",
    "    print('Masa individuales',np.unique(data_new.dm['mass']),'\\t\\t', np.unique(data_old.dm['mass']))\n",
    "    print('Num. particles', data_new.dm['mass'].size,'\\t\\t', data_old.dm['mass'].size)\n",
    "    print('\\n')\n",
    "    \n",
    "    \n",
    "    "
   ]
  },
  {
   "cell_type": "markdown",
   "metadata": {},
   "source": [
    "# Leídos directamente de los archivos \"param.txt-usedvalues\"\n",
    "\n",
    "SofteningGas                       0.1  \n",
    "SofteningHalo                      0.4  \n",
    "SofteningDisk                      0.1  \n",
    "SofteningBulge                     0.1  \n",
    "SofteningStars                     0.1  \n",
    "SofteningBndry                     0.1  "
   ]
  },
  {
   "cell_type": "code",
   "execution_count": 23,
   "metadata": {},
   "outputs": [
    {
     "ename": "NameError",
     "evalue": "name 'datadir' is not defined",
     "output_type": "error",
     "traceback": [
      "\u001b[0;31m---------------------------------------------------------------------------\u001b[0m",
      "\u001b[0;31mNameError\u001b[0m                                 Traceback (most recent call last)",
      "\u001b[0;32m<ipython-input-23-a366768c5635>\u001b[0m in \u001b[0;36m<module>\u001b[0;34m\u001b[0m\n\u001b[1;32m      1\u001b[0m \u001b[0mgal\u001b[0m \u001b[0;34m=\u001b[0m \u001b[0;34m'G3'\u001b[0m\u001b[0;34m\u001b[0m\u001b[0;34m\u001b[0m\u001b[0m\n\u001b[1;32m      2\u001b[0m \u001b[0msnap\u001b[0m \u001b[0;34m=\u001b[0m \u001b[0;34m'600'\u001b[0m\u001b[0;34m\u001b[0m\u001b[0;34m\u001b[0m\u001b[0m\n\u001b[0;32m----> 3\u001b[0;31m \u001b[0mdata\u001b[0m \u001b[0;34m=\u001b[0m \u001b[0mpynbody\u001b[0m\u001b[0;34m.\u001b[0m\u001b[0mload\u001b[0m\u001b[0;34m(\u001b[0m\u001b[0mdatadir\u001b[0m\u001b[0;34m+\u001b[0m\u001b[0;34m'/'\u001b[0m\u001b[0;34m+\u001b[0m\u001b[0mgal\u001b[0m\u001b[0;34m+\u001b[0m\u001b[0;34m'/snapshot_'\u001b[0m\u001b[0;34m+\u001b[0m\u001b[0msnap\u001b[0m\u001b[0;34m+\u001b[0m\u001b[0;34m'.hdf5'\u001b[0m\u001b[0;34m)\u001b[0m\u001b[0;34m\u001b[0m\u001b[0;34m\u001b[0m\u001b[0m\n\u001b[0m",
      "\u001b[0;31mNameError\u001b[0m: name 'datadir' is not defined"
     ]
    }
   ],
   "source": [
    "gal = 'G3'\n",
    "snap = '600'\n",
    "data = pynbody.load(datadir+'/'+gal+'/snapshot_'+snap+'.hdf5')"
   ]
  },
  {
   "cell_type": "code",
   "execution_count": null,
   "metadata": {},
   "outputs": [],
   "source": [
    "data.properties"
   ]
  },
  {
   "cell_type": "code",
   "execution_count": null,
   "metadata": {},
   "outputs": [],
   "source": [
    "np.unique(data.star['mass'])"
   ]
  },
  {
   "cell_type": "code",
   "execution_count": null,
   "metadata": {},
   "outputs": [],
   "source": [
    "gal = 'G0'\n",
    "snap = '100'\n",
    "data = pynbody.load(datadir+'/'+gal+'/snapshot_'+snap+'.hdf5')"
   ]
  },
  {
   "cell_type": "code",
   "execution_count": null,
   "metadata": {},
   "outputs": [],
   "source": [
    "data = pynbody.load(datadir+'/'+gal+'/snapshot_'+snap+'.hdf5')"
   ]
  },
  {
   "cell_type": "code",
   "execution_count": null,
   "metadata": {},
   "outputs": [],
   "source": [
    "data.properties"
   ]
  },
  {
   "cell_type": "code",
   "execution_count": null,
   "metadata": {},
   "outputs": [],
   "source": [
    "data.gas['acel']"
   ]
  },
  {
   "cell_type": "code",
   "execution_count": null,
   "metadata": {},
   "outputs": [],
   "source": []
  },
  {
   "cell_type": "code",
   "execution_count": null,
   "metadata": {},
   "outputs": [],
   "source": []
  },
  {
   "cell_type": "code",
   "execution_count": null,
   "metadata": {},
   "outputs": [],
   "source": [
    "plt.hist(data.gas['eps'])"
   ]
  },
  {
   "cell_type": "code",
   "execution_count": null,
   "metadata": {},
   "outputs": [],
   "source": [
    "len(np.unique(data.gas['smooth']))"
   ]
  },
  {
   "cell_type": "code",
   "execution_count": null,
   "metadata": {},
   "outputs": [],
   "source": []
  },
  {
   "cell_type": "code",
   "execution_count": null,
   "metadata": {},
   "outputs": [],
   "source": []
  },
  {
   "cell_type": "code",
   "execution_count": null,
   "metadata": {},
   "outputs": [],
   "source": []
  },
  {
   "cell_type": "code",
   "execution_count": null,
   "metadata": {},
   "outputs": [],
   "source": [
    "plt.hist(RGas(data),range=(0,10))"
   ]
  },
  {
   "cell_type": "code",
   "execution_count": null,
   "metadata": {},
   "outputs": [],
   "source": [
    "np.histogram?\n"
   ]
  },
  {
   "cell_type": "code",
   "execution_count": null,
   "metadata": {},
   "outputs": [],
   "source": []
  },
  {
   "cell_type": "code",
   "execution_count": null,
   "metadata": {},
   "outputs": [],
   "source": [
    "plt.hist(data.gas['smooth'],bins=20,range=(0,2))"
   ]
  },
  {
   "cell_type": "code",
   "execution_count": null,
   "metadata": {},
   "outputs": [],
   "source": []
  }
 ],
 "metadata": {
  "kernelspec": {
   "display_name": "Python 3",
   "language": "python",
   "name": "python3"
  },
  "language_info": {
   "codemirror_mode": {
    "name": "ipython",
    "version": 3
   },
   "file_extension": ".py",
   "mimetype": "text/x-python",
   "name": "python",
   "nbconvert_exporter": "python",
   "pygments_lexer": "ipython3",
   "version": "3.8.5"
  }
 },
 "nbformat": 4,
 "nbformat_minor": 4
}
