{
 "cells": [
  {
   "cell_type": "markdown",
   "metadata": {},
   "source": [
    "# Comparacion de los datos obtenidos para las galaxias viejas y nuevas"
   ]
  },
  {
   "cell_type": "markdown",
   "metadata": {},
   "source": [
    "## Datos iniciales"
   ]
  },
  {
   "cell_type": "code",
   "execution_count": 1,
   "metadata": {},
   "outputs": [],
   "source": [
    "#En primer lugar importamos todas las librerias que vamos a utilizar\n",
    "import pynbody as pyn\n",
    "import matplotlib.pyplot as plt\n",
    "import numpy as np\n",
    "from scipy.optimize import curve_fit\n",
    "from scipy import optimize\n",
    "from astropy import units as unit\n",
    "import sys\n",
    "import os \n",
    "from tabulate import tabulate"
   ]
  },
  {
   "cell_type": "code",
   "execution_count": 2,
   "metadata": {},
   "outputs": [],
   "source": [
    "#Importamos las rutas y los datos especificos que requerimos para poder leer la informacion\n",
    "#EN caso de que no vaya a usar una de las rutas aca especificadas, no olvide COMENTARLA.\n",
    "\n",
    "data_nuevo = '/media/danna01/Disk/SNAPSHOTS/Galaxias_Nuevas'\n",
    "data_viejo = '/media/danna01/Disk/SNAPSHOTS/Galaxias_Viejas'\n",
    "#data_old = '/media/juan/Pesquisa/Simulations_Chris_2021'\n",
    "limites_densidad = {'G0':(0,20), 'G1':(0,25), 'G2':(0,20), 'G3':(0,55)}"
   ]
  },
  {
   "cell_type": "markdown",
   "metadata": {},
   "source": [
    "## Comparando la informacion"
   ]
  },
  {
   "cell_type": "markdown",
   "metadata": {},
   "source": [
    "**Referencia**\n",
    "\n",
    "*Con el objetivo de comparar la informacion obtenida se anexa a continuacion una tabla donde se resume la informacion del documento que se tomo como referencia para estos datos, para mayor informacion al respecto puede seguir el [enlace](https://ui.adsabs.harvard.edu/abs/2010MNRAS.403...17J/abstract)*\n",
    "\n",
    "\n",
    "\n",
    "Modelo |Masa Total [$M_\\odot$]| Masa barionica [$M_\\odot$] | Scale-length estrellas [kpc]  | Scale-length gas [kpc] | Masa Gas [$M_\\odot$]  | Vmax [km s$^{-1}$] \n",
    ":-------:| :----------: | :-------: | :-------: | :-------: | :-------: | :-------:\n",
    "G0 | 5.1 $\\cdot 10^{10}$ | $1.6 \\cdot 10^{9}$ | 1.1 | 3.3 | 6.08 $\\cdot 10^{8}$ | 67 \n",
    "G1 | $2 \\cdot 10^{11}$    | $7 \\cdot 10^{9}$ | 1.5 | 4.5 | 2.03 $\\cdot 10^{9}$ | 103\n",
    "G2 | 5.1 $\\cdot 10^{11}$  | $1.98 \\cdot 10^{10}$ | 1.9 | 5.7 | 4.55 $\\cdot 10^{9}$ | 139\n",
    "G3 | 1.16 $\\cdot 10^{12}$ | $6.22 \\cdot 10^{10}$ | 2.8 | 8.4 | 1.24 $\\cdot 10^{10}$  | 192\n"
   ]
  },
  {
   "cell_type": "code",
   "execution_count": 5,
   "metadata": {},
   "outputs": [
    {
     "name": "stdout",
     "output_type": "stream",
     "text": [
      "╒═══════════════════════════════════════════╤═════════════════════════╤═══════════════════════╕\n",
      "│  Galaxia:G0 / Snap:100 / Informacion Gas  │  Simulaciones Antiguas  │  Simulaciones Nuevas  │\n",
      "╞═══════════════════════════════════════════╪═════════════════════════╪═══════════════════════╡\n",
      "│                Masa Total                 │        0.0316692        │       0.0590415       │\n",
      "├───────────────────────────────────────────┼─────────────────────────┼───────────────────────┤\n",
      "│             Masa individuales             │       3.5235e-06        │      4.99962e-07      │\n",
      "├───────────────────────────────────────────┼─────────────────────────┼───────────────────────┤\n",
      "│           Numero de particulas            │          8988           │        118092         │\n",
      "╘═══════════════════════════════════════════╧═════════════════════════╧═══════════════════════╛\n",
      "╒═════════════════════════════════════╤═════════════════════════════════════════════╤═══════════════════════╕\n",
      "│  Galaxia:G0 / Snap:100 / Info Star  │            Simulaciones Antiguas            │  Simulaciones Nuevas  │\n",
      "╞═════════════════════════════════════╪═════════════════════════════════════════════╪═══════════════════════╡\n",
      "│             Masa Total              │             0.06416996568441391             │       0.100946        │\n",
      "├─────────────────────────────────────┼─────────────────────────────────────────────┼───────────────────────┤\n",
      "│          Masa individuales          │ [1.8791998e-06 3.5234996e-06 5.8724991e-06] │      4.99962e-07      │\n",
      "├─────────────────────────────────────┼─────────────────────────────────────────────┼───────────────────────┤\n",
      "│        Numero de particulas         │                    12012                    │        201908         │\n",
      "╘═════════════════════════════════════╧═════════════════════════════════════════════╧═══════════════════════╛\n",
      "╒══════════════════════════════════════════╤═════════════════════════╤═══════════════════════╕\n",
      "│  Galaxia:G0 / Snap:100 / Informacion DM  │  Simulaciones Antiguas  │  Simulaciones Nuevas  │\n",
      "╞══════════════════════════════════════════╪═════════════════════════╪═══════════════════════╡\n",
      "│                Masa Total                │         4.84937         │        5.09962        │\n",
      "├──────────────────────────────────────────┼─────────────────────────┼───────────────────────┤\n",
      "│            Masa individuales             │       0.000161646       │      3.9997e-06       │\n",
      "├──────────────────────────────────────────┼─────────────────────────┼───────────────────────┤\n",
      "│           Numero de particulas           │          30000          │       1.275e+06       │\n",
      "╘══════════════════════════════════════════╧═════════════════════════╧═══════════════════════╛\n",
      "╒═══════════════════════════════════════════╤═════════════════════════╤═══════════════════════╕\n",
      "│  Galaxia:G0 / Snap:300 / Informacion Gas  │  Simulaciones Antiguas  │  Simulaciones Nuevas  │\n",
      "╞═══════════════════════════════════════════╪═════════════════════════╪═══════════════════════╡\n",
      "│                Masa Total                 │        0.0265355        │       0.0564762       │\n",
      "├───────────────────────────────────────────┼─────────────────────────┼───────────────────────┤\n",
      "│             Masa individuales             │       3.5235e-06        │      4.99962e-07      │\n",
      "├───────────────────────────────────────────┼─────────────────────────┼───────────────────────┤\n",
      "│           Numero de particulas            │          7531           │        112961         │\n",
      "╘═══════════════════════════════════════════╧═════════════════════════╧═══════════════════════╛\n",
      "╒═════════════════════════════════════╤═════════════════════════════════════════════╤═══════════════════════╕\n",
      "│  Galaxia:G0 / Snap:300 / Info Star  │            Simulaciones Antiguas            │  Simulaciones Nuevas  │\n",
      "╞═════════════════════════════════════╪═════════════════════════════════════════════╪═══════════════════════╡\n",
      "│             Masa Total              │             0.06930370628833771             │       0.103512        │\n",
      "├─────────────────────────────────────┼─────────────────────────────────────────────┼───────────────────────┤\n",
      "│          Masa individuales          │ [1.8791998e-06 3.5234996e-06 5.8724991e-06] │      4.99962e-07      │\n",
      "├─────────────────────────────────────┼─────────────────────────────────────────────┼───────────────────────┤\n",
      "│        Numero de particulas         │                    13469                    │        207039         │\n",
      "╘═════════════════════════════════════╧═════════════════════════════════════════════╧═══════════════════════╛\n",
      "╒══════════════════════════════════════════╤═════════════════════════╤═══════════════════════╕\n",
      "│  Galaxia:G0 / Snap:300 / Informacion DM  │  Simulaciones Antiguas  │  Simulaciones Nuevas  │\n",
      "╞══════════════════════════════════════════╪═════════════════════════╪═══════════════════════╡\n",
      "│                Masa Total                │         4.84937         │        5.09962        │\n",
      "├──────────────────────────────────────────┼─────────────────────────┼───────────────────────┤\n",
      "│            Masa individuales             │       0.000161646       │      3.9997e-06       │\n",
      "├──────────────────────────────────────────┼─────────────────────────┼───────────────────────┤\n",
      "│           Numero de particulas           │          30000          │       1.275e+06       │\n",
      "╘══════════════════════════════════════════╧═════════════════════════╧═══════════════════════╛\n",
      "╒═══════════════════════════════════════════╤═════════════════════════╤═══════════════════════╕\n",
      "│  Galaxia:G0 / Snap:500 / Informacion Gas  │  Simulaciones Antiguas  │  Simulaciones Nuevas  │\n",
      "╞═══════════════════════════════════════════╪═════════════════════════╪═══════════════════════╡\n",
      "│                Masa Total                 │        0.024069         │       0.0547963       │\n",
      "├───────────────────────────────────────────┼─────────────────────────┼───────────────────────┤\n",
      "│             Masa individuales             │       3.5235e-06        │      4.99962e-07      │\n",
      "├───────────────────────────────────────────┼─────────────────────────┼───────────────────────┤\n",
      "│           Numero de particulas            │          6831           │        109601         │\n",
      "╘═══════════════════════════════════════════╧═════════════════════════╧═══════════════════════╛\n",
      "╒═════════════════════════════════════╤═════════════════════════════════════════════╤═══════════════════════╕\n",
      "│  Galaxia:G0 / Snap:500 / Info Star  │            Simulaciones Antiguas            │  Simulaciones Nuevas  │\n",
      "╞═════════════════════════════════════╪═════════════════════════════════════════════╪═══════════════════════╡\n",
      "│             Masa Total              │             0.07177015393972397             │       0.105192        │\n",
      "├─────────────────────────────────────┼─────────────────────────────────────────────┼───────────────────────┤\n",
      "│          Masa individuales          │ [1.8791998e-06 3.5234996e-06 5.8724991e-06] │      4.99962e-07      │\n",
      "├─────────────────────────────────────┼─────────────────────────────────────────────┼───────────────────────┤\n",
      "│        Numero de particulas         │                    14169                    │        210399         │\n",
      "╘═════════════════════════════════════╧═════════════════════════════════════════════╧═══════════════════════╛\n",
      "╒══════════════════════════════════════════╤═════════════════════════╤═══════════════════════╕\n",
      "│  Galaxia:G0 / Snap:500 / Informacion DM  │  Simulaciones Antiguas  │  Simulaciones Nuevas  │\n",
      "╞══════════════════════════════════════════╪═════════════════════════╪═══════════════════════╡\n",
      "│                Masa Total                │         4.84937         │        5.09962        │\n",
      "├──────────────────────────────────────────┼─────────────────────────┼───────────────────────┤\n",
      "│            Masa individuales             │       0.000161646       │      3.9997e-06       │\n",
      "├──────────────────────────────────────────┼─────────────────────────┼───────────────────────┤\n",
      "│           Numero de particulas           │          30000          │       1.275e+06       │\n",
      "╘══════════════════════════════════════════╧═════════════════════════╧═══════════════════════╛\n",
      "╒═══════════════════════════════════════════╤═════════════════════════╤═══════════════════════╕\n",
      "│  Galaxia:G1 / Snap:100 / Informacion Gas  │  Simulaciones Antiguas  │  Simulaciones Nuevas  │\n",
      "╞═══════════════════════════════════════════╪═════════════════════════╪═══════════════════════╡\n",
      "│                Masa Total                 │         0.12984         │       0.190887        │\n",
      "├───────────────────────────────────────────┼─────────────────────────┼───────────────────────┤\n",
      "│             Masa individuales             │       6.75689e-06       │      1.61135e-06      │\n",
      "├───────────────────────────────────────────┼─────────────────────────┼───────────────────────┤\n",
      "│           Numero de particulas            │          19216          │        118464         │\n",
      "╘═══════════════════════════════════════════╧═════════════════════════╧═══════════════════════╛\n",
      "╒═════════════════════════════════════╤═════════════════════════════════════════════╤═══════════════════════════════╕\n",
      "│  Galaxia:G1 / Snap:100 / Info Star  │            Simulaciones Antiguas            │      Simulaciones Nuevas      │\n",
      "╞═════════════════════════════════════╪═════════════════════════════════════════════╪═══════════════════════════════╡\n",
      "│             Masa Total              │              0.382045179605484              │      0.5092171430587769       │\n",
      "├─────────────────────────────────────┼─────────────────────────────────────────────┼───────────────────────────────┤\n",
      "│          Masa individuales          │ [6.7568903e-06 7.8751636e-06 1.6868600e-05] │ [1.6034644e-06 1.6113510e-06] │\n",
      "├─────────────────────────────────────┼─────────────────────────────────────────────┼───────────────────────────────┤\n",
      "│        Numero de particulas         │                    25784                    │            317536             │\n",
      "╘═════════════════════════════════════╧═════════════════════════════════════════════╧═══════════════════════════════╛\n"
     ]
    },
    {
     "name": "stdout",
     "output_type": "stream",
     "text": [
      "╒══════════════════════════════════════════╤═════════════════════════╤═══════════════════════╕\n",
      "│  Galaxia:G1 / Snap:100 / Informacion DM  │  Simulaciones Antiguas  │  Simulaciones Nuevas  │\n",
      "╞══════════════════════════════════════════╪═════════════════════════╪═══════════════════════╡\n",
      "│                Masa Total                │         19.1758         │        20.0033        │\n",
      "├──────────────────────────────────────────┼─────────────────────────┼───────────────────────┤\n",
      "│            Masa individuales             │       0.000383517       │      4.00065e-06      │\n",
      "├──────────────────────────────────────────┼─────────────────────────┼───────────────────────┤\n",
      "│           Numero de particulas           │          50000          │         5e+06         │\n",
      "╘══════════════════════════════════════════╧═════════════════════════╧═══════════════════════╛\n",
      "╒═══════════════════════════════════════════╤═════════════════════════╤═══════════════════════╕\n",
      "│  Galaxia:G1 / Snap:300 / Informacion Gas  │  Simulaciones Antiguas  │  Simulaciones Nuevas  │\n",
      "╞═══════════════════════════════════════════╪═════════════════════════╪═══════════════════════╡\n",
      "│                Masa Total                 │        0.122577         │       0.173907        │\n",
      "├───────────────────────────────────────────┼─────────────────────────┼───────────────────────┤\n",
      "│             Masa individuales             │       6.75689e-06       │      1.61135e-06      │\n",
      "├───────────────────────────────────────────┼─────────────────────────┼───────────────────────┤\n",
      "│           Numero de particulas            │          18141          │        107926         │\n",
      "╘═══════════════════════════════════════════╧═════════════════════════╧═══════════════════════╛\n",
      "╒═════════════════════════════════════╤═════════════════════════════════════════════╤═══════════════════════════════╕\n",
      "│  Galaxia:G1 / Snap:300 / Info Star  │            Simulaciones Antiguas            │      Simulaciones Nuevas      │\n",
      "╞═════════════════════════════════════╪═════════════════════════════════════════════╪═══════════════════════════════╡\n",
      "│             Masa Total              │             0.3893088400363922              │      0.5261974930763245       │\n",
      "├─────────────────────────────────────┼─────────────────────────────────────────────┼───────────────────────────────┤\n",
      "│          Masa individuales          │ [6.7568903e-06 7.8751636e-06 1.6868600e-05] │ [1.6034644e-06 1.6113510e-06] │\n",
      "├─────────────────────────────────────┼─────────────────────────────────────────────┼───────────────────────────────┤\n",
      "│        Numero de particulas         │                    26859                    │            328074             │\n",
      "╘═════════════════════════════════════╧═════════════════════════════════════════════╧═══════════════════════════════╛\n",
      "╒══════════════════════════════════════════╤═════════════════════════╤═══════════════════════╕\n",
      "│  Galaxia:G1 / Snap:300 / Informacion DM  │  Simulaciones Antiguas  │  Simulaciones Nuevas  │\n",
      "╞══════════════════════════════════════════╪═════════════════════════╪═══════════════════════╡\n",
      "│                Masa Total                │         19.1758         │        20.0033        │\n",
      "├──────────────────────────────────────────┼─────────────────────────┼───────────────────────┤\n",
      "│            Masa individuales             │       0.000383517       │      4.00065e-06      │\n",
      "├──────────────────────────────────────────┼─────────────────────────┼───────────────────────┤\n",
      "│           Numero de particulas           │          50000          │         5e+06         │\n",
      "╘══════════════════════════════════════════╧═════════════════════════╧═══════════════════════╛\n",
      "╒═══════════════════════════════════════════╤═════════════════════════╤═══════════════════════╕\n",
      "│  Galaxia:G1 / Snap:500 / Informacion Gas  │  Simulaciones Antiguas  │  Simulaciones Nuevas  │\n",
      "╞═══════════════════════════════════════════╪═════════════════════════╪═══════════════════════╡\n",
      "│                Masa Total                 │        0.117678         │       0.163009        │\n",
      "├───────────────────────────────────────────┼─────────────────────────┼───────────────────────┤\n",
      "│             Masa individuales             │       6.75689e-06       │      1.61135e-06      │\n",
      "├───────────────────────────────────────────┼─────────────────────────┼───────────────────────┤\n",
      "│           Numero de particulas            │          17416          │        101163         │\n",
      "╘═══════════════════════════════════════════╧═════════════════════════╧═══════════════════════╛\n",
      "╒═════════════════════════════════════╤═════════════════════════════════════════════╤═══════════════════════════════╕\n",
      "│  Galaxia:G1 / Snap:500 / Info Star  │            Simulaciones Antiguas            │      Simulaciones Nuevas      │\n",
      "╞═════════════════════════════════════╪═════════════════════════════════════════════╪═══════════════════════════════╡\n",
      "│             Masa Total              │             0.39420756697654724             │      0.5370950698852539       │\n",
      "├─────────────────────────────────────┼─────────────────────────────────────────────┼───────────────────────────────┤\n",
      "│          Masa individuales          │ [6.7568903e-06 7.8751636e-06 1.6868600e-05] │ [1.6034644e-06 1.6113510e-06] │\n",
      "├─────────────────────────────────────┼─────────────────────────────────────────────┼───────────────────────────────┤\n",
      "│        Numero de particulas         │                    27584                    │            334837             │\n",
      "╘═════════════════════════════════════╧═════════════════════════════════════════════╧═══════════════════════════════╛\n",
      "╒══════════════════════════════════════════╤═════════════════════════╤═══════════════════════╕\n",
      "│  Galaxia:G1 / Snap:500 / Informacion DM  │  Simulaciones Antiguas  │  Simulaciones Nuevas  │\n",
      "╞══════════════════════════════════════════╪═════════════════════════╪═══════════════════════╡\n",
      "│                Masa Total                │         19.1758         │        20.0033        │\n",
      "├──────────────────────────────────────────┼─────────────────────────┼───────────────────────┤\n",
      "│            Masa individuales             │       0.000383517       │      4.00065e-06      │\n",
      "├──────────────────────────────────────────┼─────────────────────────┼───────────────────────┤\n",
      "│           Numero de particulas           │          50000          │         5e+06         │\n",
      "╘══════════════════════════════════════════╧═════════════════════════╧═══════════════════════╛\n"
     ]
    }
   ],
   "source": [
    "minsnap = 100\n",
    "maxsnap = 700\n",
    "stepsnap = 200\n",
    "for gal in ['G0','G1']:\n",
    "    for snap in np.arange(minsnap,maxsnap,stepsnap): \n",
    "        snap = str(snap).zfill(3)\n",
    "\n",
    "        data_new = pyn.load(data_nuevo +'/'+gal+'/snapshot_'+snap+'.hdf5')\n",
    "        data_old = pyn.load(data_viejo +'/'+gal+'/snapshot_'+snap+'.hdf5')\n",
    "    \n",
    "       \n",
    "        GAS = [ ['Galaxia:'+gal+' / Snap:'+snap+' / Informacion Gas' , 'Simulaciones Antiguas', 'Simulaciones Nuevas'],\n",
    "                ['Masa Total', data_new.gas['mass'].sum(), data_old.gas['mass'].sum()],\n",
    "                ['Masa individuales',np.unique(data_new.gas['mass']),np.unique(data_old.gas['mass'])],\n",
    "                ['Numero de particulas', data_new.gas['mass'].size, data_old.gas['mass'].size]]\n",
    "        print(tabulate(GAS, \n",
    "                       headers='firstrow',\n",
    "                       tablefmt='fancy_grid',\n",
    "                       stralign='center', \n",
    "                       numalign='center'))\n",
    "    \n",
    "        STARS = [ ['Galaxia:'+gal+' / Snap:'+snap+' / Info Star' , 'Simulaciones Antiguas', 'Simulaciones Nuevas'],\n",
    "                    ['Masa Total', data_new.star['mass'].sum(), data_old.star['mass'].sum()],\n",
    "                    ['Masa individuales',np.unique(data_new.star['mass']),np.unique(data_old.star['mass'])],\n",
    "                    ['Numero de particulas', data_new.star['mass'].size, data_old.star['mass'].size]]\n",
    "        print(tabulate(STARS, \n",
    "                       headers='firstrow',\n",
    "                       tablefmt='fancy_grid',\n",
    "                       stralign='center', \n",
    "                       numalign='center'))\n",
    "        DARK_MATTER = [ ['Galaxia:'+gal+' / Snap:'+snap+' / Informacion DM' , 'Simulaciones Antiguas', 'Simulaciones Nuevas'],\n",
    "                        ['Masa Total', data_new.dm['mass'].sum(), data_old.dm['mass'].sum()],\n",
    "                        ['Masa individuales',np.unique(data_new.dm['mass']),np.unique(data_old.dm['mass'])],\n",
    "                        ['Numero de particulas', data_new.dm['mass'].size, data_old.dm['mass'].size]]\n",
    "        print(tabulate(DARK_MATTER, \n",
    "                       headers='firstrow',\n",
    "                       tablefmt='fancy_grid',\n",
    "                       stralign='center', \n",
    "                       numalign='center'))"
   ]
  },
  {
   "cell_type": "markdown",
   "metadata": {},
   "source": [
    "# Leídos directamente de los archivos \"param.txt-usedvalues\"\n",
    "\n",
    "SofteningGas                       0.1  \n",
    "SofteningHalo                      0.4  \n",
    "SofteningDisk                      0.1  \n",
    "SofteningBulge                     0.1  \n",
    "SofteningStars                     0.1  \n",
    "SofteningBndry                     0.1  "
   ]
  },
  {
   "cell_type": "code",
   "execution_count": 23,
   "metadata": {},
   "outputs": [
    {
     "ename": "NameError",
     "evalue": "name 'datadir' is not defined",
     "output_type": "error",
     "traceback": [
      "\u001b[0;31m---------------------------------------------------------------------------\u001b[0m",
      "\u001b[0;31mNameError\u001b[0m                                 Traceback (most recent call last)",
      "\u001b[0;32m<ipython-input-23-a366768c5635>\u001b[0m in \u001b[0;36m<module>\u001b[0;34m\u001b[0m\n\u001b[1;32m      1\u001b[0m \u001b[0mgal\u001b[0m \u001b[0;34m=\u001b[0m \u001b[0;34m'G3'\u001b[0m\u001b[0;34m\u001b[0m\u001b[0;34m\u001b[0m\u001b[0m\n\u001b[1;32m      2\u001b[0m \u001b[0msnap\u001b[0m \u001b[0;34m=\u001b[0m \u001b[0;34m'600'\u001b[0m\u001b[0;34m\u001b[0m\u001b[0;34m\u001b[0m\u001b[0m\n\u001b[0;32m----> 3\u001b[0;31m \u001b[0mdata\u001b[0m \u001b[0;34m=\u001b[0m \u001b[0mpynbody\u001b[0m\u001b[0;34m.\u001b[0m\u001b[0mload\u001b[0m\u001b[0;34m(\u001b[0m\u001b[0mdatadir\u001b[0m\u001b[0;34m+\u001b[0m\u001b[0;34m'/'\u001b[0m\u001b[0;34m+\u001b[0m\u001b[0mgal\u001b[0m\u001b[0;34m+\u001b[0m\u001b[0;34m'/snapshot_'\u001b[0m\u001b[0;34m+\u001b[0m\u001b[0msnap\u001b[0m\u001b[0;34m+\u001b[0m\u001b[0;34m'.hdf5'\u001b[0m\u001b[0;34m)\u001b[0m\u001b[0;34m\u001b[0m\u001b[0;34m\u001b[0m\u001b[0m\n\u001b[0m",
      "\u001b[0;31mNameError\u001b[0m: name 'datadir' is not defined"
     ]
    }
   ],
   "source": [
    "gal = 'G3'\n",
    "snap = '600'\n",
    "data = pynbody.load(datadir+'/'+gal+'/snapshot_'+snap+'.hdf5')"
   ]
  },
  {
   "cell_type": "code",
   "execution_count": null,
   "metadata": {},
   "outputs": [],
   "source": [
    "data.properties"
   ]
  },
  {
   "cell_type": "code",
   "execution_count": null,
   "metadata": {},
   "outputs": [],
   "source": [
    "np.unique(data.star['mass'])"
   ]
  },
  {
   "cell_type": "code",
   "execution_count": null,
   "metadata": {},
   "outputs": [],
   "source": [
    "gal = 'G0'\n",
    "snap = '100'\n",
    "data = pynbody.load(datadir+'/'+gal+'/snapshot_'+snap+'.hdf5')"
   ]
  },
  {
   "cell_type": "code",
   "execution_count": null,
   "metadata": {},
   "outputs": [],
   "source": [
    "data = pynbody.load(datadir+'/'+gal+'/snapshot_'+snap+'.hdf5')"
   ]
  },
  {
   "cell_type": "code",
   "execution_count": null,
   "metadata": {},
   "outputs": [],
   "source": [
    "data.properties"
   ]
  },
  {
   "cell_type": "code",
   "execution_count": null,
   "metadata": {},
   "outputs": [],
   "source": [
    "data.gas['acel']"
   ]
  },
  {
   "cell_type": "code",
   "execution_count": null,
   "metadata": {},
   "outputs": [],
   "source": []
  },
  {
   "cell_type": "code",
   "execution_count": null,
   "metadata": {},
   "outputs": [],
   "source": []
  },
  {
   "cell_type": "code",
   "execution_count": null,
   "metadata": {},
   "outputs": [],
   "source": [
    "plt.hist(data.gas['eps'])"
   ]
  },
  {
   "cell_type": "code",
   "execution_count": null,
   "metadata": {},
   "outputs": [],
   "source": [
    "len(np.unique(data.gas['smooth']))"
   ]
  },
  {
   "cell_type": "code",
   "execution_count": null,
   "metadata": {},
   "outputs": [],
   "source": []
  },
  {
   "cell_type": "code",
   "execution_count": null,
   "metadata": {},
   "outputs": [],
   "source": []
  },
  {
   "cell_type": "code",
   "execution_count": null,
   "metadata": {},
   "outputs": [],
   "source": []
  },
  {
   "cell_type": "code",
   "execution_count": null,
   "metadata": {},
   "outputs": [],
   "source": [
    "plt.hist(RGas(data),range=(0,10))"
   ]
  },
  {
   "cell_type": "code",
   "execution_count": null,
   "metadata": {},
   "outputs": [],
   "source": [
    "np.histogram?\n"
   ]
  },
  {
   "cell_type": "code",
   "execution_count": null,
   "metadata": {},
   "outputs": [],
   "source": []
  },
  {
   "cell_type": "code",
   "execution_count": null,
   "metadata": {},
   "outputs": [],
   "source": [
    "plt.hist(data.gas['smooth'],bins=20,range=(0,2))"
   ]
  },
  {
   "cell_type": "code",
   "execution_count": 3,
   "metadata": {},
   "outputs": [
    {
     "name": "stdout",
     "output_type": "stream",
     "text": [
      "| 1| |  1| |   1|\n",
      "| 2| |  4| |   8|\n",
      "| 3| |  9| |  27|\n",
      "| 4| | 16| |  64|\n",
      "| 5| | 25| | 125|\n",
      "| 6| | 36| | 216|\n",
      "| 7| | 49| | 343|\n",
      "| 8| | 64| | 512|\n",
      "| 9| | 81| | 729|\n",
      "|10| |100| |1000|\n"
     ]
    }
   ],
   "source": [
    "for x in range(1,11):\n",
    "    print ('{3}{0:2d}{3} {3}{1:3d}{3} {3}{2:4d}{3}'.format(x, x * x, x * x * x, '|'))"
   ]
  },
  {
   "cell_type": "code",
   "execution_count": null,
   "metadata": {},
   "outputs": [],
   "source": []
  }
 ],
 "metadata": {
  "kernelspec": {
   "display_name": "Python 3",
   "language": "python",
   "name": "python3"
  },
  "language_info": {
   "codemirror_mode": {
    "name": "ipython",
    "version": 3
   },
   "file_extension": ".py",
   "mimetype": "text/x-python",
   "name": "python",
   "nbconvert_exporter": "python",
   "pygments_lexer": "ipython3",
   "version": "3.8.5"
  }
 },
 "nbformat": 4,
 "nbformat_minor": 4
}
