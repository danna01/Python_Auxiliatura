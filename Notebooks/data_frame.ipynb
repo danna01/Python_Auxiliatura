{
 "cells": [
  {
   "cell_type": "code",
   "execution_count": 11,
   "metadata": {},
   "outputs": [],
   "source": [
    "import pandas as pd\n",
    "import pynbody as pyn\n",
    "import matplotlib.pyplot as plt\n",
    "import numpy as np\n",
    "from scipy.optimize import curve_fit\n",
    "from scipy import optimize\n",
    "from astropy import units as unit\n",
    "import sys\n",
    "import os \n",
    "from tabulate import tabulate"
   ]
  },
  {
   "cell_type": "code",
   "execution_count": 2,
   "metadata": {},
   "outputs": [],
   "source": [
    "df = pd.DataFrame()"
   ]
  },
  {
   "cell_type": "code",
   "execution_count": null,
   "metadata": {},
   "outputs": [],
   "source": [
    "nombres = ['Juan', 'Laura', 'Pepe']\n",
    "edades = [42, 40, 37]\n",
    "\n",
    "df['Nombre'] = nombres\n",
    "df['Edad'] = edades\n",
    "\n",
    "print(df)"
   ]
  },
  {
   "cell_type": "code",
   "execution_count": 3,
   "metadata": {},
   "outputs": [],
   "source": [
    "df = pd.DataFrame({\"A\": [\"foo\", \"foo\", \"foo\", \"foo\", \"foo\",\n",
    "\n",
    "                         \"bar\", \"bar\", \"bar\", \"bar\"],\n",
    "\n",
    "                   \"B\": [\"one\", \"one\", \"one\", \"two\", \"two\",\n",
    "\n",
    "                         \"one\", \"one\", \"two\", \"two\"],\n",
    "\n",
    "                   \"C\": [\"small\", \"large\", \"large\", \"small\",\n",
    "\n",
    "                         \"small\", \"large\", \"small\", \"small\",\n",
    "\n",
    "                         \"large\"],\n",
    "\n",
    "                   \"D\": [1, 2, 2, 3, 3, 4, 5, 6, 7],\n",
    "\n",
    "                   \"E\": [2, 4, 5, 5, 6, 6, 8, 9, 9]})"
   ]
  },
  {
   "cell_type": "code",
   "execution_count": 4,
   "metadata": {},
   "outputs": [
    {
     "data": {
      "text/html": [
       "<div>\n",
       "<style scoped>\n",
       "    .dataframe tbody tr th:only-of-type {\n",
       "        vertical-align: middle;\n",
       "    }\n",
       "\n",
       "    .dataframe tbody tr th {\n",
       "        vertical-align: top;\n",
       "    }\n",
       "\n",
       "    .dataframe thead th {\n",
       "        text-align: right;\n",
       "    }\n",
       "</style>\n",
       "<table border=\"1\" class=\"dataframe\">\n",
       "  <thead>\n",
       "    <tr style=\"text-align: right;\">\n",
       "      <th></th>\n",
       "      <th>A</th>\n",
       "      <th>B</th>\n",
       "      <th>C</th>\n",
       "      <th>D</th>\n",
       "      <th>E</th>\n",
       "    </tr>\n",
       "  </thead>\n",
       "  <tbody>\n",
       "    <tr>\n",
       "      <th>0</th>\n",
       "      <td>foo</td>\n",
       "      <td>one</td>\n",
       "      <td>small</td>\n",
       "      <td>1</td>\n",
       "      <td>2</td>\n",
       "    </tr>\n",
       "    <tr>\n",
       "      <th>1</th>\n",
       "      <td>foo</td>\n",
       "      <td>one</td>\n",
       "      <td>large</td>\n",
       "      <td>2</td>\n",
       "      <td>4</td>\n",
       "    </tr>\n",
       "    <tr>\n",
       "      <th>2</th>\n",
       "      <td>foo</td>\n",
       "      <td>one</td>\n",
       "      <td>large</td>\n",
       "      <td>2</td>\n",
       "      <td>5</td>\n",
       "    </tr>\n",
       "    <tr>\n",
       "      <th>3</th>\n",
       "      <td>foo</td>\n",
       "      <td>two</td>\n",
       "      <td>small</td>\n",
       "      <td>3</td>\n",
       "      <td>5</td>\n",
       "    </tr>\n",
       "    <tr>\n",
       "      <th>4</th>\n",
       "      <td>foo</td>\n",
       "      <td>two</td>\n",
       "      <td>small</td>\n",
       "      <td>3</td>\n",
       "      <td>6</td>\n",
       "    </tr>\n",
       "    <tr>\n",
       "      <th>5</th>\n",
       "      <td>bar</td>\n",
       "      <td>one</td>\n",
       "      <td>large</td>\n",
       "      <td>4</td>\n",
       "      <td>6</td>\n",
       "    </tr>\n",
       "    <tr>\n",
       "      <th>6</th>\n",
       "      <td>bar</td>\n",
       "      <td>one</td>\n",
       "      <td>small</td>\n",
       "      <td>5</td>\n",
       "      <td>8</td>\n",
       "    </tr>\n",
       "    <tr>\n",
       "      <th>7</th>\n",
       "      <td>bar</td>\n",
       "      <td>two</td>\n",
       "      <td>small</td>\n",
       "      <td>6</td>\n",
       "      <td>9</td>\n",
       "    </tr>\n",
       "    <tr>\n",
       "      <th>8</th>\n",
       "      <td>bar</td>\n",
       "      <td>two</td>\n",
       "      <td>large</td>\n",
       "      <td>7</td>\n",
       "      <td>9</td>\n",
       "    </tr>\n",
       "  </tbody>\n",
       "</table>\n",
       "</div>"
      ],
      "text/plain": [
       "     A    B      C  D  E\n",
       "0  foo  one  small  1  2\n",
       "1  foo  one  large  2  4\n",
       "2  foo  one  large  2  5\n",
       "3  foo  two  small  3  5\n",
       "4  foo  two  small  3  6\n",
       "5  bar  one  large  4  6\n",
       "6  bar  one  small  5  8\n",
       "7  bar  two  small  6  9\n",
       "8  bar  two  large  7  9"
      ]
     },
     "execution_count": 4,
     "metadata": {},
     "output_type": "execute_result"
    }
   ],
   "source": [
    "df"
   ]
  },
  {
   "cell_type": "code",
   "execution_count": 5,
   "metadata": {},
   "outputs": [],
   "source": [
    "table = pd.pivot_table(df, values='D', index=['A', 'B'],\n",
    "\n",
    "                    columns=['C'], aggfunc=np.sum)"
   ]
  },
  {
   "cell_type": "code",
   "execution_count": 8,
   "metadata": {},
   "outputs": [
    {
     "data": {
      "text/plain": [
       "{'a': ['ind1', 'ind4'], 'b': ['ind2', 'ind3']}"
      ]
     },
     "execution_count": 8,
     "metadata": {},
     "output_type": "execute_result"
    }
   ],
   "source": [
    "from pandas import Series\n",
    "dict_series = {'uno' : Series(['a', 'b', 'b', 'a'], index=['ind1', 'ind2', 'ind3', 'ind4']),\n",
    "               'dos' : Series([1, 1, 2, 2], index=['ind1', 'ind2', 'ind3', 'ind4'])}\n",
    "df = pd.DataFrame(dict_series)\n",
    "df.groupby('uno').groups\n",
    "{'a': ['ind1', 'ind4'], 'b': ['ind2', 'ind3']}"
   ]
  },
  {
   "cell_type": "code",
   "execution_count": 6,
   "metadata": {},
   "outputs": [
    {
     "data": {
      "text/html": [
       "<div>\n",
       "<style scoped>\n",
       "    .dataframe tbody tr th:only-of-type {\n",
       "        vertical-align: middle;\n",
       "    }\n",
       "\n",
       "    .dataframe tbody tr th {\n",
       "        vertical-align: top;\n",
       "    }\n",
       "\n",
       "    .dataframe thead th {\n",
       "        text-align: right;\n",
       "    }\n",
       "</style>\n",
       "<table border=\"1\" class=\"dataframe\">\n",
       "  <thead>\n",
       "    <tr style=\"text-align: right;\">\n",
       "      <th></th>\n",
       "      <th>C</th>\n",
       "      <th>large</th>\n",
       "      <th>small</th>\n",
       "    </tr>\n",
       "    <tr>\n",
       "      <th>A</th>\n",
       "      <th>B</th>\n",
       "      <th></th>\n",
       "      <th></th>\n",
       "    </tr>\n",
       "  </thead>\n",
       "  <tbody>\n",
       "    <tr>\n",
       "      <th rowspan=\"2\" valign=\"top\">bar</th>\n",
       "      <th>one</th>\n",
       "      <td>4.0</td>\n",
       "      <td>5.0</td>\n",
       "    </tr>\n",
       "    <tr>\n",
       "      <th>two</th>\n",
       "      <td>7.0</td>\n",
       "      <td>6.0</td>\n",
       "    </tr>\n",
       "    <tr>\n",
       "      <th rowspan=\"2\" valign=\"top\">foo</th>\n",
       "      <th>one</th>\n",
       "      <td>4.0</td>\n",
       "      <td>1.0</td>\n",
       "    </tr>\n",
       "    <tr>\n",
       "      <th>two</th>\n",
       "      <td>NaN</td>\n",
       "      <td>6.0</td>\n",
       "    </tr>\n",
       "  </tbody>\n",
       "</table>\n",
       "</div>"
      ],
      "text/plain": [
       "C        large  small\n",
       "A   B                \n",
       "bar one    4.0    5.0\n",
       "    two    7.0    6.0\n",
       "foo one    4.0    1.0\n",
       "    two    NaN    6.0"
      ]
     },
     "execution_count": 6,
     "metadata": {},
     "output_type": "execute_result"
    }
   ],
   "source": [
    "table"
   ]
  },
  {
   "cell_type": "code",
   "execution_count": 12,
   "metadata": {},
   "outputs": [],
   "source": [
    "data_nuevo = '/media/danna01/Disk/SNAPSHOTS/Galaxias_Nuevas'\n",
    "data_viejo = '/media/danna01/Disk/SNAPSHOTS/Galaxias_Viejas'\n",
    "minsnap = 100\n",
    "maxsnap = 300\n",
    "stepsnap = 200\n",
    "for gal in ['G0','G1','G2','G3']:\n",
    "    if gal in ['G0','G1']:\n",
    "        for snap in np.arange(minsnap,maxsnap,stepsnap): \n",
    "            snap = str(snap).zfill(3)\n",
    "            data_new = pyn.load(data_nuevo +'/'+gal+'/snapshot_'+snap+'.hdf5')\n",
    "            data_old = pyn.load(data_viejo +'/'+gal+'/snapshot_'+snap+'.hdf5')\n",
    "    if gal in ['G2','G3']:\n",
    "        for snap in np.arange(minsnap,maxsnap,stepsnap): \n",
    "            snap = str(snap).zfill(3)\n",
    "            data_new = pyn.load(data_nuevo +'/'+gal+'/snapshot_'+snap+'.hdf5')"
   ]
  },
  {
   "cell_type": "code",
   "execution_count": 13,
   "metadata": {},
   "outputs": [],
   "source": [
    "\n",
    "masa_barionica_total_new = data_new.star['mass'].sum() + data_new.gas['mass'].sum()\n",
    "masa_total_new = data_new.star['mass'].sum() + data_new.gas['mass'].sum() +  data_new.dm['mass'].sum()\n",
    "masa_barionica_total_old = data_old.star['mass'].sum() + data_old.gas['mass'].sum()\n",
    "masa_total_old = data_old.star['mass'].sum() + data_old.gas['mass'].sum() +  data_old.dm['mass'].sum()"
   ]
  },
  {
   "cell_type": "code",
   "execution_count": 16,
   "metadata": {},
   "outputs": [
    {
     "data": {
      "text/plain": [
       "SimArray(116.65092, dtype=float32, '1.00e+10 Msol')"
      ]
     },
     "execution_count": 16,
     "metadata": {},
     "output_type": "execute_result"
    }
   ],
   "source": [
    "masa_total_new"
   ]
  },
  {
   "cell_type": "code",
   "execution_count": 11,
   "metadata": {},
   "outputs": [
    {
     "ename": "ValueError",
     "evalue": "arrays must all be same length",
     "output_type": "error",
     "traceback": [
      "\u001b[0;31m---------------------------------------------------------------------------\u001b[0m",
      "\u001b[0;31mValueError\u001b[0m                                Traceback (most recent call last)",
      "\u001b[0;32m<ipython-input-11-4cce015bc7f2>\u001b[0m in \u001b[0;36m<module>\u001b[0;34m\u001b[0m\n\u001b[0;32m----> 1\u001b[0;31m data = pd.DataFrame({\"Galaxies\": [\"G0\", \"G1\", \"G2\", \"G3\"],\n\u001b[0m\u001b[1;32m      2\u001b[0m \u001b[0;34m\u001b[0m\u001b[0m\n\u001b[1;32m      3\u001b[0m                      \u001b[0;34m\"Caracteristica\"\u001b[0m\u001b[0;34m:\u001b[0m \u001b[0;34m[\u001b[0m\u001b[0;34m'Masa Total'\u001b[0m\u001b[0;34m,\u001b[0m\u001b[0;34m'Masa Barionica'\u001b[0m\u001b[0;34m,\u001b[0m\u001b[0;34m'Masa del Gas'\u001b[0m\u001b[0;34m]\u001b[0m\u001b[0;34m,\u001b[0m\u001b[0;34m\u001b[0m\u001b[0;34m\u001b[0m\u001b[0m\n\u001b[1;32m      4\u001b[0m \u001b[0;34m\u001b[0m\u001b[0m\n\u001b[1;32m      5\u001b[0m                      \"Fuente\": {'Masa Total': [\"Valor Paper\", \"Simulacion Nueva\", \"Simulacion Vieja\"], \n",
      "\u001b[0;32m~/.local/lib/python3.8/site-packages/pandas/core/frame.py\u001b[0m in \u001b[0;36m__init__\u001b[0;34m(self, data, index, columns, dtype, copy)\u001b[0m\n\u001b[1;32m    527\u001b[0m \u001b[0;34m\u001b[0m\u001b[0m\n\u001b[1;32m    528\u001b[0m         \u001b[0;32melif\u001b[0m \u001b[0misinstance\u001b[0m\u001b[0;34m(\u001b[0m\u001b[0mdata\u001b[0m\u001b[0;34m,\u001b[0m \u001b[0mdict\u001b[0m\u001b[0;34m)\u001b[0m\u001b[0;34m:\u001b[0m\u001b[0;34m\u001b[0m\u001b[0;34m\u001b[0m\u001b[0m\n\u001b[0;32m--> 529\u001b[0;31m             \u001b[0mmgr\u001b[0m \u001b[0;34m=\u001b[0m \u001b[0minit_dict\u001b[0m\u001b[0;34m(\u001b[0m\u001b[0mdata\u001b[0m\u001b[0;34m,\u001b[0m \u001b[0mindex\u001b[0m\u001b[0;34m,\u001b[0m \u001b[0mcolumns\u001b[0m\u001b[0;34m,\u001b[0m \u001b[0mdtype\u001b[0m\u001b[0;34m=\u001b[0m\u001b[0mdtype\u001b[0m\u001b[0;34m)\u001b[0m\u001b[0;34m\u001b[0m\u001b[0;34m\u001b[0m\u001b[0m\n\u001b[0m\u001b[1;32m    530\u001b[0m         \u001b[0;32melif\u001b[0m \u001b[0misinstance\u001b[0m\u001b[0;34m(\u001b[0m\u001b[0mdata\u001b[0m\u001b[0;34m,\u001b[0m \u001b[0mma\u001b[0m\u001b[0;34m.\u001b[0m\u001b[0mMaskedArray\u001b[0m\u001b[0;34m)\u001b[0m\u001b[0;34m:\u001b[0m\u001b[0;34m\u001b[0m\u001b[0;34m\u001b[0m\u001b[0m\n\u001b[1;32m    531\u001b[0m             \u001b[0;32mimport\u001b[0m \u001b[0mnumpy\u001b[0m\u001b[0;34m.\u001b[0m\u001b[0mma\u001b[0m\u001b[0;34m.\u001b[0m\u001b[0mmrecords\u001b[0m \u001b[0;32mas\u001b[0m \u001b[0mmrecords\u001b[0m\u001b[0;34m\u001b[0m\u001b[0;34m\u001b[0m\u001b[0m\n",
      "\u001b[0;32m~/.local/lib/python3.8/site-packages/pandas/core/internals/construction.py\u001b[0m in \u001b[0;36minit_dict\u001b[0;34m(data, index, columns, dtype)\u001b[0m\n\u001b[1;32m    285\u001b[0m             \u001b[0marr\u001b[0m \u001b[0;32mif\u001b[0m \u001b[0;32mnot\u001b[0m \u001b[0mis_datetime64tz_dtype\u001b[0m\u001b[0;34m(\u001b[0m\u001b[0marr\u001b[0m\u001b[0;34m)\u001b[0m \u001b[0;32melse\u001b[0m \u001b[0marr\u001b[0m\u001b[0;34m.\u001b[0m\u001b[0mcopy\u001b[0m\u001b[0;34m(\u001b[0m\u001b[0;34m)\u001b[0m \u001b[0;32mfor\u001b[0m \u001b[0marr\u001b[0m \u001b[0;32min\u001b[0m \u001b[0marrays\u001b[0m\u001b[0;34m\u001b[0m\u001b[0;34m\u001b[0m\u001b[0m\n\u001b[1;32m    286\u001b[0m         ]\n\u001b[0;32m--> 287\u001b[0;31m     \u001b[0;32mreturn\u001b[0m \u001b[0marrays_to_mgr\u001b[0m\u001b[0;34m(\u001b[0m\u001b[0marrays\u001b[0m\u001b[0;34m,\u001b[0m \u001b[0mdata_names\u001b[0m\u001b[0;34m,\u001b[0m \u001b[0mindex\u001b[0m\u001b[0;34m,\u001b[0m \u001b[0mcolumns\u001b[0m\u001b[0;34m,\u001b[0m \u001b[0mdtype\u001b[0m\u001b[0;34m=\u001b[0m\u001b[0mdtype\u001b[0m\u001b[0;34m)\u001b[0m\u001b[0;34m\u001b[0m\u001b[0;34m\u001b[0m\u001b[0m\n\u001b[0m\u001b[1;32m    288\u001b[0m \u001b[0;34m\u001b[0m\u001b[0m\n\u001b[1;32m    289\u001b[0m \u001b[0;34m\u001b[0m\u001b[0m\n",
      "\u001b[0;32m~/.local/lib/python3.8/site-packages/pandas/core/internals/construction.py\u001b[0m in \u001b[0;36marrays_to_mgr\u001b[0;34m(arrays, arr_names, index, columns, dtype, verify_integrity)\u001b[0m\n\u001b[1;32m     78\u001b[0m         \u001b[0;31m# figure out the index, if necessary\u001b[0m\u001b[0;34m\u001b[0m\u001b[0;34m\u001b[0m\u001b[0;34m\u001b[0m\u001b[0m\n\u001b[1;32m     79\u001b[0m         \u001b[0;32mif\u001b[0m \u001b[0mindex\u001b[0m \u001b[0;32mis\u001b[0m \u001b[0;32mNone\u001b[0m\u001b[0;34m:\u001b[0m\u001b[0;34m\u001b[0m\u001b[0;34m\u001b[0m\u001b[0m\n\u001b[0;32m---> 80\u001b[0;31m             \u001b[0mindex\u001b[0m \u001b[0;34m=\u001b[0m \u001b[0mextract_index\u001b[0m\u001b[0;34m(\u001b[0m\u001b[0marrays\u001b[0m\u001b[0;34m)\u001b[0m\u001b[0;34m\u001b[0m\u001b[0;34m\u001b[0m\u001b[0m\n\u001b[0m\u001b[1;32m     81\u001b[0m         \u001b[0;32melse\u001b[0m\u001b[0;34m:\u001b[0m\u001b[0;34m\u001b[0m\u001b[0;34m\u001b[0m\u001b[0m\n\u001b[1;32m     82\u001b[0m             \u001b[0mindex\u001b[0m \u001b[0;34m=\u001b[0m \u001b[0mensure_index\u001b[0m\u001b[0;34m(\u001b[0m\u001b[0mindex\u001b[0m\u001b[0;34m)\u001b[0m\u001b[0;34m\u001b[0m\u001b[0;34m\u001b[0m\u001b[0m\n",
      "\u001b[0;32m~/.local/lib/python3.8/site-packages/pandas/core/internals/construction.py\u001b[0m in \u001b[0;36mextract_index\u001b[0;34m(data)\u001b[0m\n\u001b[1;32m    399\u001b[0m             \u001b[0mlengths\u001b[0m \u001b[0;34m=\u001b[0m \u001b[0mlist\u001b[0m\u001b[0;34m(\u001b[0m\u001b[0mset\u001b[0m\u001b[0;34m(\u001b[0m\u001b[0mraw_lengths\u001b[0m\u001b[0;34m)\u001b[0m\u001b[0;34m)\u001b[0m\u001b[0;34m\u001b[0m\u001b[0;34m\u001b[0m\u001b[0m\n\u001b[1;32m    400\u001b[0m             \u001b[0;32mif\u001b[0m \u001b[0mlen\u001b[0m\u001b[0;34m(\u001b[0m\u001b[0mlengths\u001b[0m\u001b[0;34m)\u001b[0m \u001b[0;34m>\u001b[0m \u001b[0;36m1\u001b[0m\u001b[0;34m:\u001b[0m\u001b[0;34m\u001b[0m\u001b[0;34m\u001b[0m\u001b[0m\n\u001b[0;32m--> 401\u001b[0;31m                 \u001b[0;32mraise\u001b[0m \u001b[0mValueError\u001b[0m\u001b[0;34m(\u001b[0m\u001b[0;34m\"arrays must all be same length\"\u001b[0m\u001b[0;34m)\u001b[0m\u001b[0;34m\u001b[0m\u001b[0;34m\u001b[0m\u001b[0m\n\u001b[0m\u001b[1;32m    402\u001b[0m \u001b[0;34m\u001b[0m\u001b[0m\n\u001b[1;32m    403\u001b[0m             \u001b[0;32mif\u001b[0m \u001b[0mhave_dicts\u001b[0m\u001b[0;34m:\u001b[0m\u001b[0;34m\u001b[0m\u001b[0;34m\u001b[0m\u001b[0m\n",
      "\u001b[0;31mValueError\u001b[0m: arrays must all be same length"
     ]
    }
   ],
   "source": [
    "data = pd.DataFrame({\"Galaxies\": [\"G0\", \"G1\", \"G2\", \"G3\"],\n",
    "                     \n",
    "                     \"Caracteristica\": ['Masa Total','Masa Barionica','Masa del Gas'],\n",
    "\n",
    "                     \"Fuente\": {'Masa Total': [\"Valor Paper\", \"Simulacion Nueva\", \"Simulacion Vieja\"], \n",
    "                                'Masa Barionica': [\"Valor Paper\", \"Simulacion Nueva\", \"Simulacion Vieja\"], \n",
    "                                'Masa del Gas': [\"Valor Paper\", \"Simulacion Nueva\", \"Simulacion Vieja\"]},\n",
    "\n",
    "                   \"Valores\": {'G0': ['5.1 $\\cdot 10^{10}$',masa_total_new,masa_total_old, '$1.6 \\cdot 10^{9}$',masa_barionica_total_new,masa_barionica_total_old,'6.08 $\\cdot 10^{8}$', data_new.gas['mass'].sum(), data_old.gas['mass'].sum()],\n",
    "                               'G1': ['$2 \\cdot 10^{11}$ ',masa_total_new,masa_total_old,'$7 \\cdot 10^{9}$',masa_barionica_total_new,masa_barionica_total_old, ' 2.03 $\\cdot 10^{9}$ ',data_new.gas['mass'].sum(), data_old.gas['mass'].sum()],\n",
    "                               'G2': ['5.1 $\\cdot 10^{11}$',masa_total_new,'NaN','$1.98 \\cdot 10^{10}$',masa_barionica_total_new,'NaN','4.55 $\\cdot 10^{9}$',data_new.gas['mass'].sum(), 'NaN'],\n",
    "                               'G3': ['1.16 $\\cdot 10^{12}$',masa_total_new,'NaN','$6.22 \\cdot 10^{10}$',masa_barionica_total_new,'NaN','1.24 $\\cdot 10^{10}$',data_new.gas['mass'].sum(), 'NaN']}\n",
    "                    })"
   ]
  },
  {
   "cell_type": "code",
   "execution_count": null,
   "metadata": {},
   "outputs": [],
   "source": [
    "data = pd.DataFrame({\"Galaxies\": [\"G0\", \"G1\", \"G2\", \"G3\"],\n",
    "                     \n",
    "                     \"Caracteristica\": ['Masa Total','Masa Barionica','Masa del Gas'],\n",
    "\n",
    "                     \"Fuente\": {'Masa Total': [\"Valor Paper\", \"Simulacion Nueva\", \"Simulacion Vieja\"], \n",
    "                                'Masa Barionica': [\"Valor Paper\", \"Simulacion Nueva\", \"Simulacion Vieja\"], \n",
    "                                'Masa del Gas': [\"Valor Paper\", \"Simulacion Nueva\", \"Simulacion Vieja\"]},\n",
    "\n",
    "                   \"Valores\": {'G0': ['5.1 $\\cdot 10^{10}$',masa_total_new,masa_total_old, '$1.6 \\cdot 10^{9}$',masa_barionica_total_new,masa_barionica_total_old,'6.08 $\\cdot 10^{8}$', data_new.gas['mass'].sum(), data_old.gas['mass'].sum()],\n",
    "                               'G1': ['$2 \\cdot 10^{11}$ ',masa_total_new,masa_total_old,'$7 \\cdot 10^{9}$',masa_barionica_total_new,masa_barionica_total_old, ' 2.03 $\\cdot 10^{9}$ ',data_new.gas['mass'].sum(), data_old.gas['mass'].sum()],\n",
    "                               'G2': ['5.1 $\\cdot 10^{11}$',masa_total_new,'NaN','$1.98 \\cdot 10^{10}$',masa_barionica_total_new,'NaN','4.55 $\\cdot 10^{9}$',data_new.gas['mass'].sum(), 'NaN'],\n",
    "                               'G3': ['1.16 $\\cdot 10^{12}$',masa_total_new,'NaN','$6.22 \\cdot 10^{10}$',masa_barionica_total_new,'NaN','1.24 $\\cdot 10^{10}$',data_new.gas['mass'].sum(), 'NaN']}\n",
    "                    })"
   ]
  },
  {
   "cell_type": "code",
   "execution_count": 9,
   "metadata": {},
   "outputs": [
    {
     "ename": "ModuleNotFoundError",
     "evalue": "No module named 'docx'",
     "output_type": "error",
     "traceback": [
      "\u001b[0;31m---------------------------------------------------------------------------\u001b[0m",
      "\u001b[0;31mModuleNotFoundError\u001b[0m                       Traceback (most recent call last)",
      "\u001b[0;32m<ipython-input-9-c93dc9032be5>\u001b[0m in \u001b[0;36m<module>\u001b[0;34m\u001b[0m\n\u001b[0;32m----> 1\u001b[0;31m \u001b[0;32mfrom\u001b[0m \u001b[0mdocx\u001b[0m \u001b[0;32mimport\u001b[0m \u001b[0mDocument\u001b[0m\u001b[0;34m\u001b[0m\u001b[0;34m\u001b[0m\u001b[0m\n\u001b[0m\u001b[1;32m      2\u001b[0m \u001b[0;32mfrom\u001b[0m \u001b[0mdocx\u001b[0m\u001b[0;34m.\u001b[0m\u001b[0mshared\u001b[0m \u001b[0;32mimport\u001b[0m \u001b[0mInches\u001b[0m\u001b[0;34m\u001b[0m\u001b[0;34m\u001b[0m\u001b[0m\n\u001b[1;32m      3\u001b[0m \u001b[0;34m\u001b[0m\u001b[0m\n\u001b[1;32m      4\u001b[0m \u001b[0mdocument\u001b[0m \u001b[0;34m=\u001b[0m \u001b[0mDocument\u001b[0m\u001b[0;34m(\u001b[0m\u001b[0;34m)\u001b[0m\u001b[0;34m\u001b[0m\u001b[0;34m\u001b[0m\u001b[0m\n\u001b[1;32m      5\u001b[0m \u001b[0;34m\u001b[0m\u001b[0m\n",
      "\u001b[0;31mModuleNotFoundError\u001b[0m: No module named 'docx'"
     ]
    }
   ],
   "source": [
    "from docx import Document\n",
    "from docx.shared import Inches\n",
    "\n",
    "document = Document()\n",
    "\n",
    "contenidos = [\n",
    "    [ \"Contenido de la primera fila\" ],\n",
    "    [ \"Contenido de la\", \"segunda fila\" ],\n",
    "    [ \"Contenido de la tercera fila\" ],\n",
    "    [ \"Contenido de la\", \"cuarta fila\" ]\n",
    "]"
   ]
  },
  {
   "cell_type": "code",
   "execution_count": null,
   "metadata": {},
   "outputs": [],
   "source": [
    "\n",
    "table = document.add_table(rows=0, cols=2)\n",
    "for fila in contenidos:\n",
    "    row_cells = table.add_row().cells\n",
    "    row_cells[0].text = fila[0]\n",
    "    if len(fila) == 1:\n",
    "        row_cells[0].merge(row_cells[1])\n",
    "    else:\n",
    "        row_cells[1].text = fila[1]\n",
    "\n",
    "document.add_page_break()\n",
    "document.save('demo.docx')"
   ]
  },
  {
   "cell_type": "code",
   "execution_count": 47,
   "metadata": {},
   "outputs": [],
   "source": [
    "data_newg0 = pyn.load(data_nuevo +'/G0/snapshot_100.hdf5')\n",
    "data_oldg0 = pyn.load(data_viejo +'/G0/snapshot_100.hdf5')\n",
    "data_newg1 = pyn.load(data_nuevo +'/G1/snapshot_100.hdf5')\n",
    "data_oldg1 = pyn.load(data_viejo +'/G1/snapshot_100.hdf5')\n",
    "data_newg2 = pyn.load(data_nuevo +'/G2/snapshot_100.hdf5')\n",
    "data_newg3 = pyn.load(data_nuevo +'/G3/snapshot_100.hdf5')"
   ]
  },
  {
   "cell_type": "code",
   "execution_count": 48,
   "metadata": {},
   "outputs": [],
   "source": [
    "masa_barionica_total_newg0 = data_newg0.star['mass'].sum() + data_newg0.gas['mass'].sum()\n",
    "masa_total_newg0 = data_newg0.star['mass'].sum() + data_newg0.gas['mass'].sum() +  data_newg0.dm['mass'].sum()\n",
    "masa_barionica_total_oldg0 = data_oldg0.star['mass'].sum() + data_oldg0.gas['mass'].sum()\n",
    "masa_total_oldg0 = data_oldg0.star['mass'].sum() + data_oldg0.gas['mass'].sum() +  data_oldg0.dm['mass'].sum()\n",
    "\n",
    "masa_barionica_total_newg1 = data_newg1.star['mass'].sum() + data_newg1.gas['mass'].sum()\n",
    "masa_total_newg1 = data_newg1.star['mass'].sum() + data_newg1.gas['mass'].sum() +  data_newg1.dm['mass'].sum()\n",
    "masa_barionica_total_oldg1 = data_oldg1.star['mass'].sum() + data_oldg1.gas['mass'].sum()\n",
    "masa_total_oldg1 = data_oldg1.star['mass'].sum() + data_oldg1.gas['mass'].sum() +  data_oldg1.dm['mass'].sum()\n",
    "\n",
    "masa_barionica_total_newg2 = data_newg2.star['mass'].sum() + data_newg2.gas['mass'].sum()\n",
    "masa_total_newg2 = data_newg2.star['mass'].sum() + data_newg2.gas['mass'].sum() +  data_newg2.dm['mass'].sum()\n",
    "\n",
    "masa_barionica_total_newg3 = data_newg3.star['mass'].sum() + data_newg3.gas['mass'].sum()\n",
    "masa_total_newg3 = data_newg3.star['mass'].sum() + data_newg3.gas['mass'].sum() +  data_newg3.dm['mass'].sum()"
   ]
  },
  {
   "cell_type": "code",
   "execution_count": 53,
   "metadata": {},
   "outputs": [
    {
     "data": {
      "text/html": [
       "<style  type=\"text/css\" >\n",
       "#T_9d72b_row0_col0,#T_9d72b_row0_col1,#T_9d72b_row0_col2,#T_9d72b_row0_col3,#T_9d72b_row0_col4,#T_9d72b_row0_col5,#T_9d72b_row0_col6,#T_9d72b_row0_col7,#T_9d72b_row0_col8,#T_9d72b_row0_col9,#T_9d72b_row1_col0,#T_9d72b_row1_col1,#T_9d72b_row1_col2,#T_9d72b_row1_col3,#T_9d72b_row1_col4,#T_9d72b_row1_col5,#T_9d72b_row1_col6,#T_9d72b_row1_col7,#T_9d72b_row1_col8,#T_9d72b_row1_col9,#T_9d72b_row2_col0,#T_9d72b_row2_col1,#T_9d72b_row2_col2,#T_9d72b_row2_col3,#T_9d72b_row2_col4,#T_9d72b_row2_col5,#T_9d72b_row2_col6,#T_9d72b_row2_col7,#T_9d72b_row2_col8,#T_9d72b_row2_col9,#T_9d72b_row3_col0,#T_9d72b_row3_col1,#T_9d72b_row3_col2,#T_9d72b_row3_col3,#T_9d72b_row3_col4,#T_9d72b_row3_col5,#T_9d72b_row3_col6,#T_9d72b_row3_col7,#T_9d72b_row3_col8,#T_9d72b_row3_col9,#T_9d72b_row4_col0,#T_9d72b_row4_col1,#T_9d72b_row4_col2,#T_9d72b_row4_col3,#T_9d72b_row4_col4,#T_9d72b_row4_col5,#T_9d72b_row4_col6,#T_9d72b_row4_col7,#T_9d72b_row4_col8,#T_9d72b_row4_col9{\n",
       "            text-align:  center;\n",
       "        }</style><table id=\"T_9d72b_\" ><thead>    <tr>        <th class=\"blank level0\" ></th>        <th class=\"col_heading level0 col0\" >Galaxies</th>        <th class=\"col_heading level0 col1\" ></th>        <th class=\"col_heading level0 col2\" >Masa Total [$1x10^{10}$ $M_\\odot$]</th>        <th class=\"col_heading level0 col3\" > </th>        <th class=\"col_heading level0 col4\" >  </th>        <th class=\"col_heading level0 col5\" >Masa Barionica [$1x10^{10}$ $M_\\odot$]</th>        <th class=\"col_heading level0 col6\" >   </th>        <th class=\"col_heading level0 col7\" >    </th>        <th class=\"col_heading level0 col8\" >Masa Gas [$1x10^{10}$ $M_\\odot$]</th>        <th class=\"col_heading level0 col9\" >     </th>    </tr></thead><tbody>\n",
       "                <tr>\n",
       "                        <th id=\"T_9d72b_level0_row0\" class=\"row_heading level0 row0\" >0</th>\n",
       "                        <td id=\"T_9d72b_row0_col0\" class=\"data row0 col0\" > </td>\n",
       "                        <td id=\"T_9d72b_row0_col1\" class=\"data row0 col1\" >Paper</td>\n",
       "                        <td id=\"T_9d72b_row0_col2\" class=\"data row0 col2\" >Simulacion Nueva</td>\n",
       "                        <td id=\"T_9d72b_row0_col3\" class=\"data row0 col3\" >Simulacion Vieja</td>\n",
       "                        <td id=\"T_9d72b_row0_col4\" class=\"data row0 col4\" >Paper</td>\n",
       "                        <td id=\"T_9d72b_row0_col5\" class=\"data row0 col5\" >Simulacion Nueva</td>\n",
       "                        <td id=\"T_9d72b_row0_col6\" class=\"data row0 col6\" >Simulacion Vieja</td>\n",
       "                        <td id=\"T_9d72b_row0_col7\" class=\"data row0 col7\" >Paper</td>\n",
       "                        <td id=\"T_9d72b_row0_col8\" class=\"data row0 col8\" >Simulacion Nueva</td>\n",
       "                        <td id=\"T_9d72b_row0_col9\" class=\"data row0 col9\" >Simulacion Vieja</td>\n",
       "            </tr>\n",
       "            <tr>\n",
       "                        <th id=\"T_9d72b_level0_row1\" class=\"row_heading level0 row1\" >1</th>\n",
       "                        <td id=\"T_9d72b_row1_col0\" class=\"data row1 col0\" >G0</td>\n",
       "                        <td id=\"T_9d72b_row1_col1\" class=\"data row1 col1\" >5.1</td>\n",
       "                        <td id=\"T_9d72b_row1_col2\" class=\"data row1 col2\" >4.945213</td>\n",
       "                        <td id=\"T_9d72b_row1_col3\" class=\"data row1 col3\" >5.2596087</td>\n",
       "                        <td id=\"T_9d72b_row1_col4\" class=\"data row1 col4\" >0.16</td>\n",
       "                        <td id=\"T_9d72b_row1_col5\" class=\"data row1 col5\" >0.09583917</td>\n",
       "                        <td id=\"T_9d72b_row1_col6\" class=\"data row1 col6\" >0.15998784</td>\n",
       "                        <td id=\"T_9d72b_row1_col7\" class=\"data row1 col7\" >0.06</td>\n",
       "                        <td id=\"T_9d72b_row1_col8\" class=\"data row1 col8\" >0.03166921</td>\n",
       "                        <td id=\"T_9d72b_row1_col9\" class=\"data row1 col9\" >0.05904151</td>\n",
       "            </tr>\n",
       "            <tr>\n",
       "                        <th id=\"T_9d72b_level0_row2\" class=\"row_heading level0 row2\" >2</th>\n",
       "                        <td id=\"T_9d72b_row2_col0\" class=\"data row2 col0\" >G1</td>\n",
       "                        <td id=\"T_9d72b_row2_col1\" class=\"data row2 col1\" >20</td>\n",
       "                        <td id=\"T_9d72b_row2_col2\" class=\"data row2 col2\" >19.687714</td>\n",
       "                        <td id=\"T_9d72b_row2_col3\" class=\"data row2 col3\" >20.703373</td>\n",
       "                        <td id=\"T_9d72b_row2_col4\" class=\"data row2 col4\" >0.7</td>\n",
       "                        <td id=\"T_9d72b_row2_col5\" class=\"data row2 col5\" >0.5118856</td>\n",
       "                        <td id=\"T_9d72b_row2_col6\" class=\"data row2 col6\" >0.7001043</td>\n",
       "                        <td id=\"T_9d72b_row2_col7\" class=\"data row2 col7\" >0.2</td>\n",
       "                        <td id=\"T_9d72b_row2_col8\" class=\"data row2 col8\" >0.1298404</td>\n",
       "                        <td id=\"T_9d72b_row2_col9\" class=\"data row2 col9\" >0.19088715</td>\n",
       "            </tr>\n",
       "            <tr>\n",
       "                        <th id=\"T_9d72b_level0_row3\" class=\"row_heading level0 row3\" >3</th>\n",
       "                        <td id=\"T_9d72b_row3_col0\" class=\"data row3 col0\" >G2</td>\n",
       "                        <td id=\"T_9d72b_row3_col1\" class=\"data row3 col1\" >51</td>\n",
       "                        <td id=\"T_9d72b_row3_col2\" class=\"data row3 col2\" >51.847923</td>\n",
       "                        <td id=\"T_9d72b_row3_col3\" class=\"data row3 col3\" ></td>\n",
       "                        <td id=\"T_9d72b_row3_col4\" class=\"data row3 col4\" >1.98</td>\n",
       "                        <td id=\"T_9d72b_row3_col5\" class=\"data row3 col5\" >1.5036049</td>\n",
       "                        <td id=\"T_9d72b_row3_col6\" class=\"data row3 col6\" ></td>\n",
       "                        <td id=\"T_9d72b_row3_col7\" class=\"data row3 col7\" >0.45</td>\n",
       "                        <td id=\"T_9d72b_row3_col8\" class=\"data row3 col8\" >0.30531904</td>\n",
       "                        <td id=\"T_9d72b_row3_col9\" class=\"data row3 col9\" ></td>\n",
       "            </tr>\n",
       "            <tr>\n",
       "                        <th id=\"T_9d72b_level0_row4\" class=\"row_heading level0 row4\" >4</th>\n",
       "                        <td id=\"T_9d72b_row4_col0\" class=\"data row4 col0\" >G3</td>\n",
       "                        <td id=\"T_9d72b_row4_col1\" class=\"data row4 col1\" >116</td>\n",
       "                        <td id=\"T_9d72b_row4_col2\" class=\"data row4 col2\" >116.65092</td>\n",
       "                        <td id=\"T_9d72b_row4_col3\" class=\"data row4 col3\" ></td>\n",
       "                        <td id=\"T_9d72b_row4_col4\" class=\"data row4 col4\" >6.22</td>\n",
       "                        <td id=\"T_9d72b_row4_col5\" class=\"data row4 col5\" >5.01604</td>\n",
       "                        <td id=\"T_9d72b_row4_col6\" class=\"data row4 col6\" ></td>\n",
       "                        <td id=\"T_9d72b_row4_col7\" class=\"data row4 col7\" >1.24</td>\n",
       "                        <td id=\"T_9d72b_row4_col8\" class=\"data row4 col8\" >0.7073581</td>\n",
       "                        <td id=\"T_9d72b_row4_col9\" class=\"data row4 col9\" ></td>\n",
       "            </tr>\n",
       "    </tbody></table>"
      ],
      "text/plain": [
       "<pandas.io.formats.style.Styler at 0x7f7908cd2f10>"
      ]
     },
     "execution_count": 53,
     "metadata": {},
     "output_type": "execute_result"
    }
   ],
   "source": [
    "data = pd.DataFrame({\"Galaxies\": [\" \",\"G0\", \"G1\", \"G2\", \"G3\"],\n",
    "                     \n",
    "                     '': ['Paper','5.1','20','51','116'],\n",
    "                     \n",
    "                     'Masa Total [$1x10^{10}$ $M_\\odot$]': ['Simulacion Nueva',masa_total_newg0,masa_total_newg1,\n",
    "                                                            masa_total_newg2,masa_total_newg3],\n",
    "                     \n",
    "                     ' ': ['Simulacion Vieja',masa_total_oldg0,masa_total_oldg1,'',''],\n",
    "                     \n",
    "                     '  ': ['Paper','0.16','0.7','1.98','6.22'],\n",
    "                     \n",
    "                     'Masa Barionica [$1x10^{10}$ $M_\\odot$]': ['Simulacion Nueva',masa_barionica_total_newg0,\n",
    "                                                                masa_barionica_total_newg1,masa_barionica_total_newg2,\n",
    "                                                                masa_barionica_total_newg3],\n",
    "                     \n",
    "                     '   ': ['Simulacion Vieja',masa_barionica_total_oldg0,masa_barionica_total_oldg1,'',''],\n",
    "                     \n",
    "                     '    ': ['Paper','0.06','0.2','0.45','1.24'],\n",
    "                     \n",
    "                     'Masa Gas [$1x10^{10}$ $M_\\odot$]': ['Simulacion Nueva',data_newg0.gas['mass'].sum(),\n",
    "                                                          data_newg1.gas['mass'].sum(),data_newg2.gas['mass'].sum(),\n",
    "                                                          data_newg3.gas['mass'].sum()],\n",
    "                     \n",
    "                     '     ': ['Simulacion Vieja',data_oldg0.gas['mass'].sum(),data_oldg1.gas['mass'].sum(),'',''],\n",
    "                    })\n",
    "data.style.set_properties(**{'text-align': 'center'})"
   ]
  },
  {
   "cell_type": "code",
   "execution_count": 57,
   "metadata": {},
   "outputs": [
    {
     "data": {
      "text/html": [
       "<div>\n",
       "<style scoped>\n",
       "    .dataframe tbody tr th:only-of-type {\n",
       "        vertical-align: middle;\n",
       "    }\n",
       "\n",
       "    .dataframe tbody tr th {\n",
       "        vertical-align: top;\n",
       "    }\n",
       "\n",
       "    .dataframe thead th {\n",
       "        text-align: right;\n",
       "    }\n",
       "</style>\n",
       "<table border=\"1\" class=\"dataframe\">\n",
       "  <thead>\n",
       "    <tr style=\"text-align: right;\">\n",
       "      <th></th>\n",
       "      <th>Galaxies</th>\n",
       "      <th></th>\n",
       "      <th>Masa Total [$1x10^{10}$ $M_\\odot$]</th>\n",
       "      <th></th>\n",
       "      <th></th>\n",
       "      <th>Masa Barionica [$1x10^{10}$ $M_\\odot$]</th>\n",
       "      <th></th>\n",
       "      <th></th>\n",
       "      <th>Masa Gas [$1x10^{10}$ $M_\\odot$]</th>\n",
       "      <th></th>\n",
       "    </tr>\n",
       "  </thead>\n",
       "  <tbody>\n",
       "    <tr>\n",
       "      <th>0</th>\n",
       "      <td></td>\n",
       "      <td>Paper</td>\n",
       "      <td>Simulacion Nueva</td>\n",
       "      <td>Simulacion Vieja</td>\n",
       "      <td>Paper</td>\n",
       "      <td>Simulacion Nueva</td>\n",
       "      <td>Simulacion Vieja</td>\n",
       "      <td>Paper</td>\n",
       "      <td>Simulacion Nueva</td>\n",
       "      <td>Simulacion Vieja</td>\n",
       "    </tr>\n",
       "    <tr>\n",
       "      <th>1</th>\n",
       "      <td>G0</td>\n",
       "      <td>5.1</td>\n",
       "      <td>4.945213</td>\n",
       "      <td>5.2596087</td>\n",
       "      <td>0.16</td>\n",
       "      <td>0.09583917</td>\n",
       "      <td>0.15998784</td>\n",
       "      <td>0.06</td>\n",
       "      <td>0.03166921</td>\n",
       "      <td>0.05904151</td>\n",
       "    </tr>\n",
       "    <tr>\n",
       "      <th>2</th>\n",
       "      <td>G1</td>\n",
       "      <td>20</td>\n",
       "      <td>19.687714</td>\n",
       "      <td>20.703373</td>\n",
       "      <td>0.7</td>\n",
       "      <td>0.5118856</td>\n",
       "      <td>0.7001043</td>\n",
       "      <td>0.2</td>\n",
       "      <td>0.1298404</td>\n",
       "      <td>0.19088715</td>\n",
       "    </tr>\n",
       "    <tr>\n",
       "      <th>3</th>\n",
       "      <td>G2</td>\n",
       "      <td>51</td>\n",
       "      <td>51.847923</td>\n",
       "      <td></td>\n",
       "      <td>1.98</td>\n",
       "      <td>1.5036049</td>\n",
       "      <td></td>\n",
       "      <td>0.45</td>\n",
       "      <td>0.30531904</td>\n",
       "      <td></td>\n",
       "    </tr>\n",
       "    <tr>\n",
       "      <th>4</th>\n",
       "      <td>G3</td>\n",
       "      <td>116</td>\n",
       "      <td>116.65092</td>\n",
       "      <td></td>\n",
       "      <td>6.22</td>\n",
       "      <td>5.01604</td>\n",
       "      <td></td>\n",
       "      <td>1.24</td>\n",
       "      <td>0.7073581</td>\n",
       "      <td></td>\n",
       "    </tr>\n",
       "  </tbody>\n",
       "</table>\n",
       "</div>"
      ],
      "text/plain": [
       "  Galaxies        Masa Total [$1x10^{10}$ $M_\\odot$]                           \\\n",
       "0           Paper                   Simulacion Nueva  Simulacion Vieja  Paper   \n",
       "1       G0    5.1                           4.945213         5.2596087   0.16   \n",
       "2       G1     20                          19.687714         20.703373    0.7   \n",
       "3       G2     51                          51.847923                     1.98   \n",
       "4       G3    116                          116.65092                     6.22   \n",
       "\n",
       "  Masa Barionica [$1x10^{10}$ $M_\\odot$]                           \\\n",
       "0                       Simulacion Nueva  Simulacion Vieja  Paper   \n",
       "1                             0.09583917        0.15998784   0.06   \n",
       "2                              0.5118856         0.7001043    0.2   \n",
       "3                              1.5036049                     0.45   \n",
       "4                                5.01604                     1.24   \n",
       "\n",
       "  Masa Gas [$1x10^{10}$ $M_\\odot$]                    \n",
       "0                 Simulacion Nueva  Simulacion Vieja  \n",
       "1                       0.03166921        0.05904151  \n",
       "2                        0.1298404        0.19088715  \n",
       "3                       0.30531904                    \n",
       "4                        0.7073581                    "
      ]
     },
     "execution_count": 57,
     "metadata": {},
     "output_type": "execute_result"
    }
   ],
   "source": []
  },
  {
   "cell_type": "code",
   "execution_count": null,
   "metadata": {},
   "outputs": [],
   "source": [
    "df = pd.read_excel('datos/2020_trim_1_Entidad_Aguascalientes.xls', header=[5, 6, 7], skipfooter=16, index_col=[0, 1, 2, 3])"
   ]
  },
  {
   "cell_type": "code",
   "execution_count": null,
   "metadata": {},
   "outputs": [],
   "source": [
    "\"Fuente\": {'Masa Total': [\"Valor Paper\", \"Simulacion Nueva\", \"Simulacion Vieja\"], \n",
    "                                'Masa Barionica': [\"Valor Paper\", \"Simulacion Nueva\", \"Simulacion Vieja\"], \n",
    "                                'Masa del Gas': [\"Valor Paper\", \"Simulacion Nueva\", \"Simulacion Vieja\"]},\n",
    "\n",
    "                   \"Valores\": {'G0': ['5.1 $\\cdot 10^{10}$',masa_total_new,masa_total_old, '$1.6 \\cdot 10^{9}$',masa_barionica_total_new,masa_barionica_total_old,'6.08 $\\cdot 10^{8}$', data_new.gas['mass'].sum(), data_old.gas['mass'].sum()],\n",
    "                               'G1': ['$2 \\cdot 10^{11}$ ',masa_total_new,masa_total_old,'$7 \\cdot 10^{9}$',masa_barionica_total_new,masa_barionica_total_old, ' 2.03 $\\cdot 10^{9}$ ',data_new.gas['mass'].sum(), data_old.gas['mass'].sum()],\n",
    "                               'G2': ['5.1 $\\cdot 10^{11}$',masa_total_new,'NaN','$1.98 \\cdot 10^{10}$',masa_barionica_total_new,'NaN','4.55 $\\cdot 10^{9}$',data_new.gas['mass'].sum(), 'NaN'],\n",
    "                               'G3': ['1.16 $\\cdot 10^{12}$',masa_total_new,'NaN','$6.22 \\cdot 10^{10}$',masa_barionica_total_new,'NaN','1.24 $\\cdot 10^{10}$',data_new.gas['mass'].sum(), 'NaN']}"
   ]
  },
  {
   "cell_type": "code",
   "execution_count": 45,
   "metadata": {},
   "outputs": [
    {
     "ename": "AttributeError",
     "evalue": "type object 'DataFrame' has no attribute 'headers'",
     "output_type": "error",
     "traceback": [
      "\u001b[0;31m---------------------------------------------------------------------------\u001b[0m",
      "\u001b[0;31mAttributeError\u001b[0m                            Traceback (most recent call last)",
      "\u001b[0;32m<ipython-input-45-7504bd952ef7>\u001b[0m in \u001b[0;36m<module>\u001b[0;34m\u001b[0m\n\u001b[0;32m----> 1\u001b[0;31m \u001b[0mhelp\u001b[0m\u001b[0;34m(\u001b[0m\u001b[0mpd\u001b[0m\u001b[0;34m.\u001b[0m\u001b[0mDataFrame\u001b[0m\u001b[0;34m.\u001b[0m\u001b[0mheaders\u001b[0m\u001b[0;34m)\u001b[0m\u001b[0;34m\u001b[0m\u001b[0;34m\u001b[0m\u001b[0m\n\u001b[0m",
      "\u001b[0;31mAttributeError\u001b[0m: type object 'DataFrame' has no attribute 'headers'"
     ]
    }
   ],
   "source": [
    "help(pd.DataFrame.headers)"
   ]
  },
  {
   "cell_type": "code",
   "execution_count": null,
   "metadata": {},
   "outputs": [],
   "source": []
  }
 ],
 "metadata": {
  "kernelspec": {
   "display_name": "Python 3",
   "language": "python",
   "name": "python3"
  },
  "language_info": {
   "codemirror_mode": {
    "name": "ipython",
    "version": 3
   },
   "file_extension": ".py",
   "mimetype": "text/x-python",
   "name": "python",
   "nbconvert_exporter": "python",
   "pygments_lexer": "ipython3",
   "version": "3.8.5"
  }
 },
 "nbformat": 4,
 "nbformat_minor": 4
}
