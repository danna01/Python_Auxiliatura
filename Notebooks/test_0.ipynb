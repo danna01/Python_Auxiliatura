{
 "cells": [
  {
   "cell_type": "markdown",
   "metadata": {
    "id": "LIpbdfEgSwkp"
   },
   "source": [
    "**Comparación de los modelos para la galaxia G0 - Momento 300**"
   ]
  },
  {
   "cell_type": "code",
   "execution_count": null,
   "metadata": {
    "id": "i059jbccPlHe"
   },
   "outputs": [],
   "source": [
    "#En primer lugar, importamos las librerias que vamos a necesitar a lo largo del ejercicio.\n",
    "import pynbody\n",
    "import matplotlib.pyplot as plt\n",
    "import numpy as np\n",
    "from scipy.optimize import curve_fit\n",
    "from scipy import optimize\n",
    "from astropy import units as unit\n",
    "import sys"
   ]
  },
  {
   "cell_type": "code",
   "execution_count": null,
   "metadata": {
    "id": "9scTklfRPlHy"
   },
   "outputs": [],
   "source": [
    "#Aca importamos los datos a utilizar para una de las galaxias, en este caso la propia.\n",
    "datadir = '/media/juan/Pesquisa/Simulations_Chris_2021'"
   ]
  },
  {
   "cell_type": "code",
   "execution_count": null,
   "metadata": {
    "id": "Ojb8hDXwPlH0"
   },
   "outputs": [],
   "source": [
    "#Aca importamos los otros datos de la otra galaxia, en este caso apoyandonos con la herramienta pynbody.\n",
    "data = pynbody.load(datadir+'/G0/snapshot_300.hdf5')"
   ]
  },
  {
   "cell_type": "code",
   "execution_count": null,
   "metadata": {
    "id": "1loLiAVjPlH_"
   },
   "outputs": [],
   "source": [
    "#En esta celda vamos a definir las funciones con las cuales se van a calcular los radios para el alcance de las\n",
    "#posiciones de las particulas de gas en primer lugar y de las estrellas: Para esto se saca la raiz cuadrada\n",
    "#de sus posiciones en X y en Y elevadas al cuadrado.\n",
    "def RGas(data):\n",
    "    Rg = np.sqrt(data.gas['pos'][:,0]**2 + data.gas['pos'][:,1]**2)\n",
    "    return Rg\n",
    "\n",
    "def RStar(data):\n",
    "    Rs = np.sqrt(data.star['pos'][:,0]**2 + data.star['pos'][:,1]**2)\n",
    "    return Rs\n",
    "#Aca nuevamente calculamos el radio pero en este caso de la materia oscura, en donde ademas consideraremos\n",
    "#la coordenada en el eje Z: Por ende determinaremos la raiz cuadrada de la suma de las componentes en X, Y y Z al cuadrado.\n",
    "def RDm(data):\n",
    "    Rdm = np.sqrt(data.dm['pos'][:,0]**2 + data.dm['pos'][:,1]**2 + data.dm['pos'][:,2]**2)\n",
    "    return Rdm"
   ]
  },
  {
   "cell_type": "code",
   "execution_count": null,
   "metadata": {
    "id": "14nSR2BQPlH3",
    "outputId": "37ce95ce-afdb-4f32-c82e-5b17b74e4951"
   },
   "outputs": [
    {
     "data": {
      "text/plain": [
       "(30000, 3)"
      ]
     },
     "execution_count": 23,
     "metadata": {
      "tags": []
     },
     "output_type": "execute_result"
    }
   ],
   "source": [
    "#Ya contando con la informacion, revisaremos los datos obtenidos con la galaxia que vamos a comparar;\n",
    "#comprobando los datos de materia oscura (dm) en posicion: Tiene 3 columnas por las posiciones X, Y y Z.\n",
    "data.dm['pos'].shape"
   ]
  },
  {
   "cell_type": "code",
   "execution_count": null,
   "metadata": {
    "id": "2U033ybDPlH6",
    "outputId": "5be35e06-d234-4a76-f370-e91c2bb71fc7"
   },
   "outputs": [
    {
     "data": {
      "text/plain": [
       "(2469, 3)"
      ]
     },
     "execution_count": 24,
     "metadata": {
      "tags": []
     },
     "output_type": "execute_result"
    }
   ],
   "source": [
    "#Repetimos el mismo proceso pero en este caso para los datos de las estrellas, en el momento considerado.\n",
    "data.star['pos'].shape"
   ]
  },
  {
   "cell_type": "code",
   "execution_count": null,
   "metadata": {
    "id": "ZF_332CdPlH7",
    "outputId": "27945967-15aa-492c-9d7f-3897a3bbfd90"
   },
   "outputs": [
    {
     "data": {
      "text/plain": [
       "SimArray([[ 5.2149028e-01,  3.6431393e-01,  3.1890549e-02],\n",
       "          [ 4.8034614e-01,  4.0029919e-01,  6.0718026e-02],\n",
       "          [ 4.6313250e-01,  4.5663929e-01,  6.8787217e-02],\n",
       "          ...,\n",
       "          [ 1.5477165e+00, -4.2120951e-01, -2.4294017e-02],\n",
       "          [ 1.6450659e+00, -4.4521946e-01, -2.2705153e-03],\n",
       "          [ 8.5714560e+00, -1.6295255e+00,  3.9686736e-01]], dtype=float32, 'Mpc a h**-1')"
      ]
     },
     "execution_count": 12,
     "metadata": {
      "tags": []
     },
     "output_type": "execute_result"
    }
   ],
   "source": [
    "#Del mismo modo, tambien es posible observar los valores de los datos de posiciones para el gas,\n",
    "#Pero en este caso estamos observando cada una de las posiciones\n",
    "#NOTA: La configuracion asumida para las unidades NO es correcto (Mpc); dado que se esta asumiendo la misma\n",
    "#configuracion de la galaxia modelada inicialmente.\n",
    "data.gas['pos']"
   ]
  },
  {
   "cell_type": "code",
   "execution_count": null,
   "metadata": {
    "id": "9p8P7l0jPlH8",
    "outputId": "869b4ce5-9467-48c4-9707-82235829cc0b"
   },
   "outputs": [
    {
     "data": {
      "text/plain": [
       "SimArray(4.849374, dtype=float32, '1.00e+10 Msol h**-1')"
      ]
     },
     "execution_count": 26,
     "metadata": {
      "tags": []
     },
     "output_type": "execute_result"
    }
   ],
   "source": [
    "#Por otro lado, tambien es posible hacer sumatorias de la masa total, en este caso de la materia oscura\n",
    "data.dm['mass'].sum()"
   ]
  },
  {
   "cell_type": "code",
   "execution_count": null,
   "metadata": {
    "id": "d3fpwgSLPlH9",
    "outputId": "db9e6951-5376-4ffe-d231-d9e78aaae236"
   },
   "outputs": [
    {
     "data": {
      "text/plain": [
       "(-20.0, 20.0)"
      ]
     },
     "execution_count": 29,
     "metadata": {
      "tags": []
     },
     "output_type": "execute_result"
    },
    {
     "data": {
      "image/png": "[encoded data removed]",
      "text/plain": [
       "<Figure size 288x288 with 1 Axes>"
      ]
     },
     "metadata": {
      "needs_background": "light",
      "tags": []
     },
     "output_type": "display_data"
    }
   ],
   "source": [
    "#En la siguiente imagen, se han sintetizado los datos de las posiciones de las particulas de gas\n",
    "#En la simulacion, en donde se arreglo la forma para que quedara de manera cuadrada la grafica:\n",
    "plt.figure(figsize=(4,4))\n",
    "#Se plotearon en el eje x las posiciones en el eje X (0) y en el eje Y las posiciones en el eje (Y)\n",
    "#'.b' : Puntos azules \n",
    "plt.plot(data.gas['pos'][:,0],data.gas['pos'][:,1],'.b')\n",
    "#Los limites han sido modificados para que dentro del plot queden unicamente los datos relevantes\n",
    "#Se han excluido los datos que se desviaban de la tendencia general\n",
    "plt.xlim(-20,20)\n",
    "plt.ylim(-20,20)\n",
    "#Dado que el centro de la galaxia parece coincidir con el centro del eje coordenado no se hizo necesaria una modificacion adicional."
   ]
  },
  {
   "cell_type": "code",
   "execution_count": null,
   "metadata": {
    "id": "qHK5xfQmPlH-",
    "outputId": "cc2aa0e3-c3d3-4973-de8b-825d798515eb"
   },
   "outputs": [
    {
     "data": {
      "text/plain": [
       "(-20.0, 20.0)"
      ]
     },
     "execution_count": 30,
     "metadata": {
      "tags": []
     },
     "output_type": "execute_result"
    },
    {
     "data": {
      "image/png": "[encoded data removed]",
      "text/plain": [
       "<Figure size 288x288 with 1 Axes>"
      ]
     },
     "metadata": {
      "needs_background": "light",
      "tags": []
     },
     "output_type": "display_data"
    }
   ],
   "source": [
    "#Nuevamente realizamos una grafica con los datos de posiciones del gas pero en este caso\n",
    "#Con los valores de X en en el eje X y Z en el eje Y; obteniendo una vista desde una perspectiva\n",
    "#diferente a la anterior, obteniendo una especie de elipse\n",
    "#De nuevo, se modifico la forma del grafico para dar una apariencia cuadrada.\n",
    "plt.figure(figsize=(4,4))\n",
    "#Se seleccionaron los datos de los ejes; y se establecen puntos verdes.\n",
    "plt.plot(data.gas['pos'][:,0],data.gas['pos'][:,2],'.g')\n",
    "#Los limites definidos bajo el mismo criterio anterior.\n",
    "plt.xlim(-20,20)\n",
    "plt.ylim(-20,20)"
   ]
  },
  {
   "cell_type": "code",
   "execution_count": null,
   "metadata": {
    "id": "upjeeNgRPlIA"
   },
   "outputs": [],
   "source": [
    "#Con las funciones que se definieron en un principio, tenemos el valor del radio de las posiciones de las \n",
    "#particulas de gas.\n",
    "radio_gas = RGas(data)"
   ]
  },
  {
   "cell_type": "code",
   "execution_count": null,
   "metadata": {
    "id": "8-nXnLQ1PlIE",
    "outputId": "abab1f79-2ff1-4a09-c664-19e6cb94897a"
   },
   "outputs": [
    {
     "data": {
      "image/png": "[encoded data removed]",
      "text/plain": [
       "<Figure size 432x288 with 1 Axes>"
      ]
     },
     "metadata": {
      "needs_background": "light",
      "tags": []
     },
     "output_type": "display_data"
    }
   ],
   "source": [
    "#Realizamos el histograma con la informacion del radio del gas, limitando aun más el rango de los valores\n",
    "#esto porque nuevamente, existen dados demasiado desviados de la mayoria de la informacion que poco interesan\n",
    "#bins hace referencia al numero de barras (?)\n",
    "kk = plt.hist(radio_gas,range =(0,12),bins=20)"
   ]
  },
  {
   "cell_type": "code",
   "execution_count": null,
   "metadata": {
    "id": "RKi886e-PlIH",
    "outputId": "57652eb6-6822-4f84-9e7b-8f8d6ba1d3f6"
   },
   "outputs": [
    {
     "data": {
      "text/plain": [
       "array([ 289.,  672.,  801., 1038.,  989.,  836.,  648.,  484.,  310.,\n",
       "        211.,  159.,   96.,   64.,   36.,   22.,   18.,   28.,    9.,\n",
       "          8.,   10.])"
      ]
     },
     "execution_count": 43,
     "metadata": {
      "tags": []
     },
     "output_type": "execute_result"
    }
   ],
   "source": [
    "#Aca podemos observar los valores que se ubican en el eje Y obtenidos para el histograma anterior.\n",
    "type(kk)\n",
    "#Esta linea len() expresa el numero de items en una lista\n",
    "len(kk)\n",
    "kk[0]"
   ]
  },
  {
   "cell_type": "code",
   "execution_count": null,
   "metadata": {
    "id": "N8pZgEYsPlII",
    "outputId": "d57a5357-6695-4ad7-cb9b-20dcb7efe785"
   },
   "outputs": [
    {
     "data": {
      "text/plain": [
       "array([ 0. ,  0.6,  1.2,  1.8,  2.4,  3. ,  3.6,  4.2,  4.8,  5.4,  6. ,\n",
       "        6.6,  7.2,  7.8,  8.4,  9. ,  9.6, 10.2, 10.8, 11.4, 12. ],\n",
       "      dtype=float32)"
      ]
     },
     "execution_count": 44,
     "metadata": {
      "tags": []
     },
     "output_type": "execute_result"
    }
   ],
   "source": [
    "#Aca obtenemos los datos del histograma pero en el eje X, en donde se dan las divisiones de las barras del histograma.\n",
    "kk[1]"
   ]
  },
  {
   "cell_type": "code",
   "execution_count": null,
   "metadata": {
    "id": "IgYyWVdWPlIJ"
   },
   "outputs": [],
   "source": [
    "#En esta celda se calcula la densidad de la superficie radial del disco\n",
    "# Radial surface density of the disk\n",
    "#Definimos la funcion de densidad en donde:\n",
    "def density(pos,mass,n,limits):\n",
    "    r       = np.sqrt((pos[:,:2]**2).sum(axis=1)) # Radio en donde consideramos unicamente las posiciones en X y Y\n",
    "    histo   = np.histogram(r,n,range=limits) #Histograma en base a los datos de radio y el numero de casillas\n",
    "    #o rectangulos que tenemos en el histograma, con el rango en el limite que definimos anteriormente para no \n",
    "    #tomar datos que no nos interesan\n",
    "    bins     = (histo[1][:-1]+histo[1][1:])/2 #calculo de un punto promedio en medio de los rectangulos del histograma\n",
    "    #para el cual, sumamos los valores limites del rectangulo y los dividimos en dos\n",
    "    bn_mass = np.zeros(n) \n",
    "    #Aca hallamos el valor de la masa contenido en cada uno de los rectangulos del histograma, haciendo una sumatoria\n",
    "    #de la masa que se obtiene en cada uno de los rectagulos considerados, en donde las condiciones se cumplan \n",
    "    #consideramos radios que se encuentren entre el valor minimo y maximo, que definiran los limites de los histogramas\n",
    "    #se multiplican como condicional (Verdadero (1) o Falso (0))\n",
    "    for i in range(n):\n",
    "            bn_mass[i]      = mass[(r >= histo[1][i])*(histo[1][i+1] > r)].sum()\n",
    "    #Calculamos la funcion de densidad superficial dividiendo la masa por el area de la circunferencia considerada \n",
    "    #con el radio promedio\n",
    "    dens    = bn_mass/(np.pi)/((histo[1][1:])**2-(histo[1][:-1])**2)\n",
    "    return histo,bins,dens"
   ]
  },
  {
   "cell_type": "code",
   "execution_count": null,
   "metadata": {
    "id": "3C47sG_GPlIK"
   },
   "outputs": [],
   "source": [
    "#Definimos los valores que vamos a tomar en la funcion que acabamos de generar, para esto\n",
    "#proporcionamos datos de posicion, de masa, # de rectangulos y los limites a considerar (basados en los datos relevantes)\n",
    "histo,bins,dens = density(data.gas['pos'],data.gas['mass'],20,limits=(0,12))"
   ]
  },
  {
   "cell_type": "code",
   "execution_count": null,
   "metadata": {
    "id": "EaNIMgNUPlIK",
    "outputId": "9e095e01-e641-4d4c-d2ff-f3ad3720ef46"
   },
   "outputs": [
    {
     "data": {
      "text/plain": [
       "[<matplotlib.lines.Line2D at 0x7f84f6544fa0>]"
      ]
     },
     "execution_count": 49,
     "metadata": {
      "tags": []
     },
     "output_type": "execute_result"
    },
    {
     "data": {
      "image/png": "[encoded data removed]",
      "text/plain": [
       "<Figure size 432x288 with 1 Axes>"
      ]
     },
     "metadata": {
      "needs_background": "light",
      "tags": []
     },
     "output_type": "display_data"
    }
   ],
   "source": [
    "#Realizamos un plot en donde correlacionamos los datos de bins y de dens y se observa una relacion\n",
    "#Exponencial entre los mismos (X=bins; Y=dens)\n",
    "plt.plot(bins,dens,\"og-\")"
   ]
  },
  {
   "cell_type": "code",
   "execution_count": null,
   "metadata": {
    "id": "-V6TbHIGPlIL",
    "outputId": "0568bb58-efbd-44b1-8a31-525449f50464"
   },
   "outputs": [
    {
     "data": {
      "text/plain": [
       "[<matplotlib.lines.Line2D at 0x7f84f5a455b0>]"
      ]
     },
     "execution_count": 50,
     "metadata": {
      "tags": []
     },
     "output_type": "execute_result"
    },
    {
     "data": {
      "image/png": "[encoded data removed]",
      "text/plain": [
       "<Figure size 432x288 with 1 Axes>"
      ]
     },
     "metadata": {
      "needs_background": "light",
      "tags": []
     },
     "output_type": "display_data"
    }
   ],
   "source": [
    "#Como es preferible estudiar los datos a modo de logaritmo, los datos se han transformado a un grafico\n",
    "#logaritmico.\n",
    "plt.semilogy(bins,dens,\"og-\")"
   ]
  }
 ],
 "metadata": {
  "colab": {
   "name": "Test_0.ipynb",
   "provenance": []
  },
  "kernelspec": {
   "display_name": "Python 3",
   "language": "python",
   "name": "python3"
  },
  "language_info": {
   "codemirror_mode": {
    "name": "ipython",
    "version": 3
   },
   "file_extension": ".py",
   "mimetype": "text/x-python",
   "name": "python",
   "nbconvert_exporter": "python",
   "pygments_lexer": "ipython3",
   "version": "3.8.5"
  }
 },
 "nbformat": 4,
 "nbformat_minor": 1
}
