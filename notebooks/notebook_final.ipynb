{
 "cells": [
  {
   "cell_type": "code",
   "execution_count": 1,
   "metadata": {},
   "outputs": [],
   "source": [
    "#importamos las herramientas necesarias\n",
    "import pynbody\n",
    "import matplotlib.pyplot as plt\n",
    "import numpy as np\n",
    "from scipy.optimize import curve_fit\n",
    "from scipy import optimize\n",
    "import scipy.stats\n",
    "from astropy import units as unit\n",
    "import sys\n",
    "from matplotlib.animation import FuncAnimation\n",
    "import notebook_final_func as nfunc"
   ]
  },
  {
   "cell_type": "code",
   "execution_count": 2,
   "metadata": {},
   "outputs": [],
   "source": [
    "#importamos los datos\n",
    "data_nuevo = '/media/danna01/Disk/SNAPSHOTS/Galaxias_Nuevas'\n",
    "data_viejo = '/media/danna01/Disk/SNAPSHOTS/Galaxias_Viejas'\n",
    "#datadir = '/media/juan/Pesquisa/Simulations_Chris_2021'"
   ]
  },
  {
   "cell_type": "code",
   "execution_count": 3,
   "metadata": {},
   "outputs": [],
   "source": [
    "# Estos son los diccionarios que definen los limites que seran utilizados para los plots de las galaxias para los\n",
    "# calculos de densidad de materia oscura y la masa acumulada a diferentes radios para la amteria oscura tambien\n",
    "dicti = {}\n",
    "galaxies = ['G0', 'G1']\n",
    "# Estos son los limites para graficar la masa acumulada y la densidad; sus valores corresponden a 10 veces el valor\n",
    "# del scale - lenght de cada galaxia.\n",
    "limites_materia_oscura = {'G0':(0,55), 'G1':(0,75)} #kpc\n",
    "# Aca observamos los limites que se usaran para calcular el valor de 'h' que nos indicara que tan bueno es el ajuste\n",
    "# limites --> De que dependen?"
   ]
  },
  {
   "cell_type": "markdown",
   "metadata": {},
   "source": [
    "### Funciones"
   ]
  },
  {
   "cell_type": "markdown",
   "metadata": {},
   "source": [
    "*Las funciones fueron definidas previamente y esta es la lista de funciones de la seccion.*\n",
    "\n",
    "*En caso de que desee entender mas sobre la funcion por favor utilizar la herramienta de help o dirigirse al documento notebook_final_func.py*\n",
    "\n",
    " 1) nfunc.accumulated_mass\n",
    " \n",
    " 2) nfunc.plot_mass"
   ]
  },
  {
   "cell_type": "code",
   "execution_count": 9,
   "metadata": {},
   "outputs": [
    {
     "name": "stderr",
     "output_type": "stream",
     "text": [
      "/home/danna01/.local/lib/python3.8/site-packages/pynbody/snapshot/gadgethdf.py:508: RuntimeWarning: No unit information found!\n",
      "  warnings.warn(\"No unit information found!\", RuntimeWarning)\n",
      "/home/danna01/.local/lib/python3.8/site-packages/pynbody/snapshot/gadgethdf.py:572: RuntimeWarning: No unit information found: using gadget-units.\n",
      "  warnings.warn(\n",
      "/home/danna01/.local/lib/python3.8/site-packages/pynbody/snapshot/gadgethdf.py:508: RuntimeWarning: No unit information found!\n",
      "  warnings.warn(\"No unit information found!\", RuntimeWarning)\n",
      "/home/danna01/.local/lib/python3.8/site-packages/pynbody/snapshot/gadgethdf.py:572: RuntimeWarning: No unit information found: using gadget-units.\n",
      "  warnings.warn(\n",
      "/home/danna01/.local/lib/python3.8/site-packages/pynbody/snapshot/gadgethdf.py:508: RuntimeWarning: No unit information found!\n",
      "  warnings.warn(\"No unit information found!\", RuntimeWarning)\n",
      "/home/danna01/.local/lib/python3.8/site-packages/pynbody/snapshot/gadgethdf.py:572: RuntimeWarning: No unit information found: using gadget-units.\n",
      "  warnings.warn(\n",
      "/home/danna01/.local/lib/python3.8/site-packages/pynbody/snapshot/gadgethdf.py:508: RuntimeWarning: No unit information found!\n",
      "  warnings.warn(\"No unit information found!\", RuntimeWarning)\n",
      "/home/danna01/.local/lib/python3.8/site-packages/pynbody/snapshot/gadgethdf.py:572: RuntimeWarning: No unit information found: using gadget-units.\n",
      "  warnings.warn(\n",
      "/home/danna01/.local/lib/python3.8/site-packages/pynbody/snapshot/gadgethdf.py:508: RuntimeWarning: No unit information found!\n",
      "  warnings.warn(\"No unit information found!\", RuntimeWarning)\n",
      "/home/danna01/.local/lib/python3.8/site-packages/pynbody/snapshot/gadgethdf.py:572: RuntimeWarning: No unit information found: using gadget-units.\n",
      "  warnings.warn(\n",
      "/home/danna01/.local/lib/python3.8/site-packages/pynbody/snapshot/gadgethdf.py:508: RuntimeWarning: No unit information found!\n",
      "  warnings.warn(\"No unit information found!\", RuntimeWarning)\n",
      "/home/danna01/.local/lib/python3.8/site-packages/pynbody/snapshot/gadgethdf.py:572: RuntimeWarning: No unit information found: using gadget-units.\n",
      "  warnings.warn(\n",
      "/home/danna01/.local/lib/python3.8/site-packages/pynbody/snapshot/gadgethdf.py:508: RuntimeWarning: No unit information found!\n",
      "  warnings.warn(\"No unit information found!\", RuntimeWarning)\n",
      "/home/danna01/.local/lib/python3.8/site-packages/pynbody/snapshot/gadgethdf.py:572: RuntimeWarning: No unit information found: using gadget-units.\n",
      "  warnings.warn(\n",
      "/home/danna01/.local/lib/python3.8/site-packages/pynbody/snapshot/gadgethdf.py:508: RuntimeWarning: No unit information found!\n",
      "  warnings.warn(\"No unit information found!\", RuntimeWarning)\n",
      "/home/danna01/.local/lib/python3.8/site-packages/pynbody/snapshot/gadgethdf.py:572: RuntimeWarning: No unit information found: using gadget-units.\n",
      "  warnings.warn(\n"
     ]
    }
   ],
   "source": [
    "for gal in galaxies:\n",
    "    nfunc.plot_mass('plots_importantes/materia_oscura_acumulada.jpg')"
   ]
  }
 ],
 "metadata": {
  "kernelspec": {
   "display_name": "Python 3",
   "language": "python",
   "name": "python3"
  },
  "language_info": {
   "codemirror_mode": {
    "name": "ipython",
    "version": 3
   },
   "file_extension": ".py",
   "mimetype": "text/x-python",
   "name": "python",
   "nbconvert_exporter": "python",
   "pygments_lexer": "ipython3",
   "version": "3.8.5"
  }
 },
 "nbformat": 4,
 "nbformat_minor": 4
}
