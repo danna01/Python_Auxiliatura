{
 "cells": [
  {
   "cell_type": "code",
   "execution_count": 7,
   "metadata": {},
   "outputs": [],
   "source": [
    "#importamos las herramientas necesarias\n",
    "import pynbody\n",
    "import matplotlib.pyplot as plt\n",
    "import numpy as np\n",
    "from scipy.optimize import curve_fit\n",
    "from scipy import optimize\n",
    "import scipy.stats\n",
    "from astropy import units as unit\n",
    "import sys\n",
    "from matplotlib.animation import FuncAnimation\n",
    "import notebook_final_func as nfunc"
   ]
  },
  {
   "cell_type": "code",
   "execution_count": 20,
   "metadata": {},
   "outputs": [],
   "source": [
    "#importamos los datos\n",
    "data_nuevo = '/media/danna01/Disk/SNAPSHOTS/Galaxias_Nuevas'\n",
    "data_viejo = '/media/danna01/Disk/SNAPSHOTS/Galaxias_Viejas'\n",
    "#datadir = '/media/juan/Pesquisa/Simulations_Chris_2021'"
   ]
  },
  {
   "cell_type": "code",
   "execution_count": 41,
   "metadata": {},
   "outputs": [],
   "source": [
    "# Estos son los diccionarios que definen los limites que seran utilizados para los plots de las galaxias para los\n",
    "# calculos de densidad de materia oscura y la masa acumulada a diferentes radios para la amteria oscura tambien\n",
    "dicti = {}\n",
    "gal = ['G0', 'G1']\n",
    "# Estos son los limites para graficar la masa acumulada y la densidad; sus valores corresponden a 10 veces el valor\n",
    "# del scale - lenght de cada galaxia.\n",
    "limites_materia_oscura = {'G0':(0,55), 'G1':(0,75)} #kpc\n",
    "# Aca observamos los limites que se usaran para calcular el valor de 'h' que nos indicara que tan bueno es el ajuste\n",
    "# limites --> De que dependen?"
   ]
  },
  {
   "cell_type": "code",
   "execution_count": 3,
   "metadata": {},
   "outputs": [],
   "source": [
    "def accumulated_mass(pos,mass,n,limits):\n",
    "    \n",
    "    r = np.sqrt((pos**2).sum(axis=1))\n",
    "    \n",
    "    histo_acum = scipy.stats.cumfreq(r, n, limits, weights=mass)\n",
    "   \n",
    "    positions = histo_acum[1]+ np.arange(1,n+1) * histo_acum[2]\n",
    "    \n",
    "    return positions, histo_acum[0]"
   ]
  },
  {
   "cell_type": "code",
   "execution_count": null,
   "metadata": {},
   "outputs": [],
   "source": [
    "def plot_mass_dm(filename):\n",
    "    fig = plt.figure(figsize=(10, 7))\n",
    "    "
   ]
  },
  {
   "cell_type": "code",
   "execution_count": 42,
   "metadata": {},
   "outputs": [],
   "source": [
    "def plot_mass(filename):\n",
    "    \n",
    "    fig = plt.figure(figsize=(10, 7))\n",
    "    \n",
    "    data_viejo_ruta_G0 = pynbody.load(data_viejo+'/G0/snapshot_100.hdf5')\n",
    "    binsold1G0, massold1G0 = accumulated_mass(data_viejo_ruta_G0.dm['pos'],data_viejo_ruta_G0.dm['mass'],\n",
    "                       n=int(limites_materia_oscura[gal][1]*4),limits=limites_materia_oscura[gal])\n",
    "    plt.plot(binsold1G0,massold1G0,'-k',label= 'Old Galaxies G0/100')\n",
    "    \n",
    "    data_nuevo_ruta_G0 = pynbody.load(data_nuevo+'/G0/snapshot_100.hdf5')\n",
    "    binsnew2G0, massnew2G0 = accumulated_mass(data_nuevo_ruta_G0.dm['pos'],data_nuevo_ruta_G0.dm['mass'],\n",
    "                       n=int(limites_materia_oscura[gal][1]*4),limits=limites_materia_oscura[gal])\n",
    "    plt.plot(binsnew2G0,massnew2G0,'-k',label= 'New Galaxies G0/100')\n",
    "    \n",
    "    data_viejo_ruta_G1 = pynbody.load(data_viejo+'/G1/snapshot_100.hdf5')\n",
    "    binsold1G1, massold1G1 = accumulated_mass(data_viejo_ruta_G1.dm['pos'],data_viejo_ruta_G1.dm['mass'],\n",
    "                            n=int(limites_materia_oscura[gal][1]*4),limits=limites_materia_oscura[gal])\n",
    "    plt.plot(binsold1G1,massold1G1,'-k',label= 'Old Galaxies G1/100')\n",
    "    \n",
    "    data_nuevo_ruta_G1 = pynbody.load(data_nuevo+'/G1/snapshot_100.hdf5')\n",
    "    binsnew2G1, massnew2G1 = accumulated_mass(data_nuevo_ruta_G1.dm['pos'],data_nuevo_ruta_G1.dm['mass'],\n",
    "                            n=int(limites_materia_oscura[gal][1]*4),limits=limites_materia_oscura[gal]) \n",
    "    plt.plot(binsnew2G1,massnew2G1,'-k',label= 'New Galaxies G1/100')\n",
    "    \n",
    "    plt.title('Masa acumulada de la Materia Oscura', fontsize= 20)\n",
    "    plt.xlabel('Radio [Kpc]',fontsize=18)\n",
    "    plt.ylabel('Masa Acumulada (10$^{10}$ $M_\\odot$)',fontsize=18)\n",
    "    plt.legend()\n",
    "    plt.grid()\n",
    "    plt.savefig(filename)\n",
    "    plt.clf()\n",
    "    plt.close()"
   ]
  },
  {
   "cell_type": "code",
   "execution_count": 43,
   "metadata": {},
   "outputs": [
    {
     "ename": "TypeError",
     "evalue": "unhashable type: 'list'",
     "output_type": "error",
     "traceback": [
      "\u001b[0;31m---------------------------------------------------------------------------\u001b[0m",
      "\u001b[0;31mTypeError\u001b[0m                                 Traceback (most recent call last)",
      "\u001b[0;32m<ipython-input-43-a4be72b33c22>\u001b[0m in \u001b[0;36m<module>\u001b[0;34m\u001b[0m\n\u001b[0;32m----> 1\u001b[0;31m \u001b[0mplot_mass\u001b[0m\u001b[0;34m(\u001b[0m\u001b[0;34m'prueba/prueba.jpg'\u001b[0m\u001b[0;34m)\u001b[0m\u001b[0;34m\u001b[0m\u001b[0;34m\u001b[0m\u001b[0m\n\u001b[0m",
      "\u001b[0;32m<ipython-input-42-dc14a740a235>\u001b[0m in \u001b[0;36mplot_mass\u001b[0;34m(filename)\u001b[0m\n\u001b[1;32m      5\u001b[0m     \u001b[0mdata_viejo_ruta_G0\u001b[0m \u001b[0;34m=\u001b[0m \u001b[0mpynbody\u001b[0m\u001b[0;34m.\u001b[0m\u001b[0mload\u001b[0m\u001b[0;34m(\u001b[0m\u001b[0mdata_viejo\u001b[0m\u001b[0;34m+\u001b[0m\u001b[0;34m'/G0/snapshot_100.hdf5'\u001b[0m\u001b[0;34m)\u001b[0m\u001b[0;34m\u001b[0m\u001b[0;34m\u001b[0m\u001b[0m\n\u001b[1;32m      6\u001b[0m     binsold1G0, massold1G0 = accumulated_mass(data_viejo_ruta_G0.dm['pos'],data_viejo_ruta_G0.dm['mass'],\n\u001b[0;32m----> 7\u001b[0;31m                        n=int(limites_materia_oscura[gal][1]*4),limits=limites_materia_oscura[gal])\n\u001b[0m\u001b[1;32m      8\u001b[0m     \u001b[0mplt\u001b[0m\u001b[0;34m.\u001b[0m\u001b[0mplot\u001b[0m\u001b[0;34m(\u001b[0m\u001b[0mbinsold1G0\u001b[0m\u001b[0;34m,\u001b[0m\u001b[0mmassold1G0\u001b[0m\u001b[0;34m,\u001b[0m\u001b[0;34m'-k'\u001b[0m\u001b[0;34m,\u001b[0m\u001b[0mlabel\u001b[0m\u001b[0;34m=\u001b[0m \u001b[0;34m'Old Galaxies G0/100'\u001b[0m\u001b[0;34m)\u001b[0m\u001b[0;34m\u001b[0m\u001b[0;34m\u001b[0m\u001b[0m\n\u001b[1;32m      9\u001b[0m \u001b[0;34m\u001b[0m\u001b[0m\n",
      "\u001b[0;31mTypeError\u001b[0m: unhashable type: 'list'"
     ]
    },
    {
     "data": {
      "text/plain": [
       "<Figure size 720x504 with 0 Axes>"
      ]
     },
     "metadata": {},
     "output_type": "display_data"
    }
   ],
   "source": [
    "plot_mass('prueba/prueba.jpg')"
   ]
  },
  {
   "cell_type": "code",
   "execution_count": null,
   "metadata": {},
   "outputs": [],
   "source": [
    "def plot_mass(binsnewg0,massnewg0,binsoldg0,massoldg0,binsnewg1,massnewg1,binsoldg1,massoldg1,filename):\n",
    "    \n",
    "    fig = plt.figure(figsize=(10, 7))\n",
    "    \n",
    "    plt.plot(binsnewg0,massnewg0,'-',color='red',label= 'New Galaxies G0/'+snap)\n",
    "    plt.plot(binsoldg0,massoldg0,'-',color='blue',label= 'Old Galaxies G0/'+snap)\n",
    "    plt.plot(binsnewg1,massnewg1,'-',color='green',label= 'New Galaxies G1/'+snap)\n",
    "    plt.plot(binsoldg1,massoldg1,'-', color='black', label= 'Old Galaxies G1/'+snap)\n",
    "    \n",
    "    plt.title('Masa acumulada de la Materia Oscura', fontsize= 18)\n",
    "    plt.xlabel('Radio [Kpc]',fontsize=20)\n",
    "    plt.ylabel('Masa Acumulada ($1x10^{10}$ $M_\\odot$)',fontsize=20)\n",
    "    plt.text(60, 0, '$h_\\star$ G0=1.1', fontsize=15, color='black')\n",
    "    plt.text(60, 1, '$h_\\star$ G1=1.5', fontsize=15, color='black')\n",
    "    plt.legend()\n",
    "    plt.grid()\n",
    "    plt.savefig(filename)\n",
    "    plt.clf()\n",
    "    plt.close()"
   ]
  },
  {
   "cell_type": "code",
   "execution_count": null,
   "metadata": {},
   "outputs": [],
   "source": []
  }
 ],
 "metadata": {
  "kernelspec": {
   "display_name": "Python 3",
   "language": "python",
   "name": "python3"
  },
  "language_info": {
   "codemirror_mode": {
    "name": "ipython",
    "version": 3
   },
   "file_extension": ".py",
   "mimetype": "text/x-python",
   "name": "python",
   "nbconvert_exporter": "python",
   "pygments_lexer": "ipython3",
   "version": "3.8.5"
  }
 },
 "nbformat": 4,
 "nbformat_minor": 4
}
