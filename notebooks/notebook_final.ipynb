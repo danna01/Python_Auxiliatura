{
 "cells": [
  {
   "cell_type": "code",
   "execution_count": 1,
   "metadata": {},
   "outputs": [],
   "source": [
    "#importamos las herramientas necesarias\n",
    "import pynbody\n",
    "import matplotlib.pyplot as plt\n",
    "import numpy as np\n",
    "from scipy.optimize import curve_fit\n",
    "from scipy import optimize\n",
    "import scipy.stats\n",
    "from astropy import units as unit\n",
    "import sys\n",
    "from matplotlib.animation import FuncAnimation\n",
    "import notebook_final_func as nfunc"
   ]
  },
  {
   "cell_type": "code",
   "execution_count": 12,
   "metadata": {},
   "outputs": [],
   "source": [
    "#importamos los datos\n",
    "data_nuevo = '/media/danna01/Disk/SNAPSHOTS/Galaxias_Nuevas'\n",
    "data_viejo = '/media/danna01/Disk/SNAPSHOTS/Galaxias_Viejas'\n",
    "#datadir = '/media/juan/Pesquisa/Simulations_Chris_2021'"
   ]
  },
  {
   "cell_type": "code",
   "execution_count": 13,
   "metadata": {},
   "outputs": [],
   "source": [
    "# Estos son los diccionarios que definen los limites que seran utilizados para los plots de las galaxias para los\n",
    "# calculos de densidad de materia oscura y la masa acumulada a diferentes radios para la amteria oscura tambien\n",
    "dicti = {}\n",
    "galaxies = ['G0', 'G1']\n",
    "# Estos son los limites para graficar la masa acumulada y la densidad; sus valores corresponden a 10 veces el valor\n",
    "# del scale - lenght de cada galaxia.\n",
    "limites_materia_oscura = {'G0':(0,55), 'G1':(0,75), 'G2':(0,95), 'G3':(0,140)} #kpc\n",
    "# Aca observamos los limites que se usaran para calcular el valor de 'h' que nos indicara que tan bueno es el ajuste\n",
    "# limites --> De que dependen?"
   ]
  },
  {
   "cell_type": "code",
   "execution_count": 33,
   "metadata": {},
   "outputs": [
    {
     "name": "stderr",
     "output_type": "stream",
     "text": [
      "/home/danna01/.local/lib/python3.8/site-packages/pynbody/snapshot/gadgethdf.py:508: RuntimeWarning: No unit information found!\n",
      "  warnings.warn(\"No unit information found!\", RuntimeWarning)\n",
      "/home/danna01/.local/lib/python3.8/site-packages/pynbody/snapshot/gadgethdf.py:572: RuntimeWarning: No unit information found: using gadget-units.\n",
      "  warnings.warn(\n",
      "/home/danna01/.local/lib/python3.8/site-packages/pynbody/snapshot/gadgethdf.py:508: RuntimeWarning: No unit information found!\n",
      "  warnings.warn(\"No unit information found!\", RuntimeWarning)\n",
      "/home/danna01/.local/lib/python3.8/site-packages/pynbody/snapshot/gadgethdf.py:572: RuntimeWarning: No unit information found: using gadget-units.\n",
      "  warnings.warn(\n"
     ]
    }
   ],
   "source": [
    "# Generacion de plots.\n",
    "minsnap = 100\n",
    "maxsnap = 300\n",
    "stepsnap = 200\n",
    "\n",
    "# definimos la fuente de los datos, para esto usamos los diccionarios que definimos mas arriba\n",
    "for gal in ['G0','G1']:\n",
    "    for snap in np.arange(minsnap,maxsnap,stepsnap): \n",
    "        snap = str(snap).zfill(3)\n",
    "        # Aca definimos la ruta en la cual estan almacenados los snapshots\n",
    "        data_nuevo_ruta_G0 = pynbody.load(data_nuevo+'/G0/snapshot_'+snap+'.hdf5')\n",
    "        data_nuevo_ruta_G1 = pynbody.load(data_nuevo+'/G1/snapshot_'+snap+'.hdf5')\n",
    "        data_viejo_ruta_G0 = pynbody.load(data_viejo+'/G0/snapshot_'+snap+'.hdf5')\n",
    "        data_viejo_ruta_G1 = pynbody.load(data_viejo+'/G1/snapshot_'+snap+'.hdf5')\n",
    "        \n",
    "        # Aca vamos a generar cada uno de los plots, para lo cual primero debemos definir\n",
    "        # cada una de las funciones de masa acumulada y densidad.\n",
    "        bins_new0, mass_new0, bins_old0, mass_old0 = nfunc.accumulated_mass(data_nuevo_ruta_G0.dm['pos'],data_nuevo_ruta_G0.dm['mass'],data_viejo_ruta_G0.dm['pos'],data_viejo_ruta_G0.dm['mass'],n=int(limites_materia_oscura['G0'][1]*4),limits=limites_materia_oscura['G0'])\n",
    "        bins_new1, mass_new1, bins_old1, mass_old1 = nfunc.accumulated_mass(data_nuevo_ruta_G1.dm['pos'],data_nuevo_ruta_G1.dm['mass'],data_viejo_ruta_G1.dm['pos'],data_viejo_ruta_G1.dm['mass'],n=int(limites_materia_oscura['G1'][1]*4),limits=limites_materia_oscura['G1'])\n",
    "      \n",
    "        nfunc.plot_mass(bins_new0,mass_new0,bins_old0,mass_old0,bins_new1,mass_new1,bins_old1,mass_old1,filename='Plots_Importantes/materia_oscura_acumulada_dm_'+snap+'.jpg')\n",
    "        \n",
    "    "
   ]
  }
 ],
 "metadata": {
  "kernelspec": {
   "display_name": "Python 3",
   "language": "python",
   "name": "python3"
  },
  "language_info": {
   "codemirror_mode": {
    "name": "ipython",
    "version": 3
   },
   "file_extension": ".py",
   "mimetype": "text/x-python",
   "name": "python",
   "nbconvert_exporter": "python",
   "pygments_lexer": "ipython3",
   "version": "3.8.5"
  }
 },
 "nbformat": 4,
 "nbformat_minor": 4
}
