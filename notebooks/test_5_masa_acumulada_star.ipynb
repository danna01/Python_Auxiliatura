{
 "cells": [
  {
   "cell_type": "code",
   "execution_count": 1,
   "metadata": {},
   "outputs": [],
   "source": [
    "#importamos las herramientas necesarias\n",
    "import pynbody\n",
    "import matplotlib.pyplot as plt\n",
    "import numpy as np\n",
    "from scipy.optimize import curve_fit\n",
    "from scipy import optimize\n",
    "import scipy.stats\n",
    "from astropy import units as unit\n",
    "import sys\n",
    "from matplotlib.animation import FuncAnimation\n",
    "import funciones_masa_acumulada as facma"
   ]
  },
  {
   "cell_type": "code",
   "execution_count": 38,
   "metadata": {},
   "outputs": [],
   "source": [
    "#importamos los datos\n",
    "data_nuevo = '/media/danna01/Disk/SNAPSHOTS/Galaxias_Nuevas'\n",
    "data_viejo = '/media/danna01/Disk/SNAPSHOTS/Galaxias_Viejas'\n",
    "#datadir = '/media/juan/Pesquisa/Simulations_Chris_2021'"
   ]
  },
  {
   "cell_type": "code",
   "execution_count": 39,
   "metadata": {},
   "outputs": [],
   "source": [
    "# Estos son los diccionarios que definen los limites que seran utilizados para los plots de las galaxias para los\n",
    "# calculos de densidad de materia oscura y la masa acumulada a diferentes radios para la amteria oscura tambien\n",
    "dicti = {}\n",
    "galaxies = ['G0', 'G1', 'G2', 'G3']\n",
    "# Estos son los limites para graficar la masa acumulada y la densidad; sus valores corresponden a 10 veces el valor\n",
    "# del scale - lenght de cada galaxia.\n",
    "limites_star = {'G0':(0,10), 'G1':(0,15), 'G2':(0,20), 'G3':(0,25)} #kpc\n",
    "limites_gas = {'G0':(0,25), 'G1':(0,35), 'G2':(0,50), 'G3':(0,80)} #kpc\n",
    "# Aca observamos los limites que se usaran para calcular el valor de 'h' que nos indicara que tan bueno es el ajuste\n",
    "# limites --> De que dependen?"
   ]
  },
  {
   "cell_type": "markdown",
   "metadata": {},
   "source": [
    "### Generacion de plots de masa acumulada de estrellas y gas"
   ]
  },
  {
   "cell_type": "code",
   "execution_count": 43,
   "metadata": {},
   "outputs": [
    {
     "name": "stderr",
     "output_type": "stream",
     "text": [
      "/home/danna01/.local/lib/python3.8/site-packages/pynbody/snapshot/gadgethdf.py:508: RuntimeWarning: No unit information found!\n",
      "  warnings.warn(\"No unit information found!\", RuntimeWarning)\n",
      "/home/danna01/.local/lib/python3.8/site-packages/pynbody/snapshot/gadgethdf.py:572: RuntimeWarning: No unit information found: using gadget-units.\n",
      "  warnings.warn(\n",
      "/home/danna01/.local/lib/python3.8/site-packages/pynbody/snapshot/gadgethdf.py:508: RuntimeWarning: No unit information found!\n",
      "  warnings.warn(\"No unit information found!\", RuntimeWarning)\n",
      "/home/danna01/.local/lib/python3.8/site-packages/pynbody/snapshot/gadgethdf.py:572: RuntimeWarning: No unit information found: using gadget-units.\n",
      "  warnings.warn(\n",
      "/home/danna01/.local/lib/python3.8/site-packages/pynbody/snapshot/gadgethdf.py:508: RuntimeWarning: No unit information found!\n",
      "  warnings.warn(\"No unit information found!\", RuntimeWarning)\n",
      "/home/danna01/.local/lib/python3.8/site-packages/pynbody/snapshot/gadgethdf.py:572: RuntimeWarning: No unit information found: using gadget-units.\n",
      "  warnings.warn(\n",
      "/home/danna01/.local/lib/python3.8/site-packages/pynbody/snapshot/gadgethdf.py:508: RuntimeWarning: No unit information found!\n",
      "  warnings.warn(\"No unit information found!\", RuntimeWarning)\n",
      "/home/danna01/.local/lib/python3.8/site-packages/pynbody/snapshot/gadgethdf.py:572: RuntimeWarning: No unit information found: using gadget-units.\n",
      "  warnings.warn(\n",
      "/home/danna01/.local/lib/python3.8/site-packages/pynbody/snapshot/gadgethdf.py:508: RuntimeWarning: No unit information found!\n",
      "  warnings.warn(\"No unit information found!\", RuntimeWarning)\n",
      "/home/danna01/.local/lib/python3.8/site-packages/pynbody/snapshot/gadgethdf.py:572: RuntimeWarning: No unit information found: using gadget-units.\n",
      "  warnings.warn(\n",
      "/home/danna01/.local/lib/python3.8/site-packages/pynbody/snapshot/gadgethdf.py:508: RuntimeWarning: No unit information found!\n",
      "  warnings.warn(\"No unit information found!\", RuntimeWarning)\n",
      "/home/danna01/.local/lib/python3.8/site-packages/pynbody/snapshot/gadgethdf.py:572: RuntimeWarning: No unit information found: using gadget-units.\n",
      "  warnings.warn(\n",
      "/home/danna01/.local/lib/python3.8/site-packages/pynbody/snapshot/gadgethdf.py:508: RuntimeWarning: No unit information found!\n",
      "  warnings.warn(\"No unit information found!\", RuntimeWarning)\n",
      "/home/danna01/.local/lib/python3.8/site-packages/pynbody/snapshot/gadgethdf.py:572: RuntimeWarning: No unit information found: using gadget-units.\n",
      "  warnings.warn(\n",
      "/home/danna01/.local/lib/python3.8/site-packages/pynbody/snapshot/gadgethdf.py:508: RuntimeWarning: No unit information found!\n",
      "  warnings.warn(\"No unit information found!\", RuntimeWarning)\n",
      "/home/danna01/.local/lib/python3.8/site-packages/pynbody/snapshot/gadgethdf.py:572: RuntimeWarning: No unit information found: using gadget-units.\n",
      "  warnings.warn(\n",
      "/home/danna01/.local/lib/python3.8/site-packages/pynbody/snapshot/gadgethdf.py:508: RuntimeWarning: No unit information found!\n",
      "  warnings.warn(\"No unit information found!\", RuntimeWarning)\n",
      "/home/danna01/.local/lib/python3.8/site-packages/pynbody/snapshot/gadgethdf.py:572: RuntimeWarning: No unit information found: using gadget-units.\n",
      "  warnings.warn(\n",
      "/home/danna01/.local/lib/python3.8/site-packages/pynbody/snapshot/gadgethdf.py:508: RuntimeWarning: No unit information found!\n",
      "  warnings.warn(\"No unit information found!\", RuntimeWarning)\n",
      "/home/danna01/.local/lib/python3.8/site-packages/pynbody/snapshot/gadgethdf.py:572: RuntimeWarning: No unit information found: using gadget-units.\n",
      "  warnings.warn(\n"
     ]
    }
   ],
   "source": [
    "# Para estrellas\n",
    "for gal in ['G0','G1','G2','G3']:\n",
    "    facma.plot_mass(data_nuevo,data_viejo,filename='plots/masa_acumulada_star'+gal+'.jpg')"
   ]
  },
  {
   "cell_type": "code",
   "execution_count": 45,
   "metadata": {},
   "outputs": [
    {
     "name": "stderr",
     "output_type": "stream",
     "text": [
      "/home/danna01/.local/lib/python3.8/site-packages/pynbody/snapshot/gadgethdf.py:508: RuntimeWarning: No unit information found!\n",
      "  warnings.warn(\"No unit information found!\", RuntimeWarning)\n",
      "/home/danna01/.local/lib/python3.8/site-packages/pynbody/snapshot/gadgethdf.py:572: RuntimeWarning: No unit information found: using gadget-units.\n",
      "  warnings.warn(\n",
      "/home/danna01/.local/lib/python3.8/site-packages/pynbody/snapshot/gadgethdf.py:508: RuntimeWarning: No unit information found!\n",
      "  warnings.warn(\"No unit information found!\", RuntimeWarning)\n",
      "/home/danna01/.local/lib/python3.8/site-packages/pynbody/snapshot/gadgethdf.py:572: RuntimeWarning: No unit information found: using gadget-units.\n",
      "  warnings.warn(\n",
      "/home/danna01/.local/lib/python3.8/site-packages/pynbody/snapshot/gadgethdf.py:508: RuntimeWarning: No unit information found!\n",
      "  warnings.warn(\"No unit information found!\", RuntimeWarning)\n",
      "/home/danna01/.local/lib/python3.8/site-packages/pynbody/snapshot/gadgethdf.py:572: RuntimeWarning: No unit information found: using gadget-units.\n",
      "  warnings.warn(\n",
      "/home/danna01/.local/lib/python3.8/site-packages/pynbody/snapshot/gadgethdf.py:508: RuntimeWarning: No unit information found!\n",
      "  warnings.warn(\"No unit information found!\", RuntimeWarning)\n",
      "/home/danna01/.local/lib/python3.8/site-packages/pynbody/snapshot/gadgethdf.py:572: RuntimeWarning: No unit information found: using gadget-units.\n",
      "  warnings.warn(\n",
      "/home/danna01/.local/lib/python3.8/site-packages/pynbody/snapshot/gadgethdf.py:508: RuntimeWarning: No unit information found!\n",
      "  warnings.warn(\"No unit information found!\", RuntimeWarning)\n",
      "/home/danna01/.local/lib/python3.8/site-packages/pynbody/snapshot/gadgethdf.py:572: RuntimeWarning: No unit information found: using gadget-units.\n",
      "  warnings.warn(\n",
      "/home/danna01/.local/lib/python3.8/site-packages/pynbody/snapshot/gadgethdf.py:508: RuntimeWarning: No unit information found!\n",
      "  warnings.warn(\"No unit information found!\", RuntimeWarning)\n",
      "/home/danna01/.local/lib/python3.8/site-packages/pynbody/snapshot/gadgethdf.py:572: RuntimeWarning: No unit information found: using gadget-units.\n",
      "  warnings.warn(\n",
      "/home/danna01/.local/lib/python3.8/site-packages/pynbody/snapshot/gadgethdf.py:508: RuntimeWarning: No unit information found!\n",
      "  warnings.warn(\"No unit information found!\", RuntimeWarning)\n",
      "/home/danna01/.local/lib/python3.8/site-packages/pynbody/snapshot/gadgethdf.py:572: RuntimeWarning: No unit information found: using gadget-units.\n",
      "  warnings.warn(\n",
      "/home/danna01/.local/lib/python3.8/site-packages/pynbody/snapshot/gadgethdf.py:508: RuntimeWarning: No unit information found!\n",
      "  warnings.warn(\"No unit information found!\", RuntimeWarning)\n",
      "/home/danna01/.local/lib/python3.8/site-packages/pynbody/snapshot/gadgethdf.py:572: RuntimeWarning: No unit information found: using gadget-units.\n",
      "  warnings.warn(\n",
      "/home/danna01/.local/lib/python3.8/site-packages/pynbody/snapshot/gadgethdf.py:508: RuntimeWarning: No unit information found!\n",
      "  warnings.warn(\"No unit information found!\", RuntimeWarning)\n",
      "/home/danna01/.local/lib/python3.8/site-packages/pynbody/snapshot/gadgethdf.py:572: RuntimeWarning: No unit information found: using gadget-units.\n",
      "  warnings.warn(\n",
      "/home/danna01/.local/lib/python3.8/site-packages/pynbody/snapshot/gadgethdf.py:508: RuntimeWarning: No unit information found!\n",
      "  warnings.warn(\"No unit information found!\", RuntimeWarning)\n",
      "/home/danna01/.local/lib/python3.8/site-packages/pynbody/snapshot/gadgethdf.py:572: RuntimeWarning: No unit information found: using gadget-units.\n",
      "  warnings.warn(\n"
     ]
    }
   ],
   "source": [
    "# Para gas\n",
    "for gal in ['G0','G1','G2','G3']:\n",
    "    facma.plot_gas(filename='plots/masa_acumulada_gas_'+gal+'.jpg')"
   ]
  }
 ],
 "metadata": {
  "kernelspec": {
   "display_name": "Python 3",
   "language": "python",
   "name": "python3"
  },
  "language_info": {
   "codemirror_mode": {
    "name": "ipython",
    "version": 3
   },
   "file_extension": ".py",
   "mimetype": "text/x-python",
   "name": "python",
   "nbconvert_exporter": "python",
   "pygments_lexer": "ipython3",
   "version": "3.8.5"
  }
 },
 "nbformat": 4,
 "nbformat_minor": 4
}
