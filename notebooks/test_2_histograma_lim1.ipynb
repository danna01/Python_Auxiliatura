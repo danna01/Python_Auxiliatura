{
 "cells": [
  {
   "cell_type": "markdown",
   "metadata": {},
   "source": [
    "# **Datos iniciales**"
   ]
  },
  {
   "cell_type": "code",
   "execution_count": 1,
   "metadata": {
    "id": "n9AcCmcVQhZz"
   },
   "outputs": [],
   "source": [
    "# En primer lugar importamos todas las librerias que vamos a utilizar en el notebook\n",
    "import pynbody\n",
    "import matplotlib.pyplot as plt\n",
    "import numpy as np\n",
    "from scipy.optimize import curve_fit\n",
    "from scipy import optimize\n",
    "from astropy import units as unit\n",
    "import sys\n",
    "import pickle\n",
    "import funciones as fn"
   ]
  },
  {
   "cell_type": "code",
   "execution_count": 2,
   "metadata": {
    "id": "yU3IMeh5QhaQ"
   },
   "outputs": [],
   "source": [
    "# Generamos todas las rutas en donde tenemos la informacion requerida \n",
    "# Las rutas que no seran usadas a la hora de correr el notebook deben ser fijadas como COMENTARIOS\n",
    "\n",
    "#datadir = '/media/juan/Pesquisa/Simulations_Chris_2021'\n",
    "#datadir = '/home/danna01/Desktop/Auxiliatura/Galaxias'\n",
    "data_nuevo = '/media/danna01/Disk/SNAPSHOTS/Galaxias_Nuevas'\n",
    "data_viejo = '/media/danna01/Disk/SNAPSHOTS/Galaxias_Viejas'\n",
    "\n",
    "# En esta celda generamos el diccionario para los valores de las galaxias y los limites\n",
    "# Los limites son diferenciados porque el plot utilizara unos valores y los limites de h serán más\n",
    "# restringidos con el objetivo de mejorar el valor de 'h' y a su vez no perder informacion.\n",
    "\n",
    "galaxies = ['G0', 'G1','G2','G3']\n",
    "limites_densidad = {'G0':(0,20), 'G1':(0,25), 'G2':(0,20), 'G3':(0,55)}\n",
    "limites = {'G0':(2,6),'G1':(10,15),'G2':(5,10),'G3':(30,35)}\n"
   ]
  },
  {
   "cell_type": "markdown",
   "metadata": {},
   "source": [
    "## FUNCIONES: Densidad radial superficial del disco de gas y de estrellas"
   ]
  },
  {
   "cell_type": "markdown",
   "metadata": {},
   "source": [
    "*Las funciones fueron definidas previamente y esta es la lista de funciones de la seccion.*\n",
    "\n",
    "*En caso de que desee entender mas sobre la funcion por favor utilizar la herramienta de help o dirigirse al documento funciones.py*\n",
    "\n",
    " 1) fn.density\n",
    " \n",
    " 2) fn.fit_exponential\n",
    " \n",
    " 3) fn.plot_exponential"
   ]
  },
  {
   "cell_type": "markdown",
   "metadata": {},
   "source": [
    "## FUNCIONES: Curva de rotación de las partículas de gas / Máximo"
   ]
  },
  {
   "cell_type": "markdown",
   "metadata": {},
   "source": [
    "*Las funciones fueron definidas previamente y esta es la lista de funciones de la seccion.*\n",
    "\n",
    "*En caso de que desee entender mas sobre la funcion por favor utilizar la herramienta de help o dirigirse al documento funciones.py*\n",
    "\n",
    " 1) fn.RGas\n",
    " \n",
    " 2) fn.Vcartesian2polar\n",
    " \n",
    " 3) fn.radios\n",
    " \n",
    " 4) fn.RotCurvGas\n",
    " \n",
    " 5) fn.plot_rot_curve"
   ]
  },
  {
   "cell_type": "markdown",
   "metadata": {},
   "source": [
    "## Compilacion de los diccionarios"
   ]
  },
  {
   "cell_type": "code",
   "execution_count": 3,
   "metadata": {},
   "outputs": [],
   "source": [
    "# En esta celda, estamos defiendo la funcion con la cual vamos a compilar los datos de las galaxias\n",
    "# de cada una de las simulaciones, para esto, requeriremos la ruta para llegar a los datos, los limites\n",
    "# para las galaxias, y los valores maximos y minimos de los snaps que tomaremos en cuenta. \n",
    "\n",
    "def compile_data(origin,gal,minsnap,maxsnap,stepsnap):\n",
    "    dicti = {}\n",
    "    #A continuacion definiremos la ruta de la cual se tomaran cada uno de los snaps\n",
    "    for snap in np.arange(minsnap,maxsnap,stepsnap): \n",
    "        snap = str(snap).zfill(3)\n",
    "        data = pynbody.load(origin+'/'+gal+'/snapshot_'+snap+'.hdf5')\n",
    "        dicti[snap] = {}\n",
    "            \n",
    "            \n",
    "            # y en las siguientes lineas daremos las especificaciones de las graficas que queremos que se\n",
    "            # generen a partir de los plots, junto con la ruta donde seran guardadas, ademas de que las \n",
    "            # almacenaremos en el diccionario que estamos generando, este proceso se repite para cada uno de los\n",
    "            # datos: Velocidad maxima de rotacion, numero de estrellas, h del gas y de las estrellas.\n",
    "           \n",
    "        V_max = fn.plot_rot_curve(gal,data,filename='plots/'+gal+'_rotcurve_'+snap+'.jpg')\n",
    "        dicti[snap]['Vmax'] = V_max\n",
    "            \n",
    "        N_star = data.star['mass'].size\n",
    "        dicti[snap]['Nstar'] = N_star\n",
    "\n",
    "        histo,bins,dens = fn.density(data.gas['pos'],data.gas['mass'],n=20,limits=limites_densidad[gal])\n",
    "        m,b = fn.fit_exponential(bins,dens,limits=limites[gal])\n",
    "        fn.plot_exponential(bins,dens,m,b,filename='plots/'+gal+'_gas_'+snap+'.jpg')\n",
    "        dicti[snap]['h_gas'] = -1/m*np.log10(np.e)\n",
    "        \n",
    "        histo,bins,dens = fn.density(data.star['pos'],data.star['mass'],n=20,limits=limites_densidad[gal])\n",
    "        m,b = fn.fit_exponential(bins,dens,limits=limites[gal])\n",
    "        fn.plot_exponential(bins,dens,m,b,filename='plots/'+gal+'_star_'+snap+'.jpg')\n",
    "        dicti[snap]['h_star'] = -1/m*np.log10(np.e)\n",
    "\n",
    "    return dicti"
   ]
  },
  {
   "cell_type": "code",
   "execution_count": 4,
   "metadata": {},
   "outputs": [],
   "source": [
    "# Finalizada la compilación de datos en un diccionario\n",
    "# Aqui se extraen los valores de cada cantidad secuencialmente\n",
    "def extract_qtt(dictionary,quantity):\n",
    "    if quantity == 'snapshots':\n",
    "        lista = [np.float(key) for key in dictionary.keys()]\n",
    "    else:\n",
    "        # list comprehension\n",
    "        lista = [dictionary[snap][quantity] for snap in dictionary.keys()]\n",
    "    return lista"
   ]
  },
  {
   "cell_type": "code",
   "execution_count": 5,
   "metadata": {},
   "outputs": [],
   "source": [
    "# Aca vamos a definir las funciones que vamos a graficar con los datos que se extraen del diccionario\n",
    "# Para esto, primero definiremos las variables a graficas en este caso para los datos nuevos:\n",
    "def show_results(dicti, dicti_old, gal):\n",
    "    snapshots_new = extract_qtt(dicti,'snapshots')\n",
    "    h0_gas_new = extract_qtt(dicti,'h_gas')\n",
    "    h0_star_new = extract_qtt(dicti,'h_star')\n",
    "    N_star_new = extract_qtt(dicti,'Nstar')\n",
    "    Vmax_new = extract_qtt(dicti,'Vmax')\n",
    "    \n",
    "    # Aca hacemos lo mismo para los datos viejos:\n",
    "    snapshots_old = extract_qtt(dicti_old,'snapshots')\n",
    "    h0_gas_old = extract_qtt(dicti_old,'h_gas')\n",
    "    h0_star_old = extract_qtt(dicti_old,'h_star')\n",
    "    N_star_old = extract_qtt(dicti_old,'Nstar')\n",
    "    Vmax_old = extract_qtt(dicti_old,'Vmax')\n",
    "    \n",
    "    # Definimos el tamaño del plot\n",
    "    plt.figure(figsize=(12,4))\n",
    "    \n",
    "    # Definimos cada una de las posiciones de los plots, los histogramas y las posiciones que les vamos a dar,\n",
    "    # asi como sus especificaciones para cada una de las variables.\n",
    "    # Para los valores de Y en el plot hemos asignado valores arbitrarios, con el unico fin de poder visualizar \n",
    "    # la informacion.\n",
    "    \n",
    "    plt.subplot(131)\n",
    "    #Como solo existen datos viejos para las galaxias G0 y G1 debemos especificar que los plots son solo\n",
    "    #para esos datos con las siguientes lineas\n",
    "    if gal in ['G0','G1']:\n",
    "        plt.hist(h0_gas_new,bins=5,color='green')\n",
    "        plt.title(gal + '  h0 GAS')\n",
    "        x = h0_gas_old\n",
    "        y = np.array([50,50,50])\n",
    "        plt.plot(x,y, \"ok\")\n",
    "    #Dado que las graficas presentan algunos datos que parecen erroneos es necesario  ajustar los limites\n",
    "    #para los histogramas de las galaxias G2 y G3\n",
    "    if gal == 'G2':\n",
    "        h0_gas_new = extract_qtt(super_dict['G2'],'h_gas')\n",
    "        plt.hist(h0_gas_new,bins=20,color='green',range=(0,20))\n",
    "        plt.title(gal + '  h0 GAS')\n",
    "    if gal == 'G3':\n",
    "        h0_gas_new = extract_qtt(super_dict['G3'],'h_gas')\n",
    "        plt.hist(h0_gas_new,bins=20,color='green',range=(0,20))\n",
    "        plt.title(gal + '  h0 GAS')\n",
    "    \n",
    "\n",
    "    #plt.figure()\n",
    "    plt.subplot(132)\n",
    "    #Como solo existen datos viejos para las galaxias G0 y G1 debemos especificar que los plots son solo\n",
    "    #para esos datos con las siguientes lineas\n",
    "    if gal in ['G0','G1','G2']:\n",
    "        plt.hist(h0_star_new,bins=5,color='orange')\n",
    "        plt.title(gal + '  h0 STARS')\n",
    "    if gal in ['G0','G1']:\n",
    "        x = h0_star_old\n",
    "        y = np.array([50,50,50])\n",
    "        plt.plot(x,y,\"ok\")\n",
    "    #Definidos por prueba y error los limites que mejor se acomoden para las graficas de los histogramas\n",
    "    #que presentan problema\n",
    "    if gal == \"G3\":\n",
    "        h0_star_new = extract_qtt(super_dict['G3'],'h_star')\n",
    "        plt.hist(h0_star_new,bins=20,color='green',range=(0,20)) \n",
    "        plt.title(gal + '  h0 STARS')\n",
    "    \n",
    "    plt.subplot(133)\n",
    "    plt.hist(Vmax_new,bins=5,color='red')\n",
    "    plt.title(gal + '  Max Velocity')\n",
    "    #Dado que las graficas presentan algunos datos que parecen erroneos es necesario  ajustar los limites\n",
    "    #para los histogramas de la galaxia G3\n",
    "    if gal == \"G3\":\n",
    "        plt.xlim((170,190)) \n",
    "    #Como solo existen datos viejos para las galaxias G0 y G1 debemos especificar que los plots son solo\n",
    "    #para esos datos con las siguientes lineas\n",
    "    if gal in ['G0','G1']:\n",
    "        x = Vmax_old\n",
    "        y = np.array([50,50,50])\n",
    "        plt.plot(x,y,\"ok\")"
   ]
  },
  {
   "cell_type": "markdown",
   "metadata": {},
   "source": [
    "## Generacion de los diccionarios"
   ]
  },
  {
   "cell_type": "code",
   "execution_count": 39,
   "metadata": {},
   "outputs": [],
   "source": [
    "# Con estas lineas, vamos a compilar el diccionario, para esto, utilizaremos la funcion de compile data\n",
    "# y debemos aclarar los minimos, maximos y el espaciado entre los snaps considerados\n",
    "# Tambien se debe hacer claridad en los valores de galaxias considerados.\n",
    "# ESTA CELDA SOLO SE DEBE CORRER UNA VEZ (NO CORRERLA NUEVAMENTE)\n",
    "\n",
    "#super_dict = {}\n",
    "#for gal in galaxies:\n",
    "    #super_dict[gal] = compile_data(data_nuevo,gal,minsnap=0,maxsnap=601,stepsnap=1)\n",
    "\n",
    "# Con estas líneas vamos a salvar el diccionario directamente en un formato de python\n",
    "# para que las próximas veces podamos simplemente leerlo, sin tener que volver a\n",
    "# hacer toda la compilación leyendo directo de los snapshots\n",
    "# Va a quedar guardado con el numbre de archivo: 'compilation_new'\n",
    "\n",
    "# file = open('compilation_new', 'wb')\n",
    "# pickle.dump(super_dict, file)\n",
    "# file.close()\n",
    "\n"
   ]
  },
  {
   "cell_type": "code",
   "execution_count": 40,
   "metadata": {},
   "outputs": [],
   "source": [
    "# SOLO SE DEBE CORRER UNA VEZ (EVITE CORRERLO NUEVAMENTE)\n",
    "# Aca se repite exactamente el mismo proceso para compilar los datos para el otro diccionario para las \n",
    "# simulaciones de galaxias antiguas, el proceso es exactamente el mismo, solo se deben cambiar los valores de los\n",
    "# snaps de acuerdo a la informacion que se tenga.\n",
    "\n",
    "# super_dict_old = {}\n",
    "# for gal in galaxies:\n",
    "    # super_dict_old[gal] = compile_data(data_viejo,gal,minsnap=100,maxsnap=600,stepsnap=200)\n",
    "\n",
    "# Se repite el proceso para el otro conjunto de datos, con las lineas siguientes se va a salvar el diccionario\n",
    "# de los datos antiguos, con el nombre que se desee, en este caso quedo como 'compilation_old'\n",
    "\n",
    "# file = open('compilation_old', 'wb')\n",
    "# pickle.dump(super_dict_old, file)\n",
    "# file.close()\n"
   ]
  },
  {
   "cell_type": "markdown",
   "metadata": {},
   "source": [
    "**Referencia**\n",
    "*Con el objetivo de comparar la informacion obtenida se anexa a continuacion una tabla donde se resume la informacion del documento que se tomo como referencia para estos datos, para mas informacion puede consultar el siguiente [enlace](https://ui.adsabs.harvard.edu/abs/2010MNRAS.403...17J/abstract)*\n",
    " \n",
    "\n",
    "Modelo | Masa Total [$M_\\odot$] | Masa barionica [$M_\\odot$] | Scale-length estrellas [kpc] | Scale-length gas [kpc] | Masa Gas [$M_\\odot$] | Vmax [km s$^{-1}$]\n",
    ":-------: | :----------: | :-------: | :-------: | :-------: | :-------: | :-------:\n",
    "G0 | 5.1 $\\cdot 10^{10}$ | $1.6 \\cdot 10^{9}$ | 1.1 | 3.3 | 6.08 $\\cdot 10^{8}$ | 67 \n",
    "G1 | $2 \\cdot 10^{11}$    | $7 \\cdot 10^{9}$ | 1.5 | 4.5 |  2.03 $\\cdot 10^{9}$| 103\n",
    "G2 | 5.1 $\\cdot 10^{11}$  | $1.98 \\cdot 10^{10}$ | 1.9 | 5.7 | 4.55 $\\cdot 10^{9}$ | 139\n",
    "G3 | 1.16 $\\cdot 10^{12}$ | $6.22 \\cdot 10^{10}$ | 2.8 | 8.4 | 1.24 $\\cdot 10^{10}$ | 192\n",
    "\n"
   ]
  },
  {
   "cell_type": "markdown",
   "metadata": {},
   "source": [
    "## Visualizacion de la informacion y generacion de los histogramas"
   ]
  },
  {
   "cell_type": "code",
   "execution_count": 6,
   "metadata": {
    "id": "qupPekoxQha-",
    "outputId": "8515ec61-a32e-4a78-99f5-2169fcd4c735"
   },
   "outputs": [],
   "source": [
    "# Así lo leemos después de haberlo almacenado\n",
    "# Va a quedar importado en la variable 'super_dict'\n",
    "\n",
    "file = open('diccionarios_viejos/compilation_new', 'rb')\n",
    "super_dict = pickle.load(file)\n",
    "file.close()"
   ]
  },
  {
   "cell_type": "code",
   "execution_count": 7,
   "metadata": {},
   "outputs": [],
   "source": [
    "# Así lo leemos después de haberlo almacenado\n",
    "# Va a quedar importado en la variable 'super_dict_old'\n",
    "\n",
    "file = open('diccionarios_viejos/compilation_old', 'rb')\n",
    "super_dict_old = pickle.load(file)\n",
    "file.close()\n",
    "#Estas lineas que se agregan son necesarias porque el diccionario no tiene la informacion requerida para las \n",
    "#galaxias G2 y G3, por ende, se agregan como diccionarios vacios para no generar un error a la hora de aplicar\n",
    "#la funcion de graficas.\n",
    "super_dict_old['G2']={} \n",
    "super_dict_old['G3']={} "
   ]
  },
  {
   "cell_type": "code",
   "execution_count": 8,
   "metadata": {},
   "outputs": [
    {
     "name": "stderr",
     "output_type": "stream",
     "text": [
      "<ipython-input-4-e1f46a1ee7e0>:5: DeprecationWarning: `np.float` is a deprecated alias for the builtin `float`. To silence this warning, use `float` by itself. Doing this will not modify any behavior and is safe. If you specifically wanted the numpy scalar type, use `np.float64` here.\n",
      "Deprecated in NumPy 1.20; for more details and guidance: https://numpy.org/devdocs/release/1.20.0-notes.html#deprecations\n",
      "  lista = [np.float(key) for key in dictionary.keys()]\n",
      "<ipython-input-4-e1f46a1ee7e0>:5: DeprecationWarning: `np.float` is a deprecated alias for the builtin `float`. To silence this warning, use `float` by itself. Doing this will not modify any behavior and is safe. If you specifically wanted the numpy scalar type, use `np.float64` here.\n",
      "Deprecated in NumPy 1.20; for more details and guidance: https://numpy.org/devdocs/release/1.20.0-notes.html#deprecations\n",
      "  lista = [np.float(key) for key in dictionary.keys()]\n",
      "<ipython-input-4-e1f46a1ee7e0>:5: DeprecationWarning: `np.float` is a deprecated alias for the builtin `float`. To silence this warning, use `float` by itself. Doing this will not modify any behavior and is safe. If you specifically wanted the numpy scalar type, use `np.float64` here.\n",
      "Deprecated in NumPy 1.20; for more details and guidance: https://numpy.org/devdocs/release/1.20.0-notes.html#deprecations\n",
      "  lista = [np.float(key) for key in dictionary.keys()]\n"
     ]
    },
    {
     "data": {
      "image/png": "[encoded data removed]",
      "text/plain": [
       "<Figure size 864x288 with 3 Axes>"
      ]
     },
     "metadata": {
      "needs_background": "light"
     },
     "output_type": "display_data"
    },
    {
     "data": {
      "image/png": "[encoded data removed]",
      "text/plain": [
       "<Figure size 864x288 with 3 Axes>"
      ]
     },
     "metadata": {
      "needs_background": "light"
     },
     "output_type": "display_data"
    },
    {
     "data": {
      "image/png": "[encoded data removed]",
      "text/plain": [
       "<Figure size 864x288 with 3 Axes>"
      ]
     },
     "metadata": {
      "needs_background": "light"
     },
     "output_type": "display_data"
    },
    {
     "data": {
      "image/png": "[encoded data removed]",
      "text/plain": [
       "<Figure size 864x288 with 3 Axes>"
      ]
     },
     "metadata": {
      "needs_background": "light"
     },
     "output_type": "display_data"
    }
   ],
   "source": [
    "# COn esta linea vamos a comparar los datos obtenidos para las galaxias de ambas bases de datos en una misma \n",
    "#grafica para esto nuevamente usaremos la funcion de show results y con esta, utilizaremos los dos\n",
    "# diccionarios en donde esta almacenada la informacion, con sus respectivos limites.\n",
    "for gal in galaxies:\n",
    "    show_results(super_dict[gal],super_dict_old[gal],gal)"
   ]
  },
  {
   "cell_type": "markdown",
   "metadata": {},
   "source": [
    "### Herramientas Adicionales"
   ]
  },
  {
   "cell_type": "code",
   "execution_count": 47,
   "metadata": {},
   "outputs": [],
   "source": [
    "#SI NO REQUIERE DE LAS VERIFICACIONES, SIMPLEMENTE FIJELAS COMO COMENTARIOS\n",
    "\n",
    "# Si se tiene duda de que el diccionario este efectivamente almacenado recurra a estas lineas, de lo contrario\n",
    "# dejelas como COMENTARIOS, la linea a utilizar dependera de la duda que se presente (ubique el diccionario\n",
    "# que le genera duda y corra esa linea)\n",
    "\n",
    "#print(super_dict)\n",
    "#print(super_dict_old)\n",
    "\n",
    "# Con esta linea puede ver el tamaño de los archivos almacenados en la carpeta en la que trabaje, identifique\n",
    "# que los tamaños de los diccionarios sea un valor logico\n",
    "# de lo contrario, fijelo como COMENTARIO\n",
    "\n",
    "#ls -lh\n",
    "\n",
    "#COn esta linea puede verificar las galaxias contenidas en el diccionario\n",
    "#print(super_dict.keys())\n",
    "\n",
    "#COn esta linea puede observar la informacion contenida en el diccionario para la galaxia que especifique\n",
    "#print(super_dict['G3'])"
   ]
  }
 ],
 "metadata": {
  "colab": {
   "collapsed_sections": [],
   "name": "Test_1.ipynb",
   "provenance": []
  },
  "kernelspec": {
   "display_name": "Python 3",
   "language": "python",
   "name": "python3"
  },
  "language_info": {
   "codemirror_mode": {
    "name": "ipython",
    "version": 3
   },
   "file_extension": ".py",
   "mimetype": "text/x-python",
   "name": "python",
   "nbconvert_exporter": "python",
   "pygments_lexer": "ipython3",
   "version": "3.8.5"
  }
 },
 "nbformat": 4,
 "nbformat_minor": 1
}
