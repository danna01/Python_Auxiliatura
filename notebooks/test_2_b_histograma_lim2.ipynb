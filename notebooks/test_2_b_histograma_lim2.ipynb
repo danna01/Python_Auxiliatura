{
 "cells": [
  {
   "cell_type": "markdown",
   "metadata": {},
   "source": [
    "# **Datos iniciales**"
   ]
  },
  {
   "cell_type": "code",
   "execution_count": 2,
   "metadata": {},
   "outputs": [],
   "source": [
    "# En primer lugar importamos todas las librerias que vamos a utilizar en el notebook\n",
    "import pynbody\n",
    "import matplotlib.pyplot as plt\n",
    "import numpy as np\n",
    "from scipy.optimize import curve_fit\n",
    "from scipy import optimize\n",
    "from astropy import units as unit\n",
    "import sys\n",
    "import pickle\n",
    "import funciones as fn"
   ]
  },
  {
   "cell_type": "code",
   "execution_count": 4,
   "metadata": {},
   "outputs": [],
   "source": [
    "# Generamos todas las rutas en donde tenemos la informacion requerida \n",
    "# Las rutas que no seran usadas a la hora de correr el notebook deben ser fijadas como COMENTARIOS\n",
    "\n",
    "#datadir = '/media/juan/Pesquisa/Simulations_Chris_2021'\n",
    "#datadir = '/home/danna01/Desktop/Auxiliatura/Galaxias'\n",
    "data_nuevo = '/media/danna01/Disk/SNAPSHOTS/Galaxias_Nuevas'\n",
    "data_viejo = '/media/danna01/Disk/SNAPSHOTS/Galaxias_Viejas'\n",
    "#data_nuevo = '/media/juan/Pesquisa/Simulations_Chris_2021'\n",
    "#data_viejo = '/media/juan/Pesquisa/Pesquisa/SNAPSHOTS'"
   ]
  },
  {
   "cell_type": "code",
   "execution_count": 3,
   "metadata": {},
   "outputs": [],
   "source": [
    "#Estos son los diccionarios que definen los limites que seran utilizados para los plots de las galaxias para los\n",
    "#calculos de densidad superficial radial para estrellas y para gases y para el calculo de la curva de rotacion\n",
    "dicti = {}\n",
    "\n",
    "galaxies = ['G0','G1', 'G2', 'G3']\n",
    "#limites para graficar los plots\n",
    "limites_densidad = {'G0':(0,20), 'G1':(0,25), 'G2':(0,20), 'G3':(0,55)}\n",
    "#limites para calcular la h para el plot de estrellas y el de gas\n",
    "limites_star = {'G0':(1.1,3.3),'G1':(1.5,4.5),'G2':(1.9,5.7),'G3':(2.8,8.4)}\n",
    "limites_gas = {'G0':(3.3,9.9),'G1':(4.5,13.5),'G2':(5.7,17.1),'G3':(8.4,25.2)}\n",
    "#limites en el eje y para los plots de gas, estrellas y para la curva de rotacion\n",
    "limites_ejey_gas = {'G0':(-10, -2),'G1':(-6,-2),'G2':(-6,-2),'G3':(-6,-2)}\n",
    "limites_ejey_star = {'G0':(-10, -2),'G1':(-10,0),'G2':(-6,0),'G3':(-10,0)}\n",
    "limites_ejey_vel = {'G0':(-50, 120),'G1':(0,140),'G2':(0,180),'G3':(0,210)}"
   ]
  },
  {
   "cell_type": "code",
   "execution_count": 5,
   "metadata": {},
   "outputs": [
    {
     "data": {
      "text/plain": [
       "dict"
      ]
     },
     "execution_count": 5,
     "metadata": {},
     "output_type": "execute_result"
    }
   ],
   "source": [
    "type(limites_densidad)"
   ]
  },
  {
   "cell_type": "markdown",
   "metadata": {},
   "source": [
    "## FUNCIONES"
   ]
  },
  {
   "cell_type": "markdown",
   "metadata": {},
   "source": [
    "### Perfiles de densidad superficial de gas y estrellas"
   ]
  },
  {
   "cell_type": "markdown",
   "metadata": {},
   "source": [
    "*Las funciones fueron definidas previamente y esta es la lista de funciones de la seccion.*\n",
    "\n",
    "*En caso de que desee entender mas sobre la funcion por favor utilizar la herramienta de help o dirigirse al documento funciones.py*\n",
    "\n",
    " 1) fn.density\n",
    " \n",
    " 2) fn.fit_exponential\n",
    " \n",
    " 3) fn.plot_exponential"
   ]
  },
  {
   "cell_type": "markdown",
   "metadata": {},
   "source": [
    "### Curva de rotacion"
   ]
  },
  {
   "cell_type": "markdown",
   "metadata": {},
   "source": [
    "*Las funciones fueron definidas previamente y esta es la lista de funciones de la seccion.*\n",
    "\n",
    "*En caso de que desee entender mas sobre la funcion por favor utilizar la herramienta de help o dirigirse al documento funciones.py*\n",
    "\n",
    " 1) fn.RGas\n",
    " \n",
    " 2) fn.Vcartesian2polar\n",
    " \n",
    " 3) fn.radios\n",
    " \n",
    " 4) fn.RotCurvGas\n",
    " \n",
    " 5) fn.plot_rot_curve"
   ]
  },
  {
   "cell_type": "markdown",
   "metadata": {},
   "source": [
    "## Compilacion de los diccionarios"
   ]
  },
  {
   "cell_type": "code",
   "execution_count": 6,
   "metadata": {},
   "outputs": [],
   "source": [
    "# En esta celda, estamos defiendo la funcion con la cual vamos a compilar los datos de las galaxias\n",
    "# de cada una de las simulaciones, para esto, requeriremos la ruta para llegar a los datos, los limites\n",
    "# para las galaxias, y los valores maximos y minimos de los snaps que tomaremos en cuenta. \n",
    "\n",
    "def compile_data(origin,gal,minsnap,maxsnap,stepsnap):\n",
    "    dicti = {}\n",
    "    #A continuacion definiremos la ruta de la cual se tomaran cada uno de los snaps\n",
    "    for snap in np.arange(minsnap,maxsnap,stepsnap): \n",
    "        \n",
    "        # Esto va a imprimir en pantalla un letrero a cada 10 snapshots iterados\n",
    "        # Para ayudarnos a saber por dónde va\n",
    "        if not snap % 10:\n",
    "            print(\"working in snapshots number \",snap)\n",
    "        \n",
    "        snap = str(snap).zfill(3)        \n",
    "        data = pynbody.load(origin+'/'+gal+'/snapshot_'+snap+'.hdf5')\n",
    "        dicti[snap] = {}\n",
    "            \n",
    "            \n",
    "            # y en las siguientes lineas daremos las especificaciones de las graficas que queremos que se\n",
    "            # generen a partir de los plots, junto con la ruta donde seran guardadas, ademas de que las \n",
    "            # almacenaremos en el diccionario que estamos generando, este proceso se repite para cada uno de los\n",
    "            # datos: Velocidad maxima de rotacion, numero de estrellas, h del gas y de las estrellas.\n",
    "           \n",
    "        V_max = fn.plot_rot_curve(gal,data,filename='plots_nuevos/'+gal+'/'+gal+'_rotcurve_'+snap+'.jpg')\n",
    "        dicti[snap]['Vmax'] = V_max\n",
    "            \n",
    "        N_star = data.star['mass'].size\n",
    "        dicti[snap]['Nstar'] = N_star\n",
    "\n",
    "        histo,bins,dens = fn.density(data.gas['pos'],data.gas['mass'],n=20,limits=limites_densidad[gal])\n",
    "        m,b = fn.fit_exponential(bins,dens,limits=limites_gas[gal])\n",
    "        fn.plot_exponential(bins,dens,m,b,filename='plots_nuevos/'+gal+'/'+gal+'_gas_'+snap+'.jpg')\n",
    "        dicti[snap]['h_gas'] = -1/m*np.log10(np.e)\n",
    "        \n",
    "        histo,bins,dens = fn.density(data.star['pos'],data.star['mass'],n=20,limits=limites_densidad[gal])\n",
    "        m,b = fn.fit_exponential(bins,dens,limits=limites_star[gal])\n",
    "        fn.plot_exponential(bins,dens,m,b,filename='plots_nuevos/'+gal+'/'+gal+'_star_'+snap+'.jpg')\n",
    "        dicti[snap]['h_star'] = -1/m*np.log10(np.e)\n",
    "\n",
    "    return dicti"
   ]
  },
  {
   "cell_type": "code",
   "execution_count": 7,
   "metadata": {},
   "outputs": [],
   "source": [
    "# Finalizada la compilación de datos en un diccionario\n",
    "# Aqui se extraen los valores de cada cantidad secuencialmente\n",
    "def extract_qtt(dictionary,quantity):\n",
    "    if quantity == 'snapshots':\n",
    "        lista = [np.float(key) for key in dictionary.keys()]\n",
    "    else:\n",
    "        # list comprehensionlimits\n",
    "        lista = [dictionary[snap][quantity] for snap in dictionary.keys()]\n",
    "    return lista"
   ]
  },
  {
   "cell_type": "code",
   "execution_count": 9,
   "metadata": {},
   "outputs": [],
   "source": [
    "# Aca vamos a definir las funciones que vamos a graficar con los datos que se extraen del diccionario\n",
    "# Para esto, primero definiremos las variables a graficas en este caso para los datos nuevos:\n",
    "def show_results(dicti, dicti_old, gal):\n",
    "    snapshots_new = extract_qtt(dicti,'snapshots')\n",
    "    h0_gas_new = extract_qtt(dicti,'h_gas')\n",
    "    h0_star_new = extract_qtt(dicti,'h_star')\n",
    "    N_star_new = extract_qtt(dicti,'Nstar')\n",
    "    Vmax_new = extract_qtt(dicti,'Vmax')\n",
    "    \n",
    "    # Aca hacemos lo mismo para los datos viejos:\n",
    "    snapshots_old = extract_qtt(dicti_old,'snapshots')\n",
    "    h0_gas_old = extract_qtt(dicti_old,'h_gas')\n",
    "    h0_star_old = extract_qtt(dicti_old,'h_star')\n",
    "    N_star_old = extract_qtt(dicti_old,'Nstar')\n",
    "    Vmax_old = extract_qtt(dicti_old,'Vmax')\n",
    "    \n",
    "    # Definimos el tamaño del plot\n",
    "    plt.figure(figsize=(12,4))\n",
    "    \n",
    "    # Definimos cada una de las posiciones de los plots, los histogramas y las posiciones que les vamos a dar,\n",
    "    # asi como sus especificaciones para cada una de las variables.\n",
    "    # Para los valores de Y en el plot hemos asignado valores arbitrarios, con el unico fin de poder visualizar \n",
    "    # la informacion.\n",
    "    \n",
    "    # Para el histograma del gas\n",
    "    plt.subplot(131)\n",
    "    plt.hist(h0_gas_new,bins=5,color='green')\n",
    "    plt.title(gal + '  h0 GAS')\n",
    "    #Como solo existen datos viejos para las galaxias G0 y G1 debemos especificar que los plots son solo\n",
    "    #para esos datos con las siguientes lineas\n",
    "    if gal in ['G0','G1']:\n",
    "        x = h0_gas_old\n",
    "        y = np.array([50,50,50])\n",
    "        plt.plot(x,y, \"ok\")\n",
    "    \n",
    "    # Para el histograma de las estrellas\n",
    "    plt.subplot(132)\n",
    "    #Como solo existen datos viejos para las galaxias G0 y G1 debemos especificar que los plots son solo\n",
    "    #para esos datos con las siguientes lineas\n",
    "    if gal in ['G0']:\n",
    "        plt.hist(h0_star_new,bins=5,range=(0,4),color='orange')\n",
    "        plt.title(gal + 'h0 STARS')\n",
    "    if gal in ['G1','G3']:\n",
    "        plt.hist(h0_star_new,bins=5,color='orange')\n",
    "        plt.title(gal + '  h0 STARS')\n",
    "    if gal == 'G2':\n",
    "        h0_gas_new = extract_qtt(super_dict['G2'],'h_star')\n",
    "        plt.hist(h0_star_new,bins=20,color='green',range=(1,5))\n",
    "        plt.title(gal + '  h0 STARS')\n",
    "    if gal in ['G0','G1']:\n",
    "        x = h0_star_old\n",
    "        y = np.array([50,50,50])\n",
    "        plt.plot(x,y,\"ok\")\n",
    "    \n",
    "    #Para la velocidad maxima\n",
    "    plt.subplot(133)\n",
    "    plt.hist(Vmax_new,bins=5,color='red')\n",
    "    plt.title(gal + '  Max Velocity')\n",
    "    #Como solo existen datos viejos para las galaxias G0 y G1 debemos especificar que los plots son solo\n",
    "    #para esos datos con las siguientes lineas\n",
    "    if gal in ['G0','G1']:\n",
    "        x = Vmax_old\n",
    "        y = np.array([50,50,50])\n",
    "        plt.plot(x,y,\"ok\")"
   ]
  },
  {
   "cell_type": "markdown",
   "metadata": {},
   "source": [
    "## Generacion de los diccionarios"
   ]
  },
  {
   "cell_type": "code",
   "execution_count": null,
   "metadata": {},
   "outputs": [],
   "source": [
    "# Con estas lineas, vamos a compilar el diccionario, para esto, utilizaremos la funcion de compile data\n",
    "# y debemos aclarar los minimos, maximos y el espaciado entre los snaps considerados\n",
    "# Tambien se debe hacer claridad en los valores de galaxias considerados.\n",
    "# ESTA CELDA SOLO SE DEBE CORRER UNA VEZ (NO CORRERLA NUEVAMENTE)\n",
    "\n",
    "#super_dict = {}\n",
    "#for gal in galaxies:\n",
    "    #super_dict[gal] = compile_data(data_nuevo,gal,minsnap=0,maxsnap=601,stepsnap=1)\n",
    "\n",
    "# Con estas líneas vamos a salvar el diccionario directamente en un formato de python\n",
    "# para que las próximas veces podamos simplemente leerlo, sin tener que volver a\n",
    "# hacer toda la compilación leyendo directo de los snapshots\n",
    "# Va a quedar guardado con el numbre de archivo: 'compilation_new'\n",
    "\n",
    "#file = open('diccionarios_nuevos/compilation_new', 'wb')\n",
    "#pickle.dump(super_dict, file)\n",
    "#file.close() "
   ]
  },
  {
   "cell_type": "code",
   "execution_count": 34,
   "metadata": {},
   "outputs": [
    {
     "name": "stdout",
     "output_type": "stream",
     "text": [
      "working in snapshots number  100\n"
     ]
    },
    {
     "name": "stderr",
     "output_type": "stream",
     "text": [
      "/home/juan/anaconda3/lib/python3.8/site-packages/pynbody/snapshot/gadgethdf.py:508: RuntimeWarning: No unit information found!\n",
      "  warnings.warn(\"No unit information found!\", RuntimeWarning)\n",
      "/home/juan/anaconda3/lib/python3.8/site-packages/pynbody/snapshot/gadgethdf.py:572: RuntimeWarning: No unit information found: using gadget-units.\n",
      "  warnings.warn(\n",
      "<ipython-input-19-0c67cf86e750>:10: RuntimeWarning: divide by zero encountered in log10\n",
      "  plt.plot(bins, np.log10(dens), 'r.', label = 'h = {a:3.2f}'.format(a = R))\n",
      "/home/juan/anaconda3/lib/python3.8/site-packages/pynbody/snapshot/gadgethdf.py:508: RuntimeWarning: No unit information found!\n",
      "  warnings.warn(\"No unit information found!\", RuntimeWarning)\n",
      "/home/juan/anaconda3/lib/python3.8/site-packages/pynbody/snapshot/gadgethdf.py:572: RuntimeWarning: No unit information found: using gadget-units.\n",
      "  warnings.warn(\n"
     ]
    },
    {
     "name": "stdout",
     "output_type": "stream",
     "text": [
      "working in snapshots number  300\n"
     ]
    },
    {
     "name": "stderr",
     "output_type": "stream",
     "text": [
      "<ipython-input-19-0c67cf86e750>:10: RuntimeWarning: divide by zero encountered in log10\n",
      "  plt.plot(bins, np.log10(dens), 'r.', label = 'h = {a:3.2f}'.format(a = R))\n",
      "/home/juan/anaconda3/lib/python3.8/site-packages/pynbody/snapshot/gadgethdf.py:508: RuntimeWarning: No unit information found!\n",
      "  warnings.warn(\"No unit information found!\", RuntimeWarning)\n",
      "/home/juan/anaconda3/lib/python3.8/site-packages/pynbody/snapshot/gadgethdf.py:572: RuntimeWarning: No unit information found: using gadget-units.\n",
      "  warnings.warn(\n"
     ]
    },
    {
     "name": "stdout",
     "output_type": "stream",
     "text": [
      "working in snapshots number  500\n"
     ]
    },
    {
     "name": "stderr",
     "output_type": "stream",
     "text": [
      "<ipython-input-19-0c67cf86e750>:10: RuntimeWarning: divide by zero encountered in log10\n",
      "  plt.plot(bins, np.log10(dens), 'r.', label = 'h = {a:3.2f}'.format(a = R))\n",
      "/home/juan/anaconda3/lib/python3.8/site-packages/pynbody/snapshot/gadgethdf.py:508: RuntimeWarning: No unit information found!\n",
      "  warnings.warn(\"No unit information found!\", RuntimeWarning)\n",
      "/home/juan/anaconda3/lib/python3.8/site-packages/pynbody/snapshot/gadgethdf.py:572: RuntimeWarning: No unit information found: using gadget-units.\n",
      "  warnings.warn(\n"
     ]
    },
    {
     "name": "stdout",
     "output_type": "stream",
     "text": [
      "working in snapshots number  100\n"
     ]
    },
    {
     "name": "stderr",
     "output_type": "stream",
     "text": [
      "<ipython-input-19-0c67cf86e750>:10: RuntimeWarning: divide by zero encountered in log10\n",
      "  plt.plot(bins, np.log10(dens), 'r.', label = 'h = {a:3.2f}'.format(a = R))\n",
      "/home/juan/anaconda3/lib/python3.8/site-packages/pynbody/snapshot/gadgethdf.py:508: RuntimeWarning: No unit information found!\n",
      "  warnings.warn(\"No unit information found!\", RuntimeWarning)\n",
      "/home/juan/anaconda3/lib/python3.8/site-packages/pynbody/snapshot/gadgethdf.py:572: RuntimeWarning: No unit information found: using gadget-units.\n",
      "  warnings.warn(\n"
     ]
    },
    {
     "name": "stdout",
     "output_type": "stream",
     "text": [
      "working in snapshots number  300\n"
     ]
    },
    {
     "name": "stderr",
     "output_type": "stream",
     "text": [
      "<ipython-input-19-0c67cf86e750>:10: RuntimeWarning: divide by zero encountered in log10\n",
      "  plt.plot(bins, np.log10(dens), 'r.', label = 'h = {a:3.2f}'.format(a = R))\n",
      "/home/juan/anaconda3/lib/python3.8/site-packages/pynbody/snapshot/gadgethdf.py:508: RuntimeWarning: No unit information found!\n",
      "  warnings.warn(\"No unit information found!\", RuntimeWarning)\n",
      "/home/juan/anaconda3/lib/python3.8/site-packages/pynbody/snapshot/gadgethdf.py:572: RuntimeWarning: No unit information found: using gadget-units.\n",
      "  warnings.warn(\n"
     ]
    },
    {
     "name": "stdout",
     "output_type": "stream",
     "text": [
      "working in snapshots number  500\n"
     ]
    },
    {
     "name": "stderr",
     "output_type": "stream",
     "text": [
      "<ipython-input-19-0c67cf86e750>:10: RuntimeWarning: divide by zero encountered in log10\n",
      "  plt.plot(bins, np.log10(dens), 'r.', label = 'h = {a:3.2f}'.format(a = R))\n"
     ]
    },
    {
     "data": {
      "image/png": "[encoded data removed]",
      "text/plain": [
       "<Figure size 432x288 with 1 Axes>"
      ]
     },
     "metadata": {
      "needs_background": "light"
     },
     "output_type": "display_data"
    }
   ],
   "source": [
    "# SOLO SE DEBE CORRER UNA VEZ (EVITE CORRERLO NUEVAMENTE)\n",
    "# Aca se repite exactamente el mismo proceso para compilar los datos para el otro diccionario para las \n",
    "# simulaciones de galaxias antiguas, el proceso es exactamente el mismo, solo se deben cambiar los valores de los\n",
    "# snaps de acuerdo a la informacion que se tenga.\n",
    "\n",
    "#super_dict_old = {}\n",
    "#for gal in ['G0','G1']:\n",
    "    #super_dict_old[gal] = compile_data(data_viejo,gal,minsnap=100,maxsnap=600,stepsnap=200)\n",
    "\n",
    "# Se repite el proceso para el otro conjunto de datos, con las lineas siguientes se va a salvar el diccionario\n",
    "# de los datos antiguos, con el nombre que se desee, en este caso quedo como 'compilation_old'\n",
    "\n",
    "#file = open('diccionarios_nuevos/compilation_old', 'wb')\n",
    "#pickle.dump(super_dict_old, file)\n",
    "#file.close()"
   ]
  },
  {
   "cell_type": "markdown",
   "metadata": {},
   "source": [
    "**Referencia**\n",
    "*Con el objetivo de comparar la informacion obtenida se anexa a continuacion una tabla donde se resume la informacion del documento que se tomo como referencia para estos datos, para mas informacion puede consultar el siguiente [enlace](https://ui.adsabs.harvard.edu/abs/2010MNRAS.403...17J/abstract)*\n",
    " \n",
    "\n",
    "Modelo | Masa Total [$M_\\odot$] | Masa barionica [$M_\\odot$] | Scale-length estrellas [kpc] | Scale-length gas [kpc] | Masa Gas [$M_\\odot$] | Vmax [km s$^{-1}$]\n",
    ":-------: | :----------: | :-------: | :-------: | :-------: | :-------: | :-------:\n",
    "G0 | 5.1 $\\cdot 10^{10}$ | $1.6 \\cdot 10^{9}$ | 1.1 | 3.3 | 6.08 $\\cdot 10^{8}$ | 67 \n",
    "G1 | $2 \\cdot 10^{11}$    | $7 \\cdot 10^{9}$ | 1.5 | 4.5 |  2.03 $\\cdot 10^{9}$| 103\n",
    "G2 | 5.1 $\\cdot 10^{11}$  | $1.98 \\cdot 10^{10}$ | 1.9 | 5.7 | 4.55 $\\cdot 10^{9}$ | 139\n",
    "G3 | 1.16 $\\cdot 10^{12}$ | $6.22 \\cdot 10^{10}$ | 2.8 | 8.4 | 1.24 $\\cdot 10^{10}$ | 192"
   ]
  },
  {
   "cell_type": "markdown",
   "metadata": {},
   "source": [
    "## Visualizacion de la informacion y generacion de los histogramas"
   ]
  },
  {
   "cell_type": "code",
   "execution_count": 9,
   "metadata": {},
   "outputs": [],
   "source": [
    "# Así lo leemos después de haberlo almacenado\n",
    "# Va a quedar importado en la variable 'super_dict'\n",
    "\n",
    "file = open('diccionarios_nuevos/compilation_new', 'rb')\n",
    "super_dict = pickle.load(file)\n",
    "file.close()"
   ]
  },
  {
   "cell_type": "code",
   "execution_count": 10,
   "metadata": {},
   "outputs": [],
   "source": [
    "# Así lo leemos después de haberlo almacenado\n",
    "# Va a quedar importado en la variable 'super_dict_old'\n",
    "\n",
    "file = open('diccionarios_nuevos/compilation_old', 'rb')\n",
    "super_dict_old = pickle.load(file)\n",
    "file.close()\n",
    "#Estas lineas que se agregan son necesarias porque el diccionario no tiene la informacion requerida para las \n",
    "#galaxias G2 y G3, por ende, se agregan como diccionarios vacios para no generar un error a la hora de aplicar\n",
    "#la funcion de graficas.\n",
    "super_dict_old['G2']={} \n",
    "super_dict_old['G3']={} "
   ]
  },
  {
   "cell_type": "code",
   "execution_count": 12,
   "metadata": {},
   "outputs": [
    {
     "name": "stderr",
     "output_type": "stream",
     "text": [
      "<ipython-input-8-c7c49814e34a>:5: DeprecationWarning: `np.float` is a deprecated alias for the builtin `float`. To silence this warning, use `float` by itself. Doing this will not modify any behavior and is safe. If you specifically wanted the numpy scalar type, use `np.float64` here.\n",
      "Deprecated in NumPy 1.20; for more details and guidance: https://numpy.org/devdocs/release/1.20.0-notes.html#deprecations\n",
      "  lista = [np.float(key) for key in dictionary.keys()]\n",
      "<ipython-input-8-c7c49814e34a>:5: DeprecationWarning: `np.float` is a deprecated alias for the builtin `float`. To silence this warning, use `float` by itself. Doing this will not modify any behavior and is safe. If you specifically wanted the numpy scalar type, use `np.float64` here.\n",
      "Deprecated in NumPy 1.20; for more details and guidance: https://numpy.org/devdocs/release/1.20.0-notes.html#deprecations\n",
      "  lista = [np.float(key) for key in dictionary.keys()]\n",
      "<ipython-input-8-c7c49814e34a>:5: DeprecationWarning: `np.float` is a deprecated alias for the builtin `float`. To silence this warning, use `float` by itself. Doing this will not modify any behavior and is safe. If you specifically wanted the numpy scalar type, use `np.float64` here.\n",
      "Deprecated in NumPy 1.20; for more details and guidance: https://numpy.org/devdocs/release/1.20.0-notes.html#deprecations\n",
      "  lista = [np.float(key) for key in dictionary.keys()]\n"
     ]
    },
    {
     "data": {
      "image/png": "[encoded data removed]",
      "text/plain": [
       "<Figure size 864x288 with 3 Axes>"
      ]
     },
     "metadata": {
      "needs_background": "light"
     },
     "output_type": "display_data"
    },
    {
     "data": {
      "image/png": "[encoded data removed]",
      "text/plain": [
       "<Figure size 864x288 with 3 Axes>"
      ]
     },
     "metadata": {
      "needs_background": "light"
     },
     "output_type": "display_data"
    },
    {
     "data": {
      "image/png": "[encoded data removed]",
      "text/plain": [
       "<Figure size 864x288 with 3 Axes>"
      ]
     },
     "metadata": {
      "needs_background": "light"
     },
     "output_type": "display_data"
    },
    {
     "data": {
      "image/png": "[encoded data removed]",
      "text/plain": [
       "<Figure size 864x288 with 3 Axes>"
      ]
     },
     "metadata": {
      "needs_background": "light"
     },
     "output_type": "display_data"
    }
   ],
   "source": [
    "# Con esta linea vamos a comparar los datos obtenidos para las galaxias de ambas bases de datos en una misma \n",
    "#grafica para esto nuevamente usaremos la funcion de show results y con esta, utilizaremos los dos\n",
    "# diccionarios en donde esta almacenada la informacion, con sus respectivos limites.\n",
    "for gal in galaxies:\n",
    "    show_results(super_dict[gal],super_dict_old[gal],gal)"
   ]
  },
  {
   "cell_type": "markdown",
   "metadata": {},
   "source": [
    "### Herramientas Adicionales"
   ]
  },
  {
   "cell_type": "code",
   "execution_count": 38,
   "metadata": {},
   "outputs": [],
   "source": [
    "#SI NO REQUIERE DE LAS VERIFICACIONES, SIMPLEMENTE FIJELAS COMO COMENTARIOS\n",
    "\n",
    "# Si se tiene duda de que el diccionario este efectivamente almacenado recurra a estas lineas, de lo contrario\n",
    "# dejelas como COMENTARIOS, la linea a utilizar dependera de la duda que se presente (ubique el diccionario\n",
    "# que le genera duda y corra esa linea)\n",
    "\n",
    "#print(super_dict)\n",
    "#print(super_dict_old)\n",
    "\n",
    "# Con esta linea puede ver el tamaño de los archivos almacenados en la carpeta en la que trabaje, identifique\n",
    "# que los tamaños de los diccionarios sea un valor logico\n",
    "# de lo contrario, fijelo como COMENTARIO\n",
    "\n",
    "#ls -lh\n",
    "\n",
    "#COn esta linea puede verificar las galaxias contenidas en el diccionario\n",
    "#print(super_dict.keys())\n",
    "\n",
    "#COn esta linea puede observar la informacion contenida en el diccionario para la galaxia que especifique\n",
    "#print(super_dict['G3'])"
   ]
  },
  {
   "cell_type": "code",
   "execution_count": 1,
   "metadata": {},
   "outputs": [],
   "source": [
    "si = {1,2,3,4}"
   ]
  },
  {
   "cell_type": "code",
   "execution_count": 2,
   "metadata": {},
   "outputs": [
    {
     "data": {
      "text/plain": [
       "set"
      ]
     },
     "execution_count": 2,
     "metadata": {},
     "output_type": "execute_result"
    }
   ],
   "source": [
    "type(si)"
   ]
  },
  {
   "cell_type": "code",
   "execution_count": null,
   "metadata": {},
   "outputs": [],
   "source": []
  }
 ],
 "metadata": {
  "kernelspec": {
   "display_name": "Python 3",
   "language": "python",
   "name": "python3"
  },
  "language_info": {
   "codemirror_mode": {
    "name": "ipython",
    "version": 3
   },
   "file_extension": ".py",
   "mimetype": "text/x-python",
   "name": "python",
   "nbconvert_exporter": "python",
   "pygments_lexer": "ipython3",
   "version": "3.8.5"
  }
 },
 "nbformat": 4,
 "nbformat_minor": 4
}
